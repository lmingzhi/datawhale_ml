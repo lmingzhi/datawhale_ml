{
 "cells": [
  {
   "cell_type": "markdown",
   "metadata": {
    "toc": true
   },
   "source": [
    "<h1>Table of Contents<span class=\"tocSkip\"></span></h1>\n",
    "<div class=\"toc\"><ul class=\"toc-item\"><li><ul class=\"toc-item\"><li><span><a href=\"#import\" data-toc-modified-id=\"import-0.1\"><span class=\"toc-item-num\">0.1&nbsp;&nbsp;</span>import</a></span></li></ul></li><li><span><a href=\"#读取数据集\" data-toc-modified-id=\"读取数据集-1\"><span class=\"toc-item-num\">1&nbsp;&nbsp;</span>读取数据集</a></span></li><li><span><a href=\"#标准化处理\" data-toc-modified-id=\"标准化处理-2\"><span class=\"toc-item-num\">2&nbsp;&nbsp;</span>标准化处理</a></span></li><li><span><a href=\"#模型\" data-toc-modified-id=\"模型-3\"><span class=\"toc-item-num\">3&nbsp;&nbsp;</span>模型</a></span><ul class=\"toc-item\"><li><span><a href=\"#LogisticRegression\" data-toc-modified-id=\"LogisticRegression-3.1\"><span class=\"toc-item-num\">3.1&nbsp;&nbsp;</span>LogisticRegression</a></span></li><li><span><a href=\"#svm\" data-toc-modified-id=\"svm-3.2\"><span class=\"toc-item-num\">3.2&nbsp;&nbsp;</span>svm</a></span></li><li><span><a href=\"#DecisionTreeClassifier\" data-toc-modified-id=\"DecisionTreeClassifier-3.3\"><span class=\"toc-item-num\">3.3&nbsp;&nbsp;</span>DecisionTreeClassifier</a></span></li><li><span><a href=\"#RandomForestClassifier\" data-toc-modified-id=\"RandomForestClassifier-3.4\"><span class=\"toc-item-num\">3.4&nbsp;&nbsp;</span>RandomForestClassifier</a></span></li><li><span><a href=\"#XGBoost\" data-toc-modified-id=\"XGBoost-3.5\"><span class=\"toc-item-num\">3.5&nbsp;&nbsp;</span>XGBoost</a></span></li></ul></li><li><span><a href=\"#评分--混淆矩阵-&amp;-precision_score-&amp;-recall_score\" data-toc-modified-id=\"评分--混淆矩阵-&amp;-precision_score-&amp;-recall_score-4\"><span class=\"toc-item-num\">4&nbsp;&nbsp;</span>评分- 混淆矩阵 &amp; precision_score &amp; recall_score</a></span></li><li><span><a href=\"#评分表格\" data-toc-modified-id=\"评分表格-5\"><span class=\"toc-item-num\">5&nbsp;&nbsp;</span>评分表格</a></span><ul class=\"toc-item\"><li><span><a href=\"#计算评分\" data-toc-modified-id=\"计算评分-5.1\"><span class=\"toc-item-num\">5.1&nbsp;&nbsp;</span>计算评分</a></span></li><li><span><a href=\"#ROC曲线\" data-toc-modified-id=\"ROC曲线-5.2\"><span class=\"toc-item-num\">5.2&nbsp;&nbsp;</span>ROC曲线</a></span><ul class=\"toc-item\"><li><span><a href=\"#LR\" data-toc-modified-id=\"LR-5.2.1\"><span class=\"toc-item-num\">5.2.1&nbsp;&nbsp;</span>LR</a></span></li><li><span><a href=\"#SVM\" data-toc-modified-id=\"SVM-5.2.2\"><span class=\"toc-item-num\">5.2.2&nbsp;&nbsp;</span>SVM</a></span></li><li><span><a href=\"#DecisionTree\" data-toc-modified-id=\"DecisionTree-5.2.3\"><span class=\"toc-item-num\">5.2.3&nbsp;&nbsp;</span>DecisionTree</a></span></li><li><span><a href=\"#RondomForest\" data-toc-modified-id=\"RondomForest-5.2.4\"><span class=\"toc-item-num\">5.2.4&nbsp;&nbsp;</span>RondomForest</a></span></li><li><span><a href=\"#XGboost\" data-toc-modified-id=\"XGboost-5.2.5\"><span class=\"toc-item-num\">5.2.5&nbsp;&nbsp;</span>XGboost</a></span></li></ul></li></ul></li><li><span><a href=\"#结果汇总\" data-toc-modified-id=\"结果汇总-6\"><span class=\"toc-item-num\">6&nbsp;&nbsp;</span>结果汇总</a></span><ul class=\"toc-item\"><li><span><a href=\"#汇总\" data-toc-modified-id=\"汇总-6.1\"><span class=\"toc-item-num\">6.1&nbsp;&nbsp;</span>汇总</a></span></li><li><span><a href=\"#计算评分\" data-toc-modified-id=\"计算评分-6.2\"><span class=\"toc-item-num\">6.2&nbsp;&nbsp;</span>计算评分</a></span></li><li><span><a href=\"#输出\" data-toc-modified-id=\"输出-6.3\"><span class=\"toc-item-num\">6.3&nbsp;&nbsp;</span>输出</a></span></li></ul></li></ul></div>"
   ]
  },
  {
   "cell_type": "markdown",
   "metadata": {},
   "source": [
    "任务5：使用网格搜索法对5个模型进行调优（调参时采用五折交叉验证的方式），并进行模型评估，记得展示代码的运行结果。 \n",
    "\n",
    "时间：2天"
   ]
  },
  {
   "cell_type": "markdown",
   "metadata": {},
   "source": [
    "## import"
   ]
  },
  {
   "cell_type": "code",
   "execution_count": 1,
   "metadata": {
    "ExecuteTime": {
     "end_time": "2019-08-19T06:25:15.198074Z",
     "start_time": "2019-08-19T06:25:14.580819Z"
    }
   },
   "outputs": [],
   "source": [
    "import json, io, re, os, time\n",
    "from datetime import datetime, timedelta\n",
    "from pandas.io.json import json_normalize\n",
    "import pandas as pd\n",
    "import numpy as np"
   ]
  },
  {
   "cell_type": "code",
   "execution_count": 2,
   "metadata": {
    "ExecuteTime": {
     "end_time": "2019-08-19T06:25:16.306909Z",
     "start_time": "2019-08-19T06:25:15.699550Z"
    }
   },
   "outputs": [],
   "source": [
    "import matplotlib.pyplot as plt\n",
    "import seaborn\n",
    "\n",
    "from collections import defaultdict, Counter\n",
    "%matplotlib inline"
   ]
  },
  {
   "cell_type": "code",
   "execution_count": 3,
   "metadata": {
    "ExecuteTime": {
     "end_time": "2019-08-19T06:25:16.764110Z",
     "start_time": "2019-08-19T06:25:16.761198Z"
    }
   },
   "outputs": [],
   "source": [
    "# 设置显示行数\n",
    "pd.set_option('display.max_rows', 100)\n",
    "pd.set_option('display.max_columns', 100)"
   ]
  },
  {
   "cell_type": "code",
   "execution_count": 4,
   "metadata": {
    "ExecuteTime": {
     "end_time": "2019-08-19T06:25:17.885017Z",
     "start_time": "2019-08-19T06:25:17.137234Z"
    }
   },
   "outputs": [],
   "source": [
    "import numpy as np\n",
    "import pandas as pd\n",
    "import pandas_profiling\n",
    "\n",
    "# df.profile_report(style={'full_width':True})"
   ]
  },
  {
   "cell_type": "markdown",
   "metadata": {},
   "source": [
    "# 读取数据集\n",
    "\n",
    "经过前续处理缺失值后和特征选择后"
   ]
  },
  {
   "cell_type": "code",
   "execution_count": 5,
   "metadata": {
    "ExecuteTime": {
     "end_time": "2019-08-19T06:25:18.914377Z",
     "start_time": "2019-08-19T06:25:18.911552Z"
    }
   },
   "outputs": [],
   "source": [
    "# train_set.profile_report(style={'full_width':True})\n",
    "\n",
    "# consfin_avg_limit has 103 (3.1%) zeros\tZeros\n",
    "# consfin_credit_limit is highly correlated with consfin_avg_limit (ρ = 0.9054651558)\tRejected\n",
    "# consfin_max_limit has 103 (3.1%) zeros\tZeros\n",
    "# consume_mini_time_last_1_month has 1457 (43.8%) zeros\tZeros\n",
    "# consume_top_time_last_1_month has 712 (21.4%) zeros\tZeros\n",
    "# first_transaction_time_diff_day is highly correlated with first_transaction_day (ρ = 1)\tRejected\n",
    "# history_fail_fee has 202 (6.1%) zeros\tZeros\n",
    "# latest_one_month_fail has 2277 (68.5%) zeros\tZeros\n",
    "# latest_one_month_suc has 1810 (54.4%) zeros\tZeros\n",
    "# latest_query_day has 36 (1.1%) zeros\tZeros\n",
    "# latest_query_time_diff_day is highly correlated with latest_query_day (ρ = 0.9999831434)\tRejected\n",
    "# latest_six_month_loan has 52 (1.6%) zeros\tZeros\n",
    "# loans_avg_limit has 65 (2.0%) zeros\tZeros\n",
    "# loans_count is highly correlated with history_suc_fee (ρ = 0.9140065658)\tRejected\n",
    "# loans_credit_limit has 65 (2.0%) zeros\tZeros\n",
    "# loans_latest_time_diff_day is highly correlated with loans_latest_day (ρ = 0.9999793714)\tRejected\n",
    "# loans_max_limit has 65 (2.0%) zeros\tZeros\n",
    "# loans_overdue_count has 1098 (33.0%) zeros\tZeros\n",
    "# loans_score is highly correlated with apply_score (ρ = 0.9654417553)\tRejected\n",
    "# loans_settle_count is highly correlated with loans_count (ρ = 0.9762643316)\tRejected\n",
    "# max_cumulative_consume_later_1_month is highly skewed (γ1 = 26.38045116)\tSkewed\n",
    "# max_cumulative_consume_later_1_month has 346 (10.4%) zeros\tZeros\n",
    "# pawns_auctions_trusts_consume_last_1_month has 1617 (48.6%) zeros\tZeros\n",
    "# pawns_auctions_trusts_consume_last_6_month has 295 (8.9%) zeros\tZeros\n",
    "# repayment_capability is highly skewed (γ1 = 26.90108787)\tSkewed\n",
    "# take_amount_in_later_12_month_highest has 1092 (32.8%) zeros\tZeros\n",
    "# trans_amount_3_month is highly skewed (γ1 = 42.33606162)\tSkewed\n",
    "# trans_amount_3_month has 66 (2.0%) zeros\tZeros\n",
    "# trans_amount_increase_rate_lately is highly skewed (γ1 = 56.87152308)\tSkewed\n",
    "# trans_fail_top_count_enum_last_1_month has 966 (29.0%) zeros\tZeros\n",
    "# trans_fail_top_count_enum_last_6_month has 69 (2.1%) zeros\tZeros\n",
    "# trans_top_time_last_1_month is highly correlated with consume_top_time_last_1_month (ρ = 0.9222042013)\tRejected\n",
    "# trans_top_time_last_6_month is highly correlated with consume_top_time_last_6_month (ρ = 0.926644283)\tRejected\n"
   ]
  },
  {
   "cell_type": "code",
   "execution_count": 9,
   "metadata": {
    "ExecuteTime": {
     "end_time": "2019-08-19T06:25:37.288919Z",
     "start_time": "2019-08-19T06:25:37.284524Z"
    }
   },
   "outputs": [],
   "source": [
    "cols_left = ['trans_activity_month', 'trans_activity_day', 'rank_trad_1_month', \n",
    "             'top_trans_count_last_1_month', 'avg_price_top_last_12_valid_month', \n",
    "             'first_transaction_time_diff_day', 'latest_query_time_diff_day', \n",
    "             'loans_latest_time_diff_day', 'take_amount_in_later_12_month_highest', \n",
    "             'trans_amount_increase_rate_lately', 'transd_mcc', 'trans_days_interval_filter',\n",
    "             'trans_days_interval', 'repayment_capability', 'number_of_trans_from_2011', \n",
    "             'historical_trans_amount', 'historical_trans_day', 'trans_amount_3_month', \n",
    "             'abs', 'avg_price_last_12_month', 'trans_top_time_last_1_month', 'trans_top_time_last_6_month', \n",
    "             'consume_top_time_last_1_month', 'consume_top_time_last_6_month', \n",
    "             'trans_fail_top_count_enum_last_1_month', 'trans_fail_top_count_enum_last_6_month',\n",
    "             'trans_fail_top_count_enum_last_12_month', 'consume_mini_time_last_1_month', \n",
    "             'max_cumulative_consume_later_1_month', 'pawns_auctions_trusts_consume_last_1_month', \n",
    "             'pawns_auctions_trusts_consume_last_6_month', 'first_transaction_day', 'trans_day_last_12_month',\n",
    "             'apply_score', 'apply_credibility', 'query_sum_count', 'loans_score', 'loans_count', \n",
    "             'loans_settle_count', 'loans_overdue_count', 'latest_six_month_loan', 'history_suc_fee', \n",
    "             'history_fail_fee', 'latest_one_month_suc', 'latest_one_month_fail', 'loans_long_time', \n",
    "             'loans_credit_limit', 'loans_max_limit', 'loans_avg_limit', 'consfin_credit_limit', \n",
    "             'consfin_max_limit',\n",
    "             'consfin_avg_limit', 'latest_query_day', 'loans_latest_day',\n",
    "            'status']"
   ]
  },
  {
   "cell_type": "code",
   "execution_count": 10,
   "metadata": {
    "ExecuteTime": {
     "end_time": "2019-08-19T06:25:42.184943Z",
     "start_time": "2019-08-19T06:25:42.181889Z"
    }
   },
   "outputs": [],
   "source": [
    "for col in ['consfin_credit_limit',\n",
    " 'first_transaction_time_diff_day',\n",
    " 'latest_query_time_diff_day',\n",
    " 'loans_count',\n",
    " 'loans_latest_time_diff_day',\n",
    " 'loans_score',\n",
    " 'loans_settle_count',\n",
    " 'trans_top_time_last_1_month',\n",
    " 'trans_top_time_last_6_month']:\n",
    "    cols_left.remove(col)"
   ]
  },
  {
   "cell_type": "code",
   "execution_count": 12,
   "metadata": {
    "ExecuteTime": {
     "end_time": "2019-08-19T06:25:44.488376Z",
     "start_time": "2019-08-19T06:25:44.484040Z"
    }
   },
   "outputs": [
    {
     "data": {
      "text/plain": [
       "46"
      ]
     },
     "execution_count": 12,
     "metadata": {},
     "output_type": "execute_result"
    }
   ],
   "source": [
    "len(cols_left)"
   ]
  },
  {
   "cell_type": "code",
   "execution_count": 13,
   "metadata": {
    "ExecuteTime": {
     "end_time": "2019-08-19T06:25:49.470219Z",
     "start_time": "2019-08-19T06:25:49.407109Z"
    }
   },
   "outputs": [],
   "source": [
    "train_set = pd.read_csv('train_set.csv', usecols = cols_left )\n",
    "test_set = pd.read_csv('test_set.csv', usecols = cols_left)"
   ]
  },
  {
   "cell_type": "code",
   "execution_count": 14,
   "metadata": {
    "ExecuteTime": {
     "end_time": "2019-08-19T06:25:49.937351Z",
     "start_time": "2019-08-19T06:25:49.935375Z"
    }
   },
   "outputs": [],
   "source": [
    "# profile = x_train.profile_report()\n",
    "# rejected_variables = profile.get_rejected_variables(threshold=0.9)"
   ]
  },
  {
   "cell_type": "code",
   "execution_count": 15,
   "metadata": {
    "ExecuteTime": {
     "end_time": "2019-08-19T06:25:50.381078Z",
     "start_time": "2019-08-19T06:25:50.342782Z"
    }
   },
   "outputs": [
    {
     "data": {
      "text/html": [
       "<div>\n",
       "<style scoped>\n",
       "    .dataframe tbody tr th:only-of-type {\n",
       "        vertical-align: middle;\n",
       "    }\n",
       "\n",
       "    .dataframe tbody tr th {\n",
       "        vertical-align: top;\n",
       "    }\n",
       "\n",
       "    .dataframe thead th {\n",
       "        text-align: right;\n",
       "    }\n",
       "</style>\n",
       "<table border=\"1\" class=\"dataframe\">\n",
       "  <thead>\n",
       "    <tr style=\"text-align: right;\">\n",
       "      <th></th>\n",
       "      <th>trans_activity_month</th>\n",
       "      <th>trans_activity_day</th>\n",
       "      <th>rank_trad_1_month</th>\n",
       "      <th>top_trans_count_last_1_month</th>\n",
       "      <th>avg_price_top_last_12_valid_month</th>\n",
       "      <th>take_amount_in_later_12_month_highest</th>\n",
       "      <th>trans_amount_increase_rate_lately</th>\n",
       "      <th>transd_mcc</th>\n",
       "      <th>trans_days_interval_filter</th>\n",
       "      <th>trans_days_interval</th>\n",
       "      <th>repayment_capability</th>\n",
       "      <th>number_of_trans_from_2011</th>\n",
       "      <th>historical_trans_amount</th>\n",
       "      <th>historical_trans_day</th>\n",
       "      <th>trans_amount_3_month</th>\n",
       "      <th>abs</th>\n",
       "      <th>avg_price_last_12_month</th>\n",
       "      <th>consume_top_time_last_1_month</th>\n",
       "      <th>consume_top_time_last_6_month</th>\n",
       "      <th>trans_fail_top_count_enum_last_1_month</th>\n",
       "      <th>trans_fail_top_count_enum_last_6_month</th>\n",
       "      <th>trans_fail_top_count_enum_last_12_month</th>\n",
       "      <th>consume_mini_time_last_1_month</th>\n",
       "      <th>max_cumulative_consume_later_1_month</th>\n",
       "      <th>pawns_auctions_trusts_consume_last_1_month</th>\n",
       "      <th>pawns_auctions_trusts_consume_last_6_month</th>\n",
       "      <th>first_transaction_day</th>\n",
       "      <th>trans_day_last_12_month</th>\n",
       "      <th>apply_score</th>\n",
       "      <th>apply_credibility</th>\n",
       "      <th>query_sum_count</th>\n",
       "      <th>loans_overdue_count</th>\n",
       "      <th>latest_six_month_loan</th>\n",
       "      <th>history_suc_fee</th>\n",
       "      <th>history_fail_fee</th>\n",
       "      <th>latest_one_month_suc</th>\n",
       "      <th>latest_one_month_fail</th>\n",
       "      <th>loans_long_time</th>\n",
       "      <th>loans_credit_limit</th>\n",
       "      <th>loans_max_limit</th>\n",
       "      <th>loans_avg_limit</th>\n",
       "      <th>consfin_max_limit</th>\n",
       "      <th>consfin_avg_limit</th>\n",
       "      <th>latest_query_day</th>\n",
       "      <th>loans_latest_day</th>\n",
       "      <th>status</th>\n",
       "    </tr>\n",
       "  </thead>\n",
       "  <tbody>\n",
       "    <tr>\n",
       "      <th>0</th>\n",
       "      <td>0.83</td>\n",
       "      <td>0.136</td>\n",
       "      <td>1.00</td>\n",
       "      <td>1.00</td>\n",
       "      <td>0.45</td>\n",
       "      <td>300</td>\n",
       "      <td>0.99</td>\n",
       "      <td>13.0</td>\n",
       "      <td>127.0</td>\n",
       "      <td>95.0</td>\n",
       "      <td>10480</td>\n",
       "      <td>10.0</td>\n",
       "      <td>33830</td>\n",
       "      <td>41.0</td>\n",
       "      <td>4260</td>\n",
       "      <td>830</td>\n",
       "      <td>1300</td>\n",
       "      <td>0.0</td>\n",
       "      <td>15.0</td>\n",
       "      <td>3.0</td>\n",
       "      <td>4.0</td>\n",
       "      <td>4.0</td>\n",
       "      <td>0.0</td>\n",
       "      <td>0</td>\n",
       "      <td>0</td>\n",
       "      <td>6160</td>\n",
       "      <td>434.0</td>\n",
       "      <td>93.0</td>\n",
       "      <td>530.0</td>\n",
       "      <td>78.0</td>\n",
       "      <td>12.0</td>\n",
       "      <td>2.0</td>\n",
       "      <td>3.0</td>\n",
       "      <td>16.0</td>\n",
       "      <td>10.0</td>\n",
       "      <td>0.0</td>\n",
       "      <td>0.0</td>\n",
       "      <td>302.0</td>\n",
       "      <td>2400.0</td>\n",
       "      <td>2800.0</td>\n",
       "      <td>2400.0</td>\n",
       "      <td>0.0</td>\n",
       "      <td>0.0</td>\n",
       "      <td>12.0</td>\n",
       "      <td>164.0</td>\n",
       "      <td>0</td>\n",
       "    </tr>\n",
       "    <tr>\n",
       "      <th>1</th>\n",
       "      <td>1.00</td>\n",
       "      <td>0.438</td>\n",
       "      <td>0.30</td>\n",
       "      <td>0.10</td>\n",
       "      <td>0.55</td>\n",
       "      <td>1500</td>\n",
       "      <td>0.72</td>\n",
       "      <td>14.0</td>\n",
       "      <td>6.0</td>\n",
       "      <td>6.0</td>\n",
       "      <td>15790</td>\n",
       "      <td>6.0</td>\n",
       "      <td>100060</td>\n",
       "      <td>79.0</td>\n",
       "      <td>28580</td>\n",
       "      <td>10550</td>\n",
       "      <td>1040</td>\n",
       "      <td>9.0</td>\n",
       "      <td>9.0</td>\n",
       "      <td>2.0</td>\n",
       "      <td>3.0</td>\n",
       "      <td>3.0</td>\n",
       "      <td>267070.0</td>\n",
       "      <td>2800</td>\n",
       "      <td>0</td>\n",
       "      <td>4350</td>\n",
       "      <td>238.0</td>\n",
       "      <td>82.0</td>\n",
       "      <td>545.0</td>\n",
       "      <td>79.0</td>\n",
       "      <td>22.0</td>\n",
       "      <td>2.0</td>\n",
       "      <td>27.0</td>\n",
       "      <td>62.0</td>\n",
       "      <td>19.0</td>\n",
       "      <td>4.0</td>\n",
       "      <td>0.0</td>\n",
       "      <td>351.0</td>\n",
       "      <td>2100.0</td>\n",
       "      <td>4000.0</td>\n",
       "      <td>1992.0</td>\n",
       "      <td>18000.0</td>\n",
       "      <td>7600.0</td>\n",
       "      <td>2.0</td>\n",
       "      <td>2.0</td>\n",
       "      <td>0</td>\n",
       "    </tr>\n",
       "    <tr>\n",
       "      <th>2</th>\n",
       "      <td>0.83</td>\n",
       "      <td>0.486</td>\n",
       "      <td>0.25</td>\n",
       "      <td>0.05</td>\n",
       "      <td>0.50</td>\n",
       "      <td>500</td>\n",
       "      <td>0.98</td>\n",
       "      <td>22.0</td>\n",
       "      <td>23.0</td>\n",
       "      <td>15.0</td>\n",
       "      <td>14050</td>\n",
       "      <td>70.0</td>\n",
       "      <td>302720</td>\n",
       "      <td>359.0</td>\n",
       "      <td>63600</td>\n",
       "      <td>650</td>\n",
       "      <td>1140</td>\n",
       "      <td>10.0</td>\n",
       "      <td>15.0</td>\n",
       "      <td>2.0</td>\n",
       "      <td>10.0</td>\n",
       "      <td>10.0</td>\n",
       "      <td>852.0</td>\n",
       "      <td>2390</td>\n",
       "      <td>1160</td>\n",
       "      <td>52310</td>\n",
       "      <td>2631.0</td>\n",
       "      <td>82.0</td>\n",
       "      <td>524.0</td>\n",
       "      <td>80.0</td>\n",
       "      <td>24.0</td>\n",
       "      <td>9.0</td>\n",
       "      <td>14.0</td>\n",
       "      <td>64.0</td>\n",
       "      <td>42.0</td>\n",
       "      <td>1.0</td>\n",
       "      <td>0.0</td>\n",
       "      <td>354.0</td>\n",
       "      <td>2100.0</td>\n",
       "      <td>3700.0</td>\n",
       "      <td>1725.0</td>\n",
       "      <td>12000.0</td>\n",
       "      <td>8614.0</td>\n",
       "      <td>6.0</td>\n",
       "      <td>67.0</td>\n",
       "      <td>0</td>\n",
       "    </tr>\n",
       "    <tr>\n",
       "      <th>3</th>\n",
       "      <td>0.68</td>\n",
       "      <td>0.555</td>\n",
       "      <td>0.20</td>\n",
       "      <td>0.05</td>\n",
       "      <td>0.50</td>\n",
       "      <td>0</td>\n",
       "      <td>0.82</td>\n",
       "      <td>18.0</td>\n",
       "      <td>7.0</td>\n",
       "      <td>7.0</td>\n",
       "      <td>11880</td>\n",
       "      <td>26.0</td>\n",
       "      <td>367680</td>\n",
       "      <td>267.0</td>\n",
       "      <td>64150</td>\n",
       "      <td>6260</td>\n",
       "      <td>1090</td>\n",
       "      <td>7.0</td>\n",
       "      <td>7.0</td>\n",
       "      <td>2.0</td>\n",
       "      <td>2.0</td>\n",
       "      <td>5.0</td>\n",
       "      <td>501194.0</td>\n",
       "      <td>2030</td>\n",
       "      <td>1230</td>\n",
       "      <td>43930</td>\n",
       "      <td>1229.0</td>\n",
       "      <td>82.0</td>\n",
       "      <td>540.0</td>\n",
       "      <td>78.0</td>\n",
       "      <td>7.0</td>\n",
       "      <td>1.0</td>\n",
       "      <td>6.0</td>\n",
       "      <td>47.0</td>\n",
       "      <td>3.0</td>\n",
       "      <td>0.0</td>\n",
       "      <td>0.0</td>\n",
       "      <td>348.0</td>\n",
       "      <td>1600.0</td>\n",
       "      <td>2300.0</td>\n",
       "      <td>1362.0</td>\n",
       "      <td>13200.0</td>\n",
       "      <td>8800.0</td>\n",
       "      <td>25.0</td>\n",
       "      <td>110.0</td>\n",
       "      <td>0</td>\n",
       "    </tr>\n",
       "    <tr>\n",
       "      <th>4</th>\n",
       "      <td>0.88</td>\n",
       "      <td>0.136</td>\n",
       "      <td>1.00</td>\n",
       "      <td>1.00</td>\n",
       "      <td>0.60</td>\n",
       "      <td>500</td>\n",
       "      <td>4.24</td>\n",
       "      <td>15.0</td>\n",
       "      <td>81.0</td>\n",
       "      <td>36.0</td>\n",
       "      <td>11010</td>\n",
       "      <td>21.0</td>\n",
       "      <td>30610</td>\n",
       "      <td>71.0</td>\n",
       "      <td>3000</td>\n",
       "      <td>550</td>\n",
       "      <td>570</td>\n",
       "      <td>0.0</td>\n",
       "      <td>22.0</td>\n",
       "      <td>8.0</td>\n",
       "      <td>8.0</td>\n",
       "      <td>8.0</td>\n",
       "      <td>0.0</td>\n",
       "      <td>0</td>\n",
       "      <td>0</td>\n",
       "      <td>8270</td>\n",
       "      <td>871.0</td>\n",
       "      <td>141.0</td>\n",
       "      <td>533.0</td>\n",
       "      <td>79.0</td>\n",
       "      <td>8.0</td>\n",
       "      <td>5.0</td>\n",
       "      <td>6.0</td>\n",
       "      <td>5.0</td>\n",
       "      <td>130.0</td>\n",
       "      <td>0.0</td>\n",
       "      <td>12.0</td>\n",
       "      <td>318.0</td>\n",
       "      <td>1200.0</td>\n",
       "      <td>1200.0</td>\n",
       "      <td>1200.0</td>\n",
       "      <td>2400.0</td>\n",
       "      <td>1466.0</td>\n",
       "      <td>23.0</td>\n",
       "      <td>91.0</td>\n",
       "      <td>1</td>\n",
       "    </tr>\n",
       "  </tbody>\n",
       "</table>\n",
       "</div>"
      ],
      "text/plain": [
       "   trans_activity_month  trans_activity_day  rank_trad_1_month  \\\n",
       "0                  0.83               0.136               1.00   \n",
       "1                  1.00               0.438               0.30   \n",
       "2                  0.83               0.486               0.25   \n",
       "3                  0.68               0.555               0.20   \n",
       "4                  0.88               0.136               1.00   \n",
       "\n",
       "   top_trans_count_last_1_month  avg_price_top_last_12_valid_month  \\\n",
       "0                          1.00                               0.45   \n",
       "1                          0.10                               0.55   \n",
       "2                          0.05                               0.50   \n",
       "3                          0.05                               0.50   \n",
       "4                          1.00                               0.60   \n",
       "\n",
       "   take_amount_in_later_12_month_highest  trans_amount_increase_rate_lately  \\\n",
       "0                                    300                               0.99   \n",
       "1                                   1500                               0.72   \n",
       "2                                    500                               0.98   \n",
       "3                                      0                               0.82   \n",
       "4                                    500                               4.24   \n",
       "\n",
       "   transd_mcc  trans_days_interval_filter  trans_days_interval  \\\n",
       "0        13.0                       127.0                 95.0   \n",
       "1        14.0                         6.0                  6.0   \n",
       "2        22.0                        23.0                 15.0   \n",
       "3        18.0                         7.0                  7.0   \n",
       "4        15.0                        81.0                 36.0   \n",
       "\n",
       "   repayment_capability  number_of_trans_from_2011  historical_trans_amount  \\\n",
       "0                 10480                       10.0                    33830   \n",
       "1                 15790                        6.0                   100060   \n",
       "2                 14050                       70.0                   302720   \n",
       "3                 11880                       26.0                   367680   \n",
       "4                 11010                       21.0                    30610   \n",
       "\n",
       "   historical_trans_day  trans_amount_3_month    abs  avg_price_last_12_month  \\\n",
       "0                  41.0                  4260    830                     1300   \n",
       "1                  79.0                 28580  10550                     1040   \n",
       "2                 359.0                 63600    650                     1140   \n",
       "3                 267.0                 64150   6260                     1090   \n",
       "4                  71.0                  3000    550                      570   \n",
       "\n",
       "   consume_top_time_last_1_month  consume_top_time_last_6_month  \\\n",
       "0                            0.0                           15.0   \n",
       "1                            9.0                            9.0   \n",
       "2                           10.0                           15.0   \n",
       "3                            7.0                            7.0   \n",
       "4                            0.0                           22.0   \n",
       "\n",
       "   trans_fail_top_count_enum_last_1_month  \\\n",
       "0                                     3.0   \n",
       "1                                     2.0   \n",
       "2                                     2.0   \n",
       "3                                     2.0   \n",
       "4                                     8.0   \n",
       "\n",
       "   trans_fail_top_count_enum_last_6_month  \\\n",
       "0                                     4.0   \n",
       "1                                     3.0   \n",
       "2                                    10.0   \n",
       "3                                     2.0   \n",
       "4                                     8.0   \n",
       "\n",
       "   trans_fail_top_count_enum_last_12_month  consume_mini_time_last_1_month  \\\n",
       "0                                      4.0                             0.0   \n",
       "1                                      3.0                        267070.0   \n",
       "2                                     10.0                           852.0   \n",
       "3                                      5.0                        501194.0   \n",
       "4                                      8.0                             0.0   \n",
       "\n",
       "   max_cumulative_consume_later_1_month  \\\n",
       "0                                     0   \n",
       "1                                  2800   \n",
       "2                                  2390   \n",
       "3                                  2030   \n",
       "4                                     0   \n",
       "\n",
       "   pawns_auctions_trusts_consume_last_1_month  \\\n",
       "0                                           0   \n",
       "1                                           0   \n",
       "2                                        1160   \n",
       "3                                        1230   \n",
       "4                                           0   \n",
       "\n",
       "   pawns_auctions_trusts_consume_last_6_month  first_transaction_day  \\\n",
       "0                                        6160                  434.0   \n",
       "1                                        4350                  238.0   \n",
       "2                                       52310                 2631.0   \n",
       "3                                       43930                 1229.0   \n",
       "4                                        8270                  871.0   \n",
       "\n",
       "   trans_day_last_12_month  apply_score  apply_credibility  query_sum_count  \\\n",
       "0                     93.0        530.0               78.0             12.0   \n",
       "1                     82.0        545.0               79.0             22.0   \n",
       "2                     82.0        524.0               80.0             24.0   \n",
       "3                     82.0        540.0               78.0              7.0   \n",
       "4                    141.0        533.0               79.0              8.0   \n",
       "\n",
       "   loans_overdue_count  latest_six_month_loan  history_suc_fee  \\\n",
       "0                  2.0                    3.0             16.0   \n",
       "1                  2.0                   27.0             62.0   \n",
       "2                  9.0                   14.0             64.0   \n",
       "3                  1.0                    6.0             47.0   \n",
       "4                  5.0                    6.0              5.0   \n",
       "\n",
       "   history_fail_fee  latest_one_month_suc  latest_one_month_fail  \\\n",
       "0              10.0                   0.0                    0.0   \n",
       "1              19.0                   4.0                    0.0   \n",
       "2              42.0                   1.0                    0.0   \n",
       "3               3.0                   0.0                    0.0   \n",
       "4             130.0                   0.0                   12.0   \n",
       "\n",
       "   loans_long_time  loans_credit_limit  loans_max_limit  loans_avg_limit  \\\n",
       "0            302.0              2400.0           2800.0           2400.0   \n",
       "1            351.0              2100.0           4000.0           1992.0   \n",
       "2            354.0              2100.0           3700.0           1725.0   \n",
       "3            348.0              1600.0           2300.0           1362.0   \n",
       "4            318.0              1200.0           1200.0           1200.0   \n",
       "\n",
       "   consfin_max_limit  consfin_avg_limit  latest_query_day  loans_latest_day  \\\n",
       "0                0.0                0.0              12.0             164.0   \n",
       "1            18000.0             7600.0               2.0               2.0   \n",
       "2            12000.0             8614.0               6.0              67.0   \n",
       "3            13200.0             8800.0              25.0             110.0   \n",
       "4             2400.0             1466.0              23.0              91.0   \n",
       "\n",
       "   status  \n",
       "0       0  \n",
       "1       0  \n",
       "2       0  \n",
       "3       0  \n",
       "4       1  "
      ]
     },
     "execution_count": 15,
     "metadata": {},
     "output_type": "execute_result"
    }
   ],
   "source": [
    "train_set.head()"
   ]
  },
  {
   "cell_type": "code",
   "execution_count": 16,
   "metadata": {
    "ExecuteTime": {
     "end_time": "2019-08-19T06:25:52.080680Z",
     "start_time": "2019-08-19T06:25:52.077356Z"
    }
   },
   "outputs": [
    {
     "data": {
      "text/plain": [
       "(3326, 46)"
      ]
     },
     "execution_count": 16,
     "metadata": {},
     "output_type": "execute_result"
    }
   ],
   "source": [
    "train_set.shape"
   ]
  },
  {
   "cell_type": "code",
   "execution_count": 17,
   "metadata": {
    "ExecuteTime": {
     "end_time": "2019-08-19T06:25:53.066673Z",
     "start_time": "2019-08-19T06:25:53.063147Z"
    }
   },
   "outputs": [
    {
     "data": {
      "text/plain": [
       "(1426, 46)"
      ]
     },
     "execution_count": 17,
     "metadata": {},
     "output_type": "execute_result"
    }
   ],
   "source": [
    "test_set.shape"
   ]
  },
  {
   "cell_type": "code",
   "execution_count": 18,
   "metadata": {
    "ExecuteTime": {
     "end_time": "2019-08-19T06:25:54.614390Z",
     "start_time": "2019-08-19T06:25:54.612055Z"
    }
   },
   "outputs": [],
   "source": [
    "# 逻辑回归\n",
    "# svm\n",
    "# 决策树\n",
    "# 随机森林\n",
    "# XGBoost"
   ]
  },
  {
   "cell_type": "code",
   "execution_count": 19,
   "metadata": {
    "ExecuteTime": {
     "end_time": "2019-08-19T06:25:55.293519Z",
     "start_time": "2019-08-19T06:25:55.291005Z"
    }
   },
   "outputs": [],
   "source": [
    "cols_0_to_1 =  ['low_volume_percent',\n",
    " 'middle_volume_percent',\n",
    " 'trans_activity_month',\n",
    " 'trans_activity_day',\n",
    " 'rank_trad_1_month',\n",
    " 'top_trans_count_last_1_month',\n",
    " 'avg_price_top_last_12_valid_month']"
   ]
  },
  {
   "cell_type": "code",
   "execution_count": 20,
   "metadata": {
    "ExecuteTime": {
     "end_time": "2019-08-19T06:25:55.603322Z",
     "start_time": "2019-08-19T06:25:55.600399Z"
    }
   },
   "outputs": [],
   "source": [
    "cols_catg = ['regional_mobility',\n",
    " 'student_feature',\n",
    " 'is_high_user',\n",
    " 'reg_preference_for_trad']"
   ]
  },
  {
   "cell_type": "code",
   "execution_count": 21,
   "metadata": {
    "ExecuteTime": {
     "end_time": "2019-08-19T06:25:56.162427Z",
     "start_time": "2019-08-19T06:25:56.158510Z"
    }
   },
   "outputs": [
    {
     "data": {
      "text/plain": [
       "Index(['trans_activity_month', 'trans_activity_day', 'rank_trad_1_month',\n",
       "       'top_trans_count_last_1_month', 'avg_price_top_last_12_valid_month',\n",
       "       'take_amount_in_later_12_month_highest',\n",
       "       'trans_amount_increase_rate_lately', 'transd_mcc',\n",
       "       'trans_days_interval_filter', 'trans_days_interval',\n",
       "       'repayment_capability', 'number_of_trans_from_2011',\n",
       "       'historical_trans_amount', 'historical_trans_day',\n",
       "       'trans_amount_3_month', 'abs', 'avg_price_last_12_month',\n",
       "       'consume_top_time_last_1_month', 'consume_top_time_last_6_month',\n",
       "       'trans_fail_top_count_enum_last_1_month',\n",
       "       'trans_fail_top_count_enum_last_6_month',\n",
       "       'trans_fail_top_count_enum_last_12_month',\n",
       "       'consume_mini_time_last_1_month',\n",
       "       'max_cumulative_consume_later_1_month',\n",
       "       'pawns_auctions_trusts_consume_last_1_month',\n",
       "       'pawns_auctions_trusts_consume_last_6_month', 'first_transaction_day',\n",
       "       'trans_day_last_12_month', 'apply_score', 'apply_credibility',\n",
       "       'query_sum_count', 'loans_overdue_count', 'latest_six_month_loan',\n",
       "       'history_suc_fee', 'history_fail_fee', 'latest_one_month_suc',\n",
       "       'latest_one_month_fail', 'loans_long_time', 'loans_credit_limit',\n",
       "       'loans_max_limit', 'loans_avg_limit', 'consfin_max_limit',\n",
       "       'consfin_avg_limit', 'latest_query_day', 'loans_latest_day', 'status'],\n",
       "      dtype='object')"
      ]
     },
     "execution_count": 21,
     "metadata": {},
     "output_type": "execute_result"
    }
   ],
   "source": [
    "train_set.columns"
   ]
  },
  {
   "cell_type": "code",
   "execution_count": null,
   "metadata": {},
   "outputs": [],
   "source": []
  },
  {
   "cell_type": "markdown",
   "metadata": {},
   "source": [
    "# 标准化处理"
   ]
  },
  {
   "cell_type": "code",
   "execution_count": 22,
   "metadata": {
    "ExecuteTime": {
     "end_time": "2019-08-19T06:25:58.754713Z",
     "start_time": "2019-08-19T06:25:58.566436Z"
    }
   },
   "outputs": [],
   "source": [
    "from sklearn.preprocessing import StandardScaler"
   ]
  },
  {
   "cell_type": "code",
   "execution_count": 23,
   "metadata": {
    "ExecuteTime": {
     "end_time": "2019-08-19T06:25:58.979157Z",
     "start_time": "2019-08-19T06:25:58.973497Z"
    }
   },
   "outputs": [],
   "source": [
    "x_train, y_train = train_set.iloc[:, :-1], train_set['status']\n",
    "x_test, y_test = test_set.iloc[:, :-1], test_set['status']"
   ]
  },
  {
   "cell_type": "code",
   "execution_count": 24,
   "metadata": {
    "ExecuteTime": {
     "end_time": "2019-08-19T06:25:59.408346Z",
     "start_time": "2019-08-19T06:25:59.405645Z"
    }
   },
   "outputs": [],
   "source": [
    "features = x_train.columns"
   ]
  },
  {
   "cell_type": "code",
   "execution_count": 25,
   "metadata": {
    "ExecuteTime": {
     "end_time": "2019-08-19T06:25:59.802524Z",
     "start_time": "2019-08-19T06:25:59.788529Z"
    }
   },
   "outputs": [
    {
     "name": "stderr",
     "output_type": "stream",
     "text": [
      "/Users/lmingzhi/miniconda3/lib/python3.7/site-packages/sklearn/preprocessing/data.py:645: DataConversionWarning: Data with input dtype int64, float64 were all converted to float64 by StandardScaler.\n",
      "  return self.partial_fit(X, y)\n",
      "/Users/lmingzhi/miniconda3/lib/python3.7/site-packages/sklearn/base.py:464: DataConversionWarning: Data with input dtype int64, float64 were all converted to float64 by StandardScaler.\n",
      "  return self.fit(X, **fit_params).transform(X)\n"
     ]
    }
   ],
   "source": [
    "scaler = StandardScaler()\n",
    "x_train_scale = scaler.fit_transform(x_train)"
   ]
  },
  {
   "cell_type": "code",
   "execution_count": 26,
   "metadata": {
    "ExecuteTime": {
     "end_time": "2019-08-19T06:26:00.227052Z",
     "start_time": "2019-08-19T06:26:00.221562Z"
    }
   },
   "outputs": [
    {
     "name": "stderr",
     "output_type": "stream",
     "text": [
      "/Users/lmingzhi/miniconda3/lib/python3.7/site-packages/ipykernel_launcher.py:1: DataConversionWarning: Data with input dtype int64, float64 were all converted to float64 by StandardScaler.\n",
      "  \"\"\"Entry point for launching an IPython kernel.\n"
     ]
    }
   ],
   "source": [
    "x_test_scale = scaler.transform(x_test)"
   ]
  },
  {
   "cell_type": "code",
   "execution_count": 27,
   "metadata": {
    "ExecuteTime": {
     "end_time": "2019-08-19T06:26:07.706489Z",
     "start_time": "2019-08-19T06:26:07.702765Z"
    }
   },
   "outputs": [],
   "source": [
    "x_train = pd.DataFrame(x_train_scale, columns=x_train.columns)\n",
    "x_test = pd.DataFrame(x_test_scale, columns=x_test.columns)"
   ]
  },
  {
   "cell_type": "code",
   "execution_count": 28,
   "metadata": {
    "ExecuteTime": {
     "end_time": "2019-08-19T06:26:09.067405Z",
     "start_time": "2019-08-19T06:26:09.030758Z"
    }
   },
   "outputs": [
    {
     "data": {
      "text/html": [
       "<div>\n",
       "<style scoped>\n",
       "    .dataframe tbody tr th:only-of-type {\n",
       "        vertical-align: middle;\n",
       "    }\n",
       "\n",
       "    .dataframe tbody tr th {\n",
       "        vertical-align: top;\n",
       "    }\n",
       "\n",
       "    .dataframe thead th {\n",
       "        text-align: right;\n",
       "    }\n",
       "</style>\n",
       "<table border=\"1\" class=\"dataframe\">\n",
       "  <thead>\n",
       "    <tr style=\"text-align: right;\">\n",
       "      <th></th>\n",
       "      <th>trans_activity_month</th>\n",
       "      <th>trans_activity_day</th>\n",
       "      <th>rank_trad_1_month</th>\n",
       "      <th>top_trans_count_last_1_month</th>\n",
       "      <th>avg_price_top_last_12_valid_month</th>\n",
       "      <th>take_amount_in_later_12_month_highest</th>\n",
       "      <th>trans_amount_increase_rate_lately</th>\n",
       "      <th>transd_mcc</th>\n",
       "      <th>trans_days_interval_filter</th>\n",
       "      <th>trans_days_interval</th>\n",
       "      <th>repayment_capability</th>\n",
       "      <th>number_of_trans_from_2011</th>\n",
       "      <th>historical_trans_amount</th>\n",
       "      <th>historical_trans_day</th>\n",
       "      <th>trans_amount_3_month</th>\n",
       "      <th>abs</th>\n",
       "      <th>avg_price_last_12_month</th>\n",
       "      <th>consume_top_time_last_1_month</th>\n",
       "      <th>consume_top_time_last_6_month</th>\n",
       "      <th>trans_fail_top_count_enum_last_1_month</th>\n",
       "      <th>trans_fail_top_count_enum_last_6_month</th>\n",
       "      <th>trans_fail_top_count_enum_last_12_month</th>\n",
       "      <th>consume_mini_time_last_1_month</th>\n",
       "      <th>max_cumulative_consume_later_1_month</th>\n",
       "      <th>pawns_auctions_trusts_consume_last_1_month</th>\n",
       "      <th>pawns_auctions_trusts_consume_last_6_month</th>\n",
       "      <th>first_transaction_day</th>\n",
       "      <th>trans_day_last_12_month</th>\n",
       "      <th>apply_score</th>\n",
       "      <th>apply_credibility</th>\n",
       "      <th>query_sum_count</th>\n",
       "      <th>loans_overdue_count</th>\n",
       "      <th>latest_six_month_loan</th>\n",
       "      <th>history_suc_fee</th>\n",
       "      <th>history_fail_fee</th>\n",
       "      <th>latest_one_month_suc</th>\n",
       "      <th>latest_one_month_fail</th>\n",
       "      <th>loans_long_time</th>\n",
       "      <th>loans_credit_limit</th>\n",
       "      <th>loans_max_limit</th>\n",
       "      <th>loans_avg_limit</th>\n",
       "      <th>consfin_max_limit</th>\n",
       "      <th>consfin_avg_limit</th>\n",
       "      <th>latest_query_day</th>\n",
       "      <th>loans_latest_day</th>\n",
       "    </tr>\n",
       "  </thead>\n",
       "  <tbody>\n",
       "    <tr>\n",
       "      <th>0</th>\n",
       "      <td>0.134047</td>\n",
       "      <td>-1.353319</td>\n",
       "      <td>1.992037</td>\n",
       "      <td>1.839581</td>\n",
       "      <td>-0.107077</td>\n",
       "      <td>-0.403875</td>\n",
       "      <td>-0.021182</td>\n",
       "      <td>-1.004892</td>\n",
       "      <td>2.613071</td>\n",
       "      <td>4.484165</td>\n",
       "      <td>-0.145876</td>\n",
       "      <td>-1.290611</td>\n",
       "      <td>-0.586927</td>\n",
       "      <td>-1.358984</td>\n",
       "      <td>-0.311294</td>\n",
       "      <td>-0.297651</td>\n",
       "      <td>0.082433</td>\n",
       "      <td>-1.300570</td>\n",
       "      <td>-0.423735</td>\n",
       "      <td>0.696823</td>\n",
       "      <td>-0.122621</td>\n",
       "      <td>-0.258803</td>\n",
       "      <td>-0.414413</td>\n",
       "      <td>-0.313775</td>\n",
       "      <td>-0.192204</td>\n",
       "      <td>-0.442215</td>\n",
       "      <td>-1.120560</td>\n",
       "      <td>0.234496</td>\n",
       "      <td>-0.894778</td>\n",
       "      <td>0.489077</td>\n",
       "      <td>-0.438137</td>\n",
       "      <td>-0.075726</td>\n",
       "      <td>-1.017990</td>\n",
       "      <td>-0.903410</td>\n",
       "      <td>-0.294631</td>\n",
       "      <td>-0.598487</td>\n",
       "      <td>-0.320305</td>\n",
       "      <td>-1.002166</td>\n",
       "      <td>0.453138</td>\n",
       "      <td>-0.401657</td>\n",
       "      <td>1.055294</td>\n",
       "      <td>-1.112937</td>\n",
       "      <td>-1.409680</td>\n",
       "      <td>0.219396</td>\n",
       "      <td>0.668269</td>\n",
       "    </tr>\n",
       "    <tr>\n",
       "      <th>1</th>\n",
       "      <td>0.990363</td>\n",
       "      <td>0.416102</td>\n",
       "      <td>-0.659154</td>\n",
       "      <td>-0.721391</td>\n",
       "      <td>0.289513</td>\n",
       "      <td>-0.113359</td>\n",
       "      <td>-0.021508</td>\n",
       "      <td>-0.781014</td>\n",
       "      <td>-0.574439</td>\n",
       "      <td>-0.947529</td>\n",
       "      <td>-0.057434</td>\n",
       "      <td>-1.684796</td>\n",
       "      <td>-0.393775</td>\n",
       "      <td>-0.978945</td>\n",
       "      <td>-0.100813</td>\n",
       "      <td>0.032556</td>\n",
       "      <td>-0.276177</td>\n",
       "      <td>0.373749</td>\n",
       "      <td>-0.874773</td>\n",
       "      <td>0.174245</td>\n",
       "      <td>-0.335037</td>\n",
       "      <td>-0.459263</td>\n",
       "      <td>0.310349</td>\n",
       "      <td>-0.010055</td>\n",
       "      <td>-0.192204</td>\n",
       "      <td>-0.504100</td>\n",
       "      <td>-1.482824</td>\n",
       "      <td>-0.382186</td>\n",
       "      <td>-0.595405</td>\n",
       "      <td>0.739142</td>\n",
       "      <td>0.467321</td>\n",
       "      <td>-0.075726</td>\n",
       "      <td>1.235352</td>\n",
       "      <td>0.641945</td>\n",
       "      <td>0.081820</td>\n",
       "      <td>1.489156</td>\n",
       "      <td>-0.320305</td>\n",
       "      <td>0.430439</td>\n",
       "      <td>0.015780</td>\n",
       "      <td>0.438275</td>\n",
       "      <td>0.320450</td>\n",
       "      <td>0.123866</td>\n",
       "      <td>-0.067564</td>\n",
       "      <td>0.180959</td>\n",
       "      <td>0.060388</td>\n",
       "    </tr>\n",
       "    <tr>\n",
       "      <th>2</th>\n",
       "      <td>0.134047</td>\n",
       "      <td>0.697335</td>\n",
       "      <td>-0.848524</td>\n",
       "      <td>-0.863667</td>\n",
       "      <td>0.091218</td>\n",
       "      <td>-0.355456</td>\n",
       "      <td>-0.021194</td>\n",
       "      <td>1.010008</td>\n",
       "      <td>-0.126607</td>\n",
       "      <td>-0.398256</td>\n",
       "      <td>-0.086415</td>\n",
       "      <td>4.622159</td>\n",
       "      <td>0.197260</td>\n",
       "      <td>1.821340</td>\n",
       "      <td>0.202273</td>\n",
       "      <td>-0.303766</td>\n",
       "      <td>-0.138250</td>\n",
       "      <td>0.559784</td>\n",
       "      <td>-0.423735</td>\n",
       "      <td>0.174245</td>\n",
       "      <td>1.151875</td>\n",
       "      <td>0.943961</td>\n",
       "      <td>-0.412100</td>\n",
       "      <td>-0.054528</td>\n",
       "      <td>-0.031308</td>\n",
       "      <td>1.135691</td>\n",
       "      <td>2.940132</td>\n",
       "      <td>-0.382186</td>\n",
       "      <td>-1.014528</td>\n",
       "      <td>0.989206</td>\n",
       "      <td>0.648413</td>\n",
       "      <td>2.196239</td>\n",
       "      <td>0.014792</td>\n",
       "      <td>0.709135</td>\n",
       "      <td>1.043861</td>\n",
       "      <td>-0.076576</td>\n",
       "      <td>-0.320305</td>\n",
       "      <td>0.518150</td>\n",
       "      <td>0.015780</td>\n",
       "      <td>0.228292</td>\n",
       "      <td>-0.160440</td>\n",
       "      <td>-0.288401</td>\n",
       "      <td>0.111503</td>\n",
       "      <td>0.196334</td>\n",
       "      <td>0.304291</td>\n",
       "    </tr>\n",
       "    <tr>\n",
       "      <th>3</th>\n",
       "      <td>-0.621527</td>\n",
       "      <td>1.101607</td>\n",
       "      <td>-1.037895</td>\n",
       "      <td>-0.863667</td>\n",
       "      <td>0.091218</td>\n",
       "      <td>-0.476505</td>\n",
       "      <td>-0.021387</td>\n",
       "      <td>0.114497</td>\n",
       "      <td>-0.548095</td>\n",
       "      <td>-0.886499</td>\n",
       "      <td>-0.122558</td>\n",
       "      <td>0.286128</td>\n",
       "      <td>0.386708</td>\n",
       "      <td>0.901247</td>\n",
       "      <td>0.207033</td>\n",
       "      <td>-0.113183</td>\n",
       "      <td>-0.207214</td>\n",
       "      <td>0.001678</td>\n",
       "      <td>-1.025119</td>\n",
       "      <td>0.174245</td>\n",
       "      <td>-0.547453</td>\n",
       "      <td>-0.058342</td>\n",
       "      <td>0.945703</td>\n",
       "      <td>-0.093578</td>\n",
       "      <td>-0.021598</td>\n",
       "      <td>0.849172</td>\n",
       "      <td>0.348830</td>\n",
       "      <td>-0.382186</td>\n",
       "      <td>-0.695196</td>\n",
       "      <td>0.489077</td>\n",
       "      <td>-0.890866</td>\n",
       "      <td>-0.400292</td>\n",
       "      <td>-0.736322</td>\n",
       "      <td>0.138025</td>\n",
       "      <td>-0.587426</td>\n",
       "      <td>-0.598487</td>\n",
       "      <td>-0.320305</td>\n",
       "      <td>0.342729</td>\n",
       "      <td>-0.713151</td>\n",
       "      <td>-0.751629</td>\n",
       "      <td>-0.814235</td>\n",
       "      <td>-0.205948</td>\n",
       "      <td>0.144349</td>\n",
       "      <td>0.269363</td>\n",
       "      <td>0.465642</td>\n",
       "    </tr>\n",
       "    <tr>\n",
       "      <th>4</th>\n",
       "      <td>0.385904</td>\n",
       "      <td>-1.353319</td>\n",
       "      <td>1.992037</td>\n",
       "      <td>1.839581</td>\n",
       "      <td>0.487808</td>\n",
       "      <td>-0.355456</td>\n",
       "      <td>-0.017263</td>\n",
       "      <td>-0.557137</td>\n",
       "      <td>1.401290</td>\n",
       "      <td>0.883379</td>\n",
       "      <td>-0.137048</td>\n",
       "      <td>-0.206603</td>\n",
       "      <td>-0.596318</td>\n",
       "      <td>-1.058954</td>\n",
       "      <td>-0.322199</td>\n",
       "      <td>-0.307163</td>\n",
       "      <td>-0.924434</td>\n",
       "      <td>-1.300570</td>\n",
       "      <td>0.102476</td>\n",
       "      <td>3.309715</td>\n",
       "      <td>0.727043</td>\n",
       "      <td>0.543040</td>\n",
       "      <td>-0.414413</td>\n",
       "      <td>-0.313775</td>\n",
       "      <td>-0.192204</td>\n",
       "      <td>-0.370072</td>\n",
       "      <td>-0.312857</td>\n",
       "      <td>2.925474</td>\n",
       "      <td>-0.834904</td>\n",
       "      <td>0.739142</td>\n",
       "      <td>-0.800321</td>\n",
       "      <td>0.897974</td>\n",
       "      <td>-0.736322</td>\n",
       "      <td>-1.272952</td>\n",
       "      <td>4.724713</td>\n",
       "      <td>-0.598487</td>\n",
       "      <td>2.832350</td>\n",
       "      <td>-0.534377</td>\n",
       "      <td>-1.296296</td>\n",
       "      <td>-1.521568</td>\n",
       "      <td>-1.106012</td>\n",
       "      <td>-0.948030</td>\n",
       "      <td>-1.150793</td>\n",
       "      <td>0.261676</td>\n",
       "      <td>0.394348</td>\n",
       "    </tr>\n",
       "  </tbody>\n",
       "</table>\n",
       "</div>"
      ],
      "text/plain": [
       "   trans_activity_month  trans_activity_day  rank_trad_1_month  \\\n",
       "0              0.134047           -1.353319           1.992037   \n",
       "1              0.990363            0.416102          -0.659154   \n",
       "2              0.134047            0.697335          -0.848524   \n",
       "3             -0.621527            1.101607          -1.037895   \n",
       "4              0.385904           -1.353319           1.992037   \n",
       "\n",
       "   top_trans_count_last_1_month  avg_price_top_last_12_valid_month  \\\n",
       "0                      1.839581                          -0.107077   \n",
       "1                     -0.721391                           0.289513   \n",
       "2                     -0.863667                           0.091218   \n",
       "3                     -0.863667                           0.091218   \n",
       "4                      1.839581                           0.487808   \n",
       "\n",
       "   take_amount_in_later_12_month_highest  trans_amount_increase_rate_lately  \\\n",
       "0                              -0.403875                          -0.021182   \n",
       "1                              -0.113359                          -0.021508   \n",
       "2                              -0.355456                          -0.021194   \n",
       "3                              -0.476505                          -0.021387   \n",
       "4                              -0.355456                          -0.017263   \n",
       "\n",
       "   transd_mcc  trans_days_interval_filter  trans_days_interval  \\\n",
       "0   -1.004892                    2.613071             4.484165   \n",
       "1   -0.781014                   -0.574439            -0.947529   \n",
       "2    1.010008                   -0.126607            -0.398256   \n",
       "3    0.114497                   -0.548095            -0.886499   \n",
       "4   -0.557137                    1.401290             0.883379   \n",
       "\n",
       "   repayment_capability  number_of_trans_from_2011  historical_trans_amount  \\\n",
       "0             -0.145876                  -1.290611                -0.586927   \n",
       "1             -0.057434                  -1.684796                -0.393775   \n",
       "2             -0.086415                   4.622159                 0.197260   \n",
       "3             -0.122558                   0.286128                 0.386708   \n",
       "4             -0.137048                  -0.206603                -0.596318   \n",
       "\n",
       "   historical_trans_day  trans_amount_3_month       abs  \\\n",
       "0             -1.358984             -0.311294 -0.297651   \n",
       "1             -0.978945             -0.100813  0.032556   \n",
       "2              1.821340              0.202273 -0.303766   \n",
       "3              0.901247              0.207033 -0.113183   \n",
       "4             -1.058954             -0.322199 -0.307163   \n",
       "\n",
       "   avg_price_last_12_month  consume_top_time_last_1_month  \\\n",
       "0                 0.082433                      -1.300570   \n",
       "1                -0.276177                       0.373749   \n",
       "2                -0.138250                       0.559784   \n",
       "3                -0.207214                       0.001678   \n",
       "4                -0.924434                      -1.300570   \n",
       "\n",
       "   consume_top_time_last_6_month  trans_fail_top_count_enum_last_1_month  \\\n",
       "0                      -0.423735                                0.696823   \n",
       "1                      -0.874773                                0.174245   \n",
       "2                      -0.423735                                0.174245   \n",
       "3                      -1.025119                                0.174245   \n",
       "4                       0.102476                                3.309715   \n",
       "\n",
       "   trans_fail_top_count_enum_last_6_month  \\\n",
       "0                               -0.122621   \n",
       "1                               -0.335037   \n",
       "2                                1.151875   \n",
       "3                               -0.547453   \n",
       "4                                0.727043   \n",
       "\n",
       "   trans_fail_top_count_enum_last_12_month  consume_mini_time_last_1_month  \\\n",
       "0                                -0.258803                       -0.414413   \n",
       "1                                -0.459263                        0.310349   \n",
       "2                                 0.943961                       -0.412100   \n",
       "3                                -0.058342                        0.945703   \n",
       "4                                 0.543040                       -0.414413   \n",
       "\n",
       "   max_cumulative_consume_later_1_month  \\\n",
       "0                             -0.313775   \n",
       "1                             -0.010055   \n",
       "2                             -0.054528   \n",
       "3                             -0.093578   \n",
       "4                             -0.313775   \n",
       "\n",
       "   pawns_auctions_trusts_consume_last_1_month  \\\n",
       "0                                   -0.192204   \n",
       "1                                   -0.192204   \n",
       "2                                   -0.031308   \n",
       "3                                   -0.021598   \n",
       "4                                   -0.192204   \n",
       "\n",
       "   pawns_auctions_trusts_consume_last_6_month  first_transaction_day  \\\n",
       "0                                   -0.442215              -1.120560   \n",
       "1                                   -0.504100              -1.482824   \n",
       "2                                    1.135691               2.940132   \n",
       "3                                    0.849172               0.348830   \n",
       "4                                   -0.370072              -0.312857   \n",
       "\n",
       "   trans_day_last_12_month  apply_score  apply_credibility  query_sum_count  \\\n",
       "0                 0.234496    -0.894778           0.489077        -0.438137   \n",
       "1                -0.382186    -0.595405           0.739142         0.467321   \n",
       "2                -0.382186    -1.014528           0.989206         0.648413   \n",
       "3                -0.382186    -0.695196           0.489077        -0.890866   \n",
       "4                 2.925474    -0.834904           0.739142        -0.800321   \n",
       "\n",
       "   loans_overdue_count  latest_six_month_loan  history_suc_fee  \\\n",
       "0            -0.075726              -1.017990        -0.903410   \n",
       "1            -0.075726               1.235352         0.641945   \n",
       "2             2.196239               0.014792         0.709135   \n",
       "3            -0.400292              -0.736322         0.138025   \n",
       "4             0.897974              -0.736322        -1.272952   \n",
       "\n",
       "   history_fail_fee  latest_one_month_suc  latest_one_month_fail  \\\n",
       "0         -0.294631             -0.598487              -0.320305   \n",
       "1          0.081820              1.489156              -0.320305   \n",
       "2          1.043861             -0.076576              -0.320305   \n",
       "3         -0.587426             -0.598487              -0.320305   \n",
       "4          4.724713             -0.598487               2.832350   \n",
       "\n",
       "   loans_long_time  loans_credit_limit  loans_max_limit  loans_avg_limit  \\\n",
       "0        -1.002166            0.453138        -0.401657         1.055294   \n",
       "1         0.430439            0.015780         0.438275         0.320450   \n",
       "2         0.518150            0.015780         0.228292        -0.160440   \n",
       "3         0.342729           -0.713151        -0.751629        -0.814235   \n",
       "4        -0.534377           -1.296296        -1.521568        -1.106012   \n",
       "\n",
       "   consfin_max_limit  consfin_avg_limit  latest_query_day  loans_latest_day  \n",
       "0          -1.112937          -1.409680          0.219396          0.668269  \n",
       "1           0.123866          -0.067564          0.180959          0.060388  \n",
       "2          -0.288401           0.111503          0.196334          0.304291  \n",
       "3          -0.205948           0.144349          0.269363          0.465642  \n",
       "4          -0.948030          -1.150793          0.261676          0.394348  "
      ]
     },
     "execution_count": 28,
     "metadata": {},
     "output_type": "execute_result"
    }
   ],
   "source": [
    "x_train.head()"
   ]
  },
  {
   "cell_type": "code",
   "execution_count": null,
   "metadata": {},
   "outputs": [],
   "source": []
  },
  {
   "cell_type": "code",
   "execution_count": 29,
   "metadata": {
    "ExecuteTime": {
     "end_time": "2019-08-19T06:26:12.554702Z",
     "start_time": "2019-08-19T06:26:12.552067Z"
    }
   },
   "outputs": [],
   "source": [
    "# x_train.profile_report(style={'full_width':True})\n",
    "\n",
    "# Dataset info\n",
    "\n",
    "# Number of variables\t45\n",
    "# Number of observations\t3326\n",
    "# Missing cells\t0 (0.0%)\n",
    "# Duplicate rows\t0 (0.0%)\n",
    "# Total size in memory\t1.1 MiB\n",
    "# Average record size in memory\t360.0 B\n",
    "# Variables types\n",
    "\n",
    "# Numeric\t45\n",
    "# Categorical\t0\n",
    "# Boolean\t0\n",
    "# Date\t0\n",
    "# URL\t0\n",
    "# Text (Unique)\t0\n",
    "# Rejected\t0\n",
    "# Unsupported\t0Warnings\n",
    "# max_cumulative_consume_later_1_month is highly skewed (γ1 = 26.38045116)\tSkewed\n",
    "# repayment_capability is highly skewed (γ1 = 26.90108787)\tSkewed\n",
    "# trans_amount_3_month is highly skewed (γ1 = 42.33606162)\tSkewed\n",
    "# trans_amount_increase_rate_lately is highly skewed (γ1 = 56.87152308)\tSkewed"
   ]
  },
  {
   "cell_type": "code",
   "execution_count": 30,
   "metadata": {
    "ExecuteTime": {
     "end_time": "2019-08-19T06:26:12.788402Z",
     "start_time": "2019-08-19T06:26:12.786221Z"
    }
   },
   "outputs": [],
   "source": [
    "# profile = x_train.profile_report()\n",
    "# rejected_variables = profile.get_rejected_variables(threshold=0.9)"
   ]
  },
  {
   "cell_type": "code",
   "execution_count": 31,
   "metadata": {
    "ExecuteTime": {
     "end_time": "2019-08-19T06:26:13.178457Z",
     "start_time": "2019-08-19T06:26:13.174467Z"
    }
   },
   "outputs": [
    {
     "data": {
      "text/plain": [
       "array([[ 0.13404651, -1.35331866,  1.99203681, ..., -1.40968007,\n",
       "         0.21939562,  0.66826917],\n",
       "       [ 0.99036309,  0.41610248, -0.65915369, ..., -0.06756396,\n",
       "         0.18095929,  0.06038847],\n",
       "       [ 0.13404651,  0.69733498, -0.84852444, ...,  0.11150258,\n",
       "         0.19633382,  0.30429122],\n",
       "       ...,\n",
       "       [ 0.73850528,  0.41610248, -0.84852444, ...,  0.74123759,\n",
       "         0.16558476,  0.26676772],\n",
       "       [ 0.48664746, -0.82014872, -0.28041219, ..., -0.16469079,\n",
       "        -3.66651702, -3.69571392],\n",
       "       [-0.16818287,  1.26565899, -1.60600744, ...,  0.81540716,\n",
       "         0.22708288,  0.16545427]])"
      ]
     },
     "execution_count": 31,
     "metadata": {},
     "output_type": "execute_result"
    }
   ],
   "source": [
    "x_train_scale"
   ]
  },
  {
   "cell_type": "code",
   "execution_count": 32,
   "metadata": {
    "ExecuteTime": {
     "end_time": "2019-08-19T06:26:14.532362Z",
     "start_time": "2019-08-19T06:26:14.528273Z"
    }
   },
   "outputs": [
    {
     "data": {
      "text/plain": [
       "array([[ 0.99036309, -0.07019538, -0.09104144, ..., -0.70595209,\n",
       "         0.18480292,  0.11667372],\n",
       "       [ 0.33553277,  1.34768513, -0.09104144, ..., -0.36777414,\n",
       "         0.38082819,  0.25551067],\n",
       "       [-0.52078381,  1.98045826, -1.03789519, ..., -0.2070734 ,\n",
       "         0.17711566,  0.08290257],\n",
       "       ...,\n",
       "       [-1.47784352, -0.42759502,  0.09832931, ...,  0.25913535,\n",
       "         0.19633382,  0.25926302],\n",
       "       [-0.36966912,  1.1016067 , -0.65915369, ..., -0.27629834,\n",
       "         0.25014468,  0.24425362],\n",
       "       [ 0.99036309,  0.53328269, -0.46978294, ...,  0.24324187,\n",
       "         0.18864656,  0.06038847]])"
      ]
     },
     "execution_count": 32,
     "metadata": {},
     "output_type": "execute_result"
    }
   ],
   "source": [
    "x_test_scale"
   ]
  },
  {
   "cell_type": "code",
   "execution_count": 33,
   "metadata": {
    "ExecuteTime": {
     "end_time": "2019-08-19T06:26:14.866334Z",
     "start_time": "2019-08-19T06:26:14.864099Z"
    }
   },
   "outputs": [],
   "source": [
    "# x_train, x_test = x_train_scale, x_test_scale"
   ]
  },
  {
   "cell_type": "markdown",
   "metadata": {},
   "source": [
    "# 模型"
   ]
  },
  {
   "cell_type": "markdown",
   "metadata": {
    "ExecuteTime": {
     "end_time": "2019-08-11T10:08:56.388146Z",
     "start_time": "2019-08-11T10:08:56.377836Z"
    }
   },
   "source": [
    "    逻辑回归\n",
    "    svm\n",
    "    决策树\n",
    "    随机森林\n",
    "    XGBoost"
   ]
  },
  {
   "cell_type": "code",
   "execution_count": 34,
   "metadata": {
    "ExecuteTime": {
     "end_time": "2019-08-19T06:26:17.181414Z",
     "start_time": "2019-08-19T06:26:17.087237Z"
    }
   },
   "outputs": [],
   "source": [
    "from sklearn.linear_model import LogisticRegression\n",
    "from sklearn.svm import SVC\n",
    "from sklearn.tree import DecisionTreeClassifier\n",
    "from sklearn.ensemble import RandomForestClassifier\n",
    "import xgboost as xgb\n",
    "\n",
    "# Grid search cross validation\n",
    "from sklearn.model_selection import GridSearchCV"
   ]
  },
  {
   "cell_type": "markdown",
   "metadata": {},
   "source": [
    "## LogisticRegression"
   ]
  },
  {
   "cell_type": "code",
   "execution_count": 35,
   "metadata": {
    "ExecuteTime": {
     "end_time": "2019-08-19T06:26:19.570339Z",
     "start_time": "2019-08-19T06:26:19.525609Z"
    }
   },
   "outputs": [
    {
     "name": "stderr",
     "output_type": "stream",
     "text": [
      "/Users/lmingzhi/miniconda3/lib/python3.7/site-packages/sklearn/linear_model/logistic.py:433: FutureWarning: Default solver will be changed to 'lbfgs' in 0.22. Specify a solver to silence this warning.\n",
      "  FutureWarning)\n"
     ]
    },
    {
     "data": {
      "text/plain": [
       "LogisticRegression(C=1.0, class_weight=None, dual=False, fit_intercept=True,\n",
       "          intercept_scaling=1, max_iter=100, multi_class='warn',\n",
       "          n_jobs=None, penalty='l2', random_state=None, solver='warn',\n",
       "          tol=0.0001, verbose=0, warm_start=False)"
      ]
     },
     "execution_count": 35,
     "metadata": {},
     "output_type": "execute_result"
    }
   ],
   "source": [
    "clf_lr = LogisticRegression()\n",
    "clf_lr.fit(x_train, y_train)"
   ]
  },
  {
   "cell_type": "markdown",
   "metadata": {},
   "source": [
    "https://www.kaggle.com/enespolat/grid-search-with-logistic-regression"
   ]
  },
  {
   "cell_type": "code",
   "execution_count": null,
   "metadata": {},
   "outputs": [],
   "source": []
  },
  {
   "cell_type": "code",
   "execution_count": 42,
   "metadata": {
    "ExecuteTime": {
     "end_time": "2019-08-19T06:27:49.332052Z",
     "start_time": "2019-08-19T06:27:36.078723Z"
    }
   },
   "outputs": [
    {
     "name": "stdout",
     "output_type": "stream",
     "text": [
      "Fitting 5 folds for each of 45 candidates, totalling 225 fits\n"
     ]
    },
    {
     "name": "stderr",
     "output_type": "stream",
     "text": [
      "[Parallel(n_jobs=1)]: Using backend SequentialBackend with 1 concurrent workers.\n",
      "/Users/lmingzhi/miniconda3/lib/python3.7/site-packages/sklearn/linear_model/sag.py:334: ConvergenceWarning: The max_iter was reached which means the coef_ did not converge\n",
      "  \"the coef_ did not converge\", ConvergenceWarning)\n",
      "/Users/lmingzhi/miniconda3/lib/python3.7/site-packages/sklearn/linear_model/sag.py:334: ConvergenceWarning: The max_iter was reached which means the coef_ did not converge\n",
      "  \"the coef_ did not converge\", ConvergenceWarning)\n",
      "/Users/lmingzhi/miniconda3/lib/python3.7/site-packages/sklearn/linear_model/sag.py:334: ConvergenceWarning: The max_iter was reached which means the coef_ did not converge\n",
      "  \"the coef_ did not converge\", ConvergenceWarning)\n",
      "/Users/lmingzhi/miniconda3/lib/python3.7/site-packages/sklearn/linear_model/sag.py:334: ConvergenceWarning: The max_iter was reached which means the coef_ did not converge\n",
      "  \"the coef_ did not converge\", ConvergenceWarning)\n",
      "/Users/lmingzhi/miniconda3/lib/python3.7/site-packages/sklearn/linear_model/sag.py:334: ConvergenceWarning: The max_iter was reached which means the coef_ did not converge\n",
      "  \"the coef_ did not converge\", ConvergenceWarning)\n",
      "/Users/lmingzhi/miniconda3/lib/python3.7/site-packages/sklearn/linear_model/sag.py:334: ConvergenceWarning: The max_iter was reached which means the coef_ did not converge\n",
      "  \"the coef_ did not converge\", ConvergenceWarning)\n",
      "/Users/lmingzhi/miniconda3/lib/python3.7/site-packages/sklearn/linear_model/sag.py:334: ConvergenceWarning: The max_iter was reached which means the coef_ did not converge\n",
      "  \"the coef_ did not converge\", ConvergenceWarning)\n",
      "/Users/lmingzhi/miniconda3/lib/python3.7/site-packages/sklearn/linear_model/sag.py:334: ConvergenceWarning: The max_iter was reached which means the coef_ did not converge\n",
      "  \"the coef_ did not converge\", ConvergenceWarning)\n",
      "/Users/lmingzhi/miniconda3/lib/python3.7/site-packages/sklearn/linear_model/sag.py:334: ConvergenceWarning: The max_iter was reached which means the coef_ did not converge\n",
      "  \"the coef_ did not converge\", ConvergenceWarning)\n",
      "/Users/lmingzhi/miniconda3/lib/python3.7/site-packages/sklearn/linear_model/sag.py:334: ConvergenceWarning: The max_iter was reached which means the coef_ did not converge\n",
      "  \"the coef_ did not converge\", ConvergenceWarning)\n",
      "/Users/lmingzhi/miniconda3/lib/python3.7/site-packages/sklearn/linear_model/sag.py:334: ConvergenceWarning: The max_iter was reached which means the coef_ did not converge\n",
      "  \"the coef_ did not converge\", ConvergenceWarning)\n",
      "/Users/lmingzhi/miniconda3/lib/python3.7/site-packages/sklearn/linear_model/sag.py:334: ConvergenceWarning: The max_iter was reached which means the coef_ did not converge\n",
      "  \"the coef_ did not converge\", ConvergenceWarning)\n",
      "/Users/lmingzhi/miniconda3/lib/python3.7/site-packages/sklearn/linear_model/sag.py:334: ConvergenceWarning: The max_iter was reached which means the coef_ did not converge\n",
      "  \"the coef_ did not converge\", ConvergenceWarning)\n",
      "/Users/lmingzhi/miniconda3/lib/python3.7/site-packages/sklearn/linear_model/sag.py:334: ConvergenceWarning: The max_iter was reached which means the coef_ did not converge\n",
      "  \"the coef_ did not converge\", ConvergenceWarning)\n",
      "/Users/lmingzhi/miniconda3/lib/python3.7/site-packages/sklearn/linear_model/sag.py:334: ConvergenceWarning: The max_iter was reached which means the coef_ did not converge\n",
      "  \"the coef_ did not converge\", ConvergenceWarning)\n",
      "/Users/lmingzhi/miniconda3/lib/python3.7/site-packages/sklearn/linear_model/sag.py:334: ConvergenceWarning: The max_iter was reached which means the coef_ did not converge\n",
      "  \"the coef_ did not converge\", ConvergenceWarning)\n",
      "/Users/lmingzhi/miniconda3/lib/python3.7/site-packages/sklearn/linear_model/sag.py:334: ConvergenceWarning: The max_iter was reached which means the coef_ did not converge\n",
      "  \"the coef_ did not converge\", ConvergenceWarning)\n",
      "/Users/lmingzhi/miniconda3/lib/python3.7/site-packages/sklearn/linear_model/sag.py:334: ConvergenceWarning: The max_iter was reached which means the coef_ did not converge\n",
      "  \"the coef_ did not converge\", ConvergenceWarning)\n",
      "/Users/lmingzhi/miniconda3/lib/python3.7/site-packages/sklearn/linear_model/sag.py:334: ConvergenceWarning: The max_iter was reached which means the coef_ did not converge\n",
      "  \"the coef_ did not converge\", ConvergenceWarning)\n",
      "/Users/lmingzhi/miniconda3/lib/python3.7/site-packages/sklearn/linear_model/sag.py:334: ConvergenceWarning: The max_iter was reached which means the coef_ did not converge\n",
      "  \"the coef_ did not converge\", ConvergenceWarning)\n",
      "/Users/lmingzhi/miniconda3/lib/python3.7/site-packages/sklearn/linear_model/sag.py:334: ConvergenceWarning: The max_iter was reached which means the coef_ did not converge\n",
      "  \"the coef_ did not converge\", ConvergenceWarning)\n",
      "/Users/lmingzhi/miniconda3/lib/python3.7/site-packages/sklearn/linear_model/sag.py:334: ConvergenceWarning: The max_iter was reached which means the coef_ did not converge\n",
      "  \"the coef_ did not converge\", ConvergenceWarning)\n",
      "/Users/lmingzhi/miniconda3/lib/python3.7/site-packages/sklearn/linear_model/sag.py:334: ConvergenceWarning: The max_iter was reached which means the coef_ did not converge\n",
      "  \"the coef_ did not converge\", ConvergenceWarning)\n",
      "/Users/lmingzhi/miniconda3/lib/python3.7/site-packages/sklearn/linear_model/sag.py:334: ConvergenceWarning: The max_iter was reached which means the coef_ did not converge\n",
      "  \"the coef_ did not converge\", ConvergenceWarning)\n",
      "/Users/lmingzhi/miniconda3/lib/python3.7/site-packages/sklearn/linear_model/sag.py:334: ConvergenceWarning: The max_iter was reached which means the coef_ did not converge\n",
      "  \"the coef_ did not converge\", ConvergenceWarning)\n",
      "/Users/lmingzhi/miniconda3/lib/python3.7/site-packages/sklearn/linear_model/sag.py:334: ConvergenceWarning: The max_iter was reached which means the coef_ did not converge\n",
      "  \"the coef_ did not converge\", ConvergenceWarning)\n",
      "/Users/lmingzhi/miniconda3/lib/python3.7/site-packages/sklearn/linear_model/sag.py:334: ConvergenceWarning: The max_iter was reached which means the coef_ did not converge\n",
      "  \"the coef_ did not converge\", ConvergenceWarning)\n",
      "/Users/lmingzhi/miniconda3/lib/python3.7/site-packages/sklearn/linear_model/sag.py:334: ConvergenceWarning: The max_iter was reached which means the coef_ did not converge\n",
      "  \"the coef_ did not converge\", ConvergenceWarning)\n",
      "/Users/lmingzhi/miniconda3/lib/python3.7/site-packages/sklearn/linear_model/sag.py:334: ConvergenceWarning: The max_iter was reached which means the coef_ did not converge\n",
      "  \"the coef_ did not converge\", ConvergenceWarning)\n",
      "/Users/lmingzhi/miniconda3/lib/python3.7/site-packages/sklearn/linear_model/sag.py:334: ConvergenceWarning: The max_iter was reached which means the coef_ did not converge\n",
      "  \"the coef_ did not converge\", ConvergenceWarning)\n",
      "/Users/lmingzhi/miniconda3/lib/python3.7/site-packages/sklearn/linear_model/sag.py:334: ConvergenceWarning: The max_iter was reached which means the coef_ did not converge\n",
      "  \"the coef_ did not converge\", ConvergenceWarning)\n",
      "/Users/lmingzhi/miniconda3/lib/python3.7/site-packages/sklearn/linear_model/sag.py:334: ConvergenceWarning: The max_iter was reached which means the coef_ did not converge\n",
      "  \"the coef_ did not converge\", ConvergenceWarning)\n",
      "/Users/lmingzhi/miniconda3/lib/python3.7/site-packages/sklearn/linear_model/sag.py:334: ConvergenceWarning: The max_iter was reached which means the coef_ did not converge\n",
      "  \"the coef_ did not converge\", ConvergenceWarning)\n",
      "/Users/lmingzhi/miniconda3/lib/python3.7/site-packages/sklearn/linear_model/sag.py:334: ConvergenceWarning: The max_iter was reached which means the coef_ did not converge\n",
      "  \"the coef_ did not converge\", ConvergenceWarning)\n",
      "/Users/lmingzhi/miniconda3/lib/python3.7/site-packages/sklearn/linear_model/sag.py:334: ConvergenceWarning: The max_iter was reached which means the coef_ did not converge\n",
      "  \"the coef_ did not converge\", ConvergenceWarning)\n",
      "/Users/lmingzhi/miniconda3/lib/python3.7/site-packages/sklearn/linear_model/sag.py:334: ConvergenceWarning: The max_iter was reached which means the coef_ did not converge\n",
      "  \"the coef_ did not converge\", ConvergenceWarning)\n",
      "/Users/lmingzhi/miniconda3/lib/python3.7/site-packages/sklearn/linear_model/sag.py:334: ConvergenceWarning: The max_iter was reached which means the coef_ did not converge\n",
      "  \"the coef_ did not converge\", ConvergenceWarning)\n",
      "/Users/lmingzhi/miniconda3/lib/python3.7/site-packages/sklearn/linear_model/sag.py:334: ConvergenceWarning: The max_iter was reached which means the coef_ did not converge\n",
      "  \"the coef_ did not converge\", ConvergenceWarning)\n",
      "/Users/lmingzhi/miniconda3/lib/python3.7/site-packages/sklearn/linear_model/sag.py:334: ConvergenceWarning: The max_iter was reached which means the coef_ did not converge\n",
      "  \"the coef_ did not converge\", ConvergenceWarning)\n",
      "[Parallel(n_jobs=1)]: Done 225 out of 225 | elapsed:   13.2s finished\n"
     ]
    },
    {
     "data": {
      "text/plain": [
       "GridSearchCV(cv=5, error_score='raise-deprecating',\n",
       "       estimator=LogisticRegression(C=1.0, class_weight=None, dual=False, fit_intercept=True,\n",
       "          intercept_scaling=1, max_iter=100, multi_class='warn',\n",
       "          n_jobs=None, penalty='l2', random_state=None, solver='warn',\n",
       "          tol=0.0001, verbose=0, warm_start=False),\n",
       "       fit_params=None, iid='warn', n_jobs=None,\n",
       "       param_grid=[{'penalty': ['l1', 'l2'], 'C': [0.01, 0.05, 0.1, 0.5, 1, 5, 10, 50, 100], 'solver': ['liblinear']}, {'penalty': ['l2'], 'C': [0.01, 0.05, 0.1, 0.5, 1, 5, 10, 50, 100], 'solver': ['sag', 'lbfgs', 'newton-cg']}],\n",
       "       pre_dispatch='2*n_jobs', refit=True, return_train_score='warn',\n",
       "       scoring='roc_auc', verbose=1)"
      ]
     },
     "execution_count": 42,
     "metadata": {},
     "output_type": "execute_result"
    }
   ],
   "source": [
    "# 14s\n",
    "param_grid = [{'penalty':['l1','l2'],\n",
    "                   'C':[0.01,0.05,0.1,0.5,1,5,10,50,100],\n",
    "                    'solver':['liblinear']},\n",
    "              \n",
    "                {'penalty':['l2'],\n",
    "                 'C':[0.01,0.05,0.1,0.5,1,5,10,50,100],\n",
    "                'solver':['sag', 'lbfgs', 'newton-cg',]}\n",
    "                ]\n",
    " \n",
    "clf_lr=GridSearchCV(LogisticRegression(), param_grid, cv=5, scoring='roc_auc', verbose=1)\n",
    "clf_lr.fit(x_train,y_train)"
   ]
  },
  {
   "cell_type": "code",
   "execution_count": 43,
   "metadata": {
    "ExecuteTime": {
     "end_time": "2019-08-19T06:27:54.113860Z",
     "start_time": "2019-08-19T06:27:54.110674Z"
    }
   },
   "outputs": [
    {
     "name": "stdout",
     "output_type": "stream",
     "text": [
      "tuned hpyerparameters :(best parameters)  {'C': 0.05, 'penalty': 'l1', 'solver': 'liblinear'}\n",
      "accuracy : 0.7860672580613391\n"
     ]
    }
   ],
   "source": [
    "print(\"tuned hpyerparameters :(best parameters) \",clf_lr.best_params_)\n",
    "print(\"accuracy :\", clf_lr.best_score_)"
   ]
  },
  {
   "cell_type": "code",
   "execution_count": 44,
   "metadata": {
    "ExecuteTime": {
     "end_time": "2019-08-19T06:27:54.528440Z",
     "start_time": "2019-08-19T06:27:54.523289Z"
    }
   },
   "outputs": [
    {
     "data": {
      "text/plain": [
       "{'C': 0.05, 'penalty': 'l1', 'solver': 'liblinear'}"
      ]
     },
     "execution_count": 44,
     "metadata": {},
     "output_type": "execute_result"
    }
   ],
   "source": [
    "clf_lr.best_params_"
   ]
  },
  {
   "cell_type": "code",
   "execution_count": 45,
   "metadata": {
    "ExecuteTime": {
     "end_time": "2019-08-19T06:27:56.088888Z",
     "start_time": "2019-08-19T06:27:56.085272Z"
    }
   },
   "outputs": [
    {
     "data": {
      "text/plain": [
       "LogisticRegression(C=0.05, class_weight=None, dual=False, fit_intercept=True,\n",
       "          intercept_scaling=1, max_iter=100, multi_class='warn',\n",
       "          n_jobs=None, penalty='l1', random_state=None, solver='liblinear',\n",
       "          tol=0.0001, verbose=0, warm_start=False)"
      ]
     },
     "execution_count": 45,
     "metadata": {},
     "output_type": "execute_result"
    }
   ],
   "source": [
    "clf_lr.best_estimator_"
   ]
  },
  {
   "cell_type": "code",
   "execution_count": 46,
   "metadata": {
    "ExecuteTime": {
     "end_time": "2019-08-19T06:27:56.724207Z",
     "start_time": "2019-08-19T06:27:56.715626Z"
    }
   },
   "outputs": [
    {
     "data": {
      "text/plain": [
       "0.7951791506744018"
      ]
     },
     "execution_count": 46,
     "metadata": {},
     "output_type": "execute_result"
    }
   ],
   "source": [
    "clf_lr.score(x_train, y_train)"
   ]
  },
  {
   "cell_type": "code",
   "execution_count": 47,
   "metadata": {
    "ExecuteTime": {
     "end_time": "2019-08-19T06:27:58.276103Z",
     "start_time": "2019-08-19T06:27:58.268929Z"
    }
   },
   "outputs": [
    {
     "data": {
      "text/plain": [
       "0.8071745878826804"
      ]
     },
     "execution_count": 47,
     "metadata": {},
     "output_type": "execute_result"
    }
   ],
   "source": [
    "clf_lr.score(x_test, y_test)"
   ]
  },
  {
   "cell_type": "markdown",
   "metadata": {},
   "source": [
    "## svm"
   ]
  },
  {
   "cell_type": "code",
   "execution_count": null,
   "metadata": {
    "ExecuteTime": {
     "start_time": "2019-08-19T06:28:54.789Z"
    },
    "scrolled": false
   },
   "outputs": [
    {
     "name": "stdout",
     "output_type": "stream",
     "text": [
      "Fitting 5 folds for each of 32 candidates, totalling 160 fits\n",
      "[CV] C=1, gamma=1, kernel=linear .....................................\n"
     ]
    },
    {
     "name": "stderr",
     "output_type": "stream",
     "text": [
      "[Parallel(n_jobs=1)]: Using backend SequentialBackend with 1 concurrent workers.\n"
     ]
    },
    {
     "name": "stdout",
     "output_type": "stream",
     "text": [
      "[CV] ...................... C=1, gamma=1, kernel=linear, total=   0.8s\n",
      "[CV] C=1, gamma=1, kernel=linear .....................................\n"
     ]
    },
    {
     "name": "stderr",
     "output_type": "stream",
     "text": [
      "[Parallel(n_jobs=1)]: Done   1 out of   1 | elapsed:    0.9s remaining:    0.0s\n"
     ]
    },
    {
     "name": "stdout",
     "output_type": "stream",
     "text": [
      "[CV] ...................... C=1, gamma=1, kernel=linear, total=   0.8s\n",
      "[CV] C=1, gamma=1, kernel=linear .....................................\n",
      "[CV] ...................... C=1, gamma=1, kernel=linear, total=   0.8s\n",
      "[CV] C=1, gamma=1, kernel=linear .....................................\n",
      "[CV] ...................... C=1, gamma=1, kernel=linear, total=   0.9s\n",
      "[CV] C=1, gamma=1, kernel=linear .....................................\n",
      "[CV] ...................... C=1, gamma=1, kernel=linear, total=   0.7s\n",
      "[CV] C=1, gamma=1, kernel=rbf ........................................\n",
      "[CV] ......................... C=1, gamma=1, kernel=rbf, total=   0.7s\n",
      "[CV] C=1, gamma=1, kernel=rbf ........................................\n",
      "[CV] ......................... C=1, gamma=1, kernel=rbf, total=   0.7s\n",
      "[CV] C=1, gamma=1, kernel=rbf ........................................\n",
      "[CV] ......................... C=1, gamma=1, kernel=rbf, total=   0.7s\n",
      "[CV] C=1, gamma=1, kernel=rbf ........................................\n",
      "[CV] ......................... C=1, gamma=1, kernel=rbf, total=   0.7s\n",
      "[CV] C=1, gamma=1, kernel=rbf ........................................\n",
      "[CV] ......................... C=1, gamma=1, kernel=rbf, total=   0.7s\n",
      "[CV] C=1, gamma=0.1, kernel=linear ...................................\n",
      "[CV] .................... C=1, gamma=0.1, kernel=linear, total=   0.7s\n",
      "[CV] C=1, gamma=0.1, kernel=linear ...................................\n",
      "[CV] .................... C=1, gamma=0.1, kernel=linear, total=   0.8s\n",
      "[CV] C=1, gamma=0.1, kernel=linear ...................................\n",
      "[CV] .................... C=1, gamma=0.1, kernel=linear, total=   0.8s\n",
      "[CV] C=1, gamma=0.1, kernel=linear ...................................\n",
      "[CV] .................... C=1, gamma=0.1, kernel=linear, total=   0.9s\n",
      "[CV] C=1, gamma=0.1, kernel=linear ...................................\n",
      "[CV] .................... C=1, gamma=0.1, kernel=linear, total=   0.8s\n",
      "[CV] C=1, gamma=0.1, kernel=rbf ......................................\n",
      "[CV] ....................... C=1, gamma=0.1, kernel=rbf, total=   0.5s\n",
      "[CV] C=1, gamma=0.1, kernel=rbf ......................................\n",
      "[CV] ....................... C=1, gamma=0.1, kernel=rbf, total=   0.5s\n",
      "[CV] C=1, gamma=0.1, kernel=rbf ......................................\n",
      "[CV] ....................... C=1, gamma=0.1, kernel=rbf, total=   0.5s\n",
      "[CV] C=1, gamma=0.1, kernel=rbf ......................................\n",
      "[CV] ....................... C=1, gamma=0.1, kernel=rbf, total=   0.5s\n",
      "[CV] C=1, gamma=0.1, kernel=rbf ......................................\n",
      "[CV] ....................... C=1, gamma=0.1, kernel=rbf, total=   0.5s\n",
      "[CV] C=1, gamma=0.001, kernel=linear .................................\n",
      "[CV] .................. C=1, gamma=0.001, kernel=linear, total=   0.7s\n",
      "[CV] C=1, gamma=0.001, kernel=linear .................................\n",
      "[CV] .................. C=1, gamma=0.001, kernel=linear, total=   0.7s\n",
      "[CV] C=1, gamma=0.001, kernel=linear .................................\n",
      "[CV] .................. C=1, gamma=0.001, kernel=linear, total=   0.8s\n",
      "[CV] C=1, gamma=0.001, kernel=linear .................................\n",
      "[CV] .................. C=1, gamma=0.001, kernel=linear, total=   0.9s\n",
      "[CV] C=1, gamma=0.001, kernel=linear .................................\n",
      "[CV] .................. C=1, gamma=0.001, kernel=linear, total=   0.7s\n",
      "[CV] C=1, gamma=0.001, kernel=rbf ....................................\n",
      "[CV] ..................... C=1, gamma=0.001, kernel=rbf, total=   0.3s\n",
      "[CV] C=1, gamma=0.001, kernel=rbf ....................................\n",
      "[CV] ..................... C=1, gamma=0.001, kernel=rbf, total=   0.3s\n",
      "[CV] C=1, gamma=0.001, kernel=rbf ....................................\n",
      "[CV] ..................... C=1, gamma=0.001, kernel=rbf, total=   0.3s\n",
      "[CV] C=1, gamma=0.001, kernel=rbf ....................................\n",
      "[CV] ..................... C=1, gamma=0.001, kernel=rbf, total=   0.3s\n",
      "[CV] C=1, gamma=0.001, kernel=rbf ....................................\n",
      "[CV] ..................... C=1, gamma=0.001, kernel=rbf, total=   0.3s\n",
      "[CV] C=1, gamma=0.0001, kernel=linear ................................\n",
      "[CV] ................. C=1, gamma=0.0001, kernel=linear, total=   0.8s\n",
      "[CV] C=1, gamma=0.0001, kernel=linear ................................\n",
      "[CV] ................. C=1, gamma=0.0001, kernel=linear, total=   0.8s\n",
      "[CV] C=1, gamma=0.0001, kernel=linear ................................\n",
      "[CV] ................. C=1, gamma=0.0001, kernel=linear, total=   0.8s\n",
      "[CV] C=1, gamma=0.0001, kernel=linear ................................\n",
      "[CV] ................. C=1, gamma=0.0001, kernel=linear, total=   0.9s\n",
      "[CV] C=1, gamma=0.0001, kernel=linear ................................\n",
      "[CV] ................. C=1, gamma=0.0001, kernel=linear, total=   0.7s\n",
      "[CV] C=1, gamma=0.0001, kernel=rbf ...................................\n",
      "[CV] .................... C=1, gamma=0.0001, kernel=rbf, total=   0.3s\n",
      "[CV] C=1, gamma=0.0001, kernel=rbf ...................................\n",
      "[CV] .................... C=1, gamma=0.0001, kernel=rbf, total=   0.3s\n",
      "[CV] C=1, gamma=0.0001, kernel=rbf ...................................\n",
      "[CV] .................... C=1, gamma=0.0001, kernel=rbf, total=   0.3s\n",
      "[CV] C=1, gamma=0.0001, kernel=rbf ...................................\n",
      "[CV] .................... C=1, gamma=0.0001, kernel=rbf, total=   0.3s\n",
      "[CV] C=1, gamma=0.0001, kernel=rbf ...................................\n",
      "[CV] .................... C=1, gamma=0.0001, kernel=rbf, total=   0.3s\n",
      "[CV] C=10, gamma=1, kernel=linear ....................................\n",
      "[CV] ..................... C=10, gamma=1, kernel=linear, total=   4.5s\n",
      "[CV] C=10, gamma=1, kernel=linear ....................................\n",
      "[CV] ..................... C=10, gamma=1, kernel=linear, total=   5.9s\n",
      "[CV] C=10, gamma=1, kernel=linear ....................................\n",
      "[CV] ..................... C=10, gamma=1, kernel=linear, total=   5.8s\n",
      "[CV] C=10, gamma=1, kernel=linear ....................................\n",
      "[CV] ..................... C=10, gamma=1, kernel=linear, total=   5.0s\n",
      "[CV] C=10, gamma=1, kernel=linear ....................................\n",
      "[CV] ..................... C=10, gamma=1, kernel=linear, total=   5.0s\n",
      "[CV] C=10, gamma=1, kernel=rbf .......................................\n",
      "[CV] ........................ C=10, gamma=1, kernel=rbf, total=   0.8s\n",
      "[CV] C=10, gamma=1, kernel=rbf .......................................\n",
      "[CV] ........................ C=10, gamma=1, kernel=rbf, total=   0.8s\n",
      "[CV] C=10, gamma=1, kernel=rbf .......................................\n",
      "[CV] ........................ C=10, gamma=1, kernel=rbf, total=   0.8s\n",
      "[CV] C=10, gamma=1, kernel=rbf .......................................\n",
      "[CV] ........................ C=10, gamma=1, kernel=rbf, total=   0.8s\n",
      "[CV] C=10, gamma=1, kernel=rbf .......................................\n",
      "[CV] ........................ C=10, gamma=1, kernel=rbf, total=   0.8s\n",
      "[CV] C=10, gamma=0.1, kernel=linear ..................................\n",
      "[CV] ................... C=10, gamma=0.1, kernel=linear, total=   4.5s\n",
      "[CV] C=10, gamma=0.1, kernel=linear ..................................\n",
      "[CV] ................... C=10, gamma=0.1, kernel=linear, total=   5.8s\n",
      "[CV] C=10, gamma=0.1, kernel=linear ..................................\n",
      "[CV] ................... C=10, gamma=0.1, kernel=linear, total=   5.8s\n",
      "[CV] C=10, gamma=0.1, kernel=linear ..................................\n",
      "[CV] ................... C=10, gamma=0.1, kernel=linear, total=   5.0s\n",
      "[CV] C=10, gamma=0.1, kernel=linear ..................................\n",
      "[CV] ................... C=10, gamma=0.1, kernel=linear, total=   5.1s\n",
      "[CV] C=10, gamma=0.1, kernel=rbf .....................................\n",
      "[CV] ...................... C=10, gamma=0.1, kernel=rbf, total=   0.6s\n",
      "[CV] C=10, gamma=0.1, kernel=rbf .....................................\n",
      "[CV] ...................... C=10, gamma=0.1, kernel=rbf, total=   0.6s\n",
      "[CV] C=10, gamma=0.1, kernel=rbf .....................................\n",
      "[CV] ...................... C=10, gamma=0.1, kernel=rbf, total=   0.6s\n",
      "[CV] C=10, gamma=0.1, kernel=rbf .....................................\n",
      "[CV] ...................... C=10, gamma=0.1, kernel=rbf, total=   0.6s\n",
      "[CV] C=10, gamma=0.1, kernel=rbf .....................................\n",
      "[CV] ...................... C=10, gamma=0.1, kernel=rbf, total=   0.6s\n",
      "[CV] C=10, gamma=0.001, kernel=linear ................................\n",
      "[CV] ................. C=10, gamma=0.001, kernel=linear, total=   4.5s\n",
      "[CV] C=10, gamma=0.001, kernel=linear ................................\n",
      "[CV] ................. C=10, gamma=0.001, kernel=linear, total=   5.7s\n",
      "[CV] C=10, gamma=0.001, kernel=linear ................................\n",
      "[CV] ................. C=10, gamma=0.001, kernel=linear, total=   5.6s\n",
      "[CV] C=10, gamma=0.001, kernel=linear ................................\n",
      "[CV] ................. C=10, gamma=0.001, kernel=linear, total=   4.8s\n",
      "[CV] C=10, gamma=0.001, kernel=linear ................................\n",
      "[CV] ................. C=10, gamma=0.001, kernel=linear, total=   5.0s\n",
      "[CV] C=10, gamma=0.001, kernel=rbf ...................................\n",
      "[CV] .................... C=10, gamma=0.001, kernel=rbf, total=   0.3s\n",
      "[CV] C=10, gamma=0.001, kernel=rbf ...................................\n",
      "[CV] .................... C=10, gamma=0.001, kernel=rbf, total=   0.3s\n",
      "[CV] C=10, gamma=0.001, kernel=rbf ...................................\n",
      "[CV] .................... C=10, gamma=0.001, kernel=rbf, total=   0.3s\n",
      "[CV] C=10, gamma=0.001, kernel=rbf ...................................\n",
      "[CV] .................... C=10, gamma=0.001, kernel=rbf, total=   0.3s\n",
      "[CV] C=10, gamma=0.001, kernel=rbf ...................................\n",
      "[CV] .................... C=10, gamma=0.001, kernel=rbf, total=   0.3s\n",
      "[CV] C=10, gamma=0.0001, kernel=linear ...............................\n",
      "[CV] ................ C=10, gamma=0.0001, kernel=linear, total=   4.6s\n",
      "[CV] C=10, gamma=0.0001, kernel=linear ...............................\n",
      "[CV] ................ C=10, gamma=0.0001, kernel=linear, total=   5.8s\n",
      "[CV] C=10, gamma=0.0001, kernel=linear ...............................\n",
      "[CV] ................ C=10, gamma=0.0001, kernel=linear, total=   5.8s\n",
      "[CV] C=10, gamma=0.0001, kernel=linear ...............................\n",
      "[CV] ................ C=10, gamma=0.0001, kernel=linear, total=   5.0s\n",
      "[CV] C=10, gamma=0.0001, kernel=linear ...............................\n",
      "[CV] ................ C=10, gamma=0.0001, kernel=linear, total=   5.2s\n",
      "[CV] C=10, gamma=0.0001, kernel=rbf ..................................\n",
      "[CV] ................... C=10, gamma=0.0001, kernel=rbf, total=   0.3s\n",
      "[CV] C=10, gamma=0.0001, kernel=rbf ..................................\n",
      "[CV] ................... C=10, gamma=0.0001, kernel=rbf, total=   0.3s\n",
      "[CV] C=10, gamma=0.0001, kernel=rbf ..................................\n",
      "[CV] ................... C=10, gamma=0.0001, kernel=rbf, total=   0.3s\n",
      "[CV] C=10, gamma=0.0001, kernel=rbf ..................................\n",
      "[CV] ................... C=10, gamma=0.0001, kernel=rbf, total=   0.3s\n",
      "[CV] C=10, gamma=0.0001, kernel=rbf ..................................\n",
      "[CV] ................... C=10, gamma=0.0001, kernel=rbf, total=   0.3s\n",
      "[CV] C=100, gamma=1, kernel=linear ...................................\n",
      "[CV] .................... C=100, gamma=1, kernel=linear, total=  43.5s\n",
      "[CV] C=100, gamma=1, kernel=linear ...................................\n",
      "[CV] .................... C=100, gamma=1, kernel=linear, total=  57.4s\n",
      "[CV] C=100, gamma=1, kernel=linear ...................................\n",
      "[CV] .................... C=100, gamma=1, kernel=linear, total=  58.0s\n",
      "[CV] C=100, gamma=1, kernel=linear ...................................\n",
      "[CV] .................... C=100, gamma=1, kernel=linear, total= 1.1min\n",
      "[CV] C=100, gamma=1, kernel=linear ...................................\n"
     ]
    }
   ],
   "source": [
    "# https://www.kaggle.com/viznrvn/optimal-parameters-for-svc-using-gridsearch\n",
    "# 36cores, 15min\n",
    "param_grid = {'C':[1,10,100,1000],'gamma':[1,0.1,0.001,0.0001], 'kernel':['linear','rbf']}\n",
    "clf_svm=GridSearchCV(SVC(), param_grid, cv=5, scoring='roc_auc', verbose=2, n_jobs=36)\n",
    "clf_svm.fit(x_train, y_train)"
   ]
  },
  {
   "cell_type": "code",
   "execution_count": 54,
   "metadata": {
    "ExecuteTime": {
     "end_time": "2019-08-19T06:54:15.249205Z",
     "start_time": "2019-08-19T06:54:15.245271Z"
    }
   },
   "outputs": [
    {
     "name": "stdout",
     "output_type": "stream",
     "text": [
      "tuned hpyerparameters :(best parameters)  {'C': 10, 'gamma': 0.0001, 'kernel': 'rbf'}\n",
      "accuracy : 0.7910297559684897\n"
     ]
    }
   ],
   "source": [
    "# tuned hpyerparameters :(best parameters)  {'C': 10, 'gamma': 0.0001, 'kernel': 'rbf'}\n",
    "# accuracy : 0.7910297559684897\n",
    "print(\"tuned hpyerparameters :(best parameters) \",clf_svm.best_params_)\n",
    "print(\"accuracy :\", clf_svm.best_score_)"
   ]
  },
  {
   "cell_type": "code",
   "execution_count": 52,
   "metadata": {
    "ExecuteTime": {
     "end_time": "2019-08-19T06:52:47.100569Z",
     "start_time": "2019-08-19T06:52:47.060082Z"
    }
   },
   "outputs": [
    {
     "data": {
      "text/plain": [
       "SVC(C=10, cache_size=200, class_weight=None, coef0=0.0,\n",
       "    decision_function_shape='ovr', degree=3, gamma=0.0001, kernel='rbf',\n",
       "    max_iter=-1, probability=False, random_state=None, shrinking=True,\n",
       "    tol=0.001, verbose=False)"
      ]
     },
     "execution_count": 52,
     "metadata": {},
     "output_type": "execute_result"
    }
   ],
   "source": [
    "clf_svm.best_estimator_\n",
    "# SVC(C=10, cache_size=200, class_weight=None, coef0=0.0,\n",
    "#     decision_function_shape='ovr', degree=3, gamma=0.0001, kernel='rbf',\n",
    "#     max_iter=-1, probability=False, random_state=None, shrinking=True,\n",
    "#     tol=0.001, verbose=False)"
   ]
  },
  {
   "cell_type": "code",
   "execution_count": 57,
   "metadata": {
    "ExecuteTime": {
     "end_time": "2019-08-19T06:55:30.702834Z",
     "start_time": "2019-08-19T06:55:30.537829Z"
    }
   },
   "outputs": [
    {
     "data": {
      "text/plain": [
       "0.8142903018625562"
      ]
     },
     "execution_count": 57,
     "metadata": {},
     "output_type": "execute_result"
    }
   ],
   "source": [
    "clf_svm.score(x_test, y_test)"
   ]
  },
  {
   "cell_type": "markdown",
   "metadata": {},
   "source": [
    "## DecisionTreeClassifier"
   ]
  },
  {
   "cell_type": "code",
   "execution_count": 63,
   "metadata": {
    "ExecuteTime": {
     "end_time": "2019-08-19T06:58:51.833998Z",
     "start_time": "2019-08-19T06:58:51.829567Z"
    }
   },
   "outputs": [],
   "source": [
    "# https://www.kaggle.com/shotashimizu/09-decisiontree-gridsearchcv\n",
    "\n",
    "num_leafs = [1, 5, 10, 20, 50, 100]\n",
    "param_grid = [{'criterion':['gini','entropy'],\n",
    "              'max_depth':[2,3, 4,5,6,7,8,9,10,11,12,15,20,30,40,50,70,90,120,150]}]\n",
    "\n",
    "# clf = GridSearchCV(DecisionTreeClassifier(), tree_para, cv=5)\n",
    "\n",
    "clf_dt = GridSearchCV(estimator=DecisionTreeClassifier(), \n",
    "                      param_grid=param_grid, \n",
    "                      scoring='roc_auc', cv=5, verbose=True, n_jobs=-1)"
   ]
  },
  {
   "cell_type": "code",
   "execution_count": 64,
   "metadata": {
    "ExecuteTime": {
     "end_time": "2019-08-19T06:58:53.863236Z",
     "start_time": "2019-08-19T06:58:52.491531Z"
    }
   },
   "outputs": [
    {
     "name": "stdout",
     "output_type": "stream",
     "text": [
      "Fitting 5 folds for each of 40 candidates, totalling 200 fits\n"
     ]
    },
    {
     "name": "stderr",
     "output_type": "stream",
     "text": [
      "[Parallel(n_jobs=-1)]: Using backend LokyBackend with 40 concurrent workers.\n",
      "[Parallel(n_jobs=-1)]: Done 200 out of 200 | elapsed:    1.3s finished\n"
     ]
    },
    {
     "data": {
      "text/plain": [
       "GridSearchCV(cv=5, error_score='raise-deprecating',\n",
       "             estimator=DecisionTreeClassifier(class_weight=None,\n",
       "                                              criterion='gini', max_depth=None,\n",
       "                                              max_features=None,\n",
       "                                              max_leaf_nodes=None,\n",
       "                                              min_impurity_decrease=0.0,\n",
       "                                              min_impurity_split=None,\n",
       "                                              min_samples_leaf=1,\n",
       "                                              min_samples_split=2,\n",
       "                                              min_weight_fraction_leaf=0.0,\n",
       "                                              presort=False, random_state=None,\n",
       "                                              splitter='best'),\n",
       "             iid='warn', n_jobs=-1,\n",
       "             param_grid=[{'criterion': ['gini', 'entropy'],\n",
       "                          'max_depth': [2, 3, 4, 5, 6, 7, 8, 9, 10, 11, 12, 15,\n",
       "                                        20, 30, 40, 50, 70, 90, 120, 150]}],\n",
       "             pre_dispatch='2*n_jobs', refit=True, return_train_score=False,\n",
       "             scoring='roc_auc', verbose=True)"
      ]
     },
     "execution_count": 64,
     "metadata": {},
     "output_type": "execute_result"
    }
   ],
   "source": [
    "clf_dt.fit(x_train, y_train)"
   ]
  },
  {
   "cell_type": "code",
   "execution_count": 137,
   "metadata": {
    "ExecuteTime": {
     "end_time": "2019-08-19T07:52:33.201840Z",
     "start_time": "2019-08-19T07:52:33.196136Z"
    }
   },
   "outputs": [
    {
     "name": "stdout",
     "output_type": "stream",
     "text": [
      "tuned hpyerparameters :(best parameters)  {'criterion': 'entropy', 'max_depth': 4}\n",
      "accuracy : 0.7338323358950167\n"
     ]
    },
    {
     "data": {
      "text/plain": [
       "DecisionTreeClassifier(class_weight=None, criterion='entropy', max_depth=4,\n",
       "                       max_features=None, max_leaf_nodes=None,\n",
       "                       min_impurity_decrease=0.0, min_impurity_split=None,\n",
       "                       min_samples_leaf=1, min_samples_split=2,\n",
       "                       min_weight_fraction_leaf=0.0, presort=False,\n",
       "                       random_state=None, splitter='best')"
      ]
     },
     "execution_count": 137,
     "metadata": {},
     "output_type": "execute_result"
    }
   ],
   "source": [
    "print(\"tuned hpyerparameters :(best parameters) \",clf_dt.best_params_)\n",
    "print(\"accuracy :\", clf_dt.best_score_)\n",
    "\n",
    "clf_dt.best_estimator_"
   ]
  },
  {
   "cell_type": "code",
   "execution_count": 76,
   "metadata": {
    "ExecuteTime": {
     "end_time": "2019-08-19T07:07:12.772048Z",
     "start_time": "2019-08-19T07:07:12.767655Z"
    }
   },
   "outputs": [
    {
     "data": {
      "text/plain": [
       "0.7338323358950167"
      ]
     },
     "execution_count": 76,
     "metadata": {},
     "output_type": "execute_result"
    }
   ],
   "source": [
    "clf_dt.best_score_"
   ]
  },
  {
   "cell_type": "code",
   "execution_count": 77,
   "metadata": {
    "ExecuteTime": {
     "end_time": "2019-08-19T07:07:15.435555Z",
     "start_time": "2019-08-19T07:07:15.428143Z"
    }
   },
   "outputs": [
    {
     "data": {
      "text/plain": [
       "0.735969278527082"
      ]
     },
     "execution_count": 77,
     "metadata": {},
     "output_type": "execute_result"
    }
   ],
   "source": [
    "clf_dt.score(x_test, y_test)"
   ]
  },
  {
   "cell_type": "code",
   "execution_count": null,
   "metadata": {},
   "outputs": [],
   "source": []
  },
  {
   "cell_type": "markdown",
   "metadata": {},
   "source": [
    "## RandomForestClassifier"
   ]
  },
  {
   "cell_type": "markdown",
   "metadata": {},
   "source": [
    "先随机，然后再进行网格搜索"
   ]
  },
  {
   "cell_type": "code",
   "execution_count": 72,
   "metadata": {
    "ExecuteTime": {
     "end_time": "2019-08-19T07:03:14.339293Z",
     "start_time": "2019-08-19T07:03:14.331131Z"
    }
   },
   "outputs": [
    {
     "data": {
      "text/plain": [
       "{'n_estimators': [200, 400, 600, 800, 1000, 1200, 1400, 1600, 1800, 2000],\n",
       " 'max_features': ['auto', 'sqrt'],\n",
       " 'max_depth': [10, 20, 30, 40, 50, 60, 70, 80, 90, 100, 110, None],\n",
       " 'min_samples_split': [2, 5, 10],\n",
       " 'min_samples_leaf': [1, 2, 4],\n",
       " 'bootstrap': [True, False]}"
      ]
     },
     "execution_count": 72,
     "metadata": {},
     "output_type": "execute_result"
    }
   ],
   "source": [
    "# https://towardsdatascience.com/hyperparameter-tuning-the-random-forest-in-python-using-scikit-learn-28d2aa77dd74\n",
    "# Number of trees in random forest\n",
    "n_estimators = [int(x) for x in np.linspace(start = 200, stop = 2000, num = 10)]\n",
    "# Number of features to consider at every split\n",
    "max_features = ['auto', 'sqrt']\n",
    "# Maximum number of levels in tree\n",
    "max_depth = [int(x) for x in np.linspace(10, 110, num = 11)]\n",
    "max_depth.append(None)\n",
    "# Minimum number of samples required to split a node\n",
    "min_samples_split = [2, 5, 10]\n",
    "# Minimum number of samples required at each leaf node\n",
    "min_samples_leaf = [1, 2, 4]\n",
    "# Method of selecting samples for training each tree\n",
    "bootstrap = [True, False]\n",
    "# Create the random grid\n",
    "random_grid = {'n_estimators': n_estimators,\n",
    "               'max_features': max_features,\n",
    "               'max_depth': max_depth,\n",
    "               'min_samples_split': min_samples_split,\n",
    "               'min_samples_leaf': min_samples_leaf,\n",
    "               'bootstrap': bootstrap}\n",
    "random_grid"
   ]
  },
  {
   "cell_type": "code",
   "execution_count": 79,
   "metadata": {
    "ExecuteTime": {
     "end_time": "2019-08-19T07:07:57.863922Z",
     "start_time": "2019-08-19T07:07:57.859044Z"
    }
   },
   "outputs": [],
   "source": [
    "# Create the parameter grid based on the results of random search \n",
    "param_grid = {\n",
    "    'bootstrap': [True, False],\n",
    "    'max_depth': [80, 90, 100, 110],\n",
    "    'max_features': [2, 3],\n",
    "    'min_samples_leaf': [3, 4, 5],\n",
    "    'min_samples_split': [8, 10, 12],\n",
    "    'n_estimators': [100, 200, 300, 1000]\n",
    "}\n",
    "# Create a based model\n",
    "rf = RandomForestClassifier()\n",
    "# Instantiate the grid search model\n",
    "clf_rf = GridSearchCV(estimator = rf, param_grid = param_grid, \n",
    "                          cv = 5, n_jobs = 30, verbose = 2,  scoring='roc_auc')"
   ]
  },
  {
   "cell_type": "code",
   "execution_count": 80,
   "metadata": {
    "ExecuteTime": {
     "end_time": "2019-08-19T07:07:58.546700Z",
     "start_time": "2019-08-19T07:07:58.544376Z"
    }
   },
   "outputs": [],
   "source": [
    "# clf_rf = RandomForestClassifier(random_state=2018, n_jobs=-1)"
   ]
  },
  {
   "cell_type": "code",
   "execution_count": 81,
   "metadata": {
    "ExecuteTime": {
     "end_time": "2019-08-19T07:11:49.728332Z",
     "start_time": "2019-08-19T07:07:59.096234Z"
    }
   },
   "outputs": [
    {
     "name": "stdout",
     "output_type": "stream",
     "text": [
      "Fitting 5 folds for each of 576 candidates, totalling 2880 fits\n"
     ]
    },
    {
     "name": "stderr",
     "output_type": "stream",
     "text": [
      "[Parallel(n_jobs=-1)]: Using backend LokyBackend with 40 concurrent workers.\n",
      "[Parallel(n_jobs=-1)]: Done  82 tasks      | elapsed:    5.0s\n",
      "[Parallel(n_jobs=-1)]: Done 285 tasks      | elapsed:   18.4s\n",
      "[Parallel(n_jobs=-1)]: Done 568 tasks      | elapsed:   36.0s\n",
      "[Parallel(n_jobs=-1)]: Done 933 tasks      | elapsed:   59.9s\n",
      "[Parallel(n_jobs=-1)]: Done 1378 tasks      | elapsed:  1.5min\n",
      "[Parallel(n_jobs=-1)]: Done 1905 tasks      | elapsed:  2.3min\n",
      "[Parallel(n_jobs=-1)]: Done 2512 tasks      | elapsed:  3.2min\n",
      "[Parallel(n_jobs=-1)]: Done 2880 out of 2880 | elapsed:  3.8min finished\n"
     ]
    },
    {
     "data": {
      "text/plain": [
       "GridSearchCV(cv=5, error_score='raise-deprecating',\n",
       "             estimator=RandomForestClassifier(bootstrap=True, class_weight=None,\n",
       "                                              criterion='gini', max_depth=None,\n",
       "                                              max_features='auto',\n",
       "                                              max_leaf_nodes=None,\n",
       "                                              min_impurity_decrease=0.0,\n",
       "                                              min_impurity_split=None,\n",
       "                                              min_samples_leaf=1,\n",
       "                                              min_samples_split=2,\n",
       "                                              min_weight_fraction_leaf=0.0,\n",
       "                                              n_estimators='warn', n_jobs=None,\n",
       "                                              oob_score=False,\n",
       "                                              random_state=None, verbose=0,\n",
       "                                              warm_start=False),\n",
       "             iid='warn', n_jobs=-1,\n",
       "             param_grid={'bootstrap': [True, False],\n",
       "                         'max_depth': [80, 90, 100, 110],\n",
       "                         'max_features': [2, 3], 'min_samples_leaf': [3, 4, 5],\n",
       "                         'min_samples_split': [8, 10, 12],\n",
       "                         'n_estimators': [100, 200, 300, 1000]},\n",
       "             pre_dispatch='2*n_jobs', refit=True, return_train_score=False,\n",
       "             scoring='roc_auc', verbose=2)"
      ]
     },
     "execution_count": 81,
     "metadata": {},
     "output_type": "execute_result"
    }
   ],
   "source": [
    "clf_rf.fit(x_train, y_train)\n",
    "# 40cores ， 3.8min"
   ]
  },
  {
   "cell_type": "code",
   "execution_count": 84,
   "metadata": {
    "ExecuteTime": {
     "end_time": "2019-08-19T07:12:51.993929Z",
     "start_time": "2019-08-19T07:12:51.988459Z"
    }
   },
   "outputs": [
    {
     "name": "stdout",
     "output_type": "stream",
     "text": [
      "tuned hpyerparameters :(best parameters)  {'bootstrap': False, 'max_depth': 90, 'max_features': 3, 'min_samples_leaf': 5, 'min_samples_split': 8, 'n_estimators': 300}\n",
      "accuracy : 0.7863175892125825\n"
     ]
    },
    {
     "data": {
      "text/plain": [
       "RandomForestClassifier(bootstrap=False, class_weight=None, criterion='gini',\n",
       "                       max_depth=90, max_features=3, max_leaf_nodes=None,\n",
       "                       min_impurity_decrease=0.0, min_impurity_split=None,\n",
       "                       min_samples_leaf=5, min_samples_split=8,\n",
       "                       min_weight_fraction_leaf=0.0, n_estimators=300,\n",
       "                       n_jobs=None, oob_score=False, random_state=None,\n",
       "                       verbose=0, warm_start=False)"
      ]
     },
     "execution_count": 84,
     "metadata": {},
     "output_type": "execute_result"
    }
   ],
   "source": [
    "print(\"tuned hpyerparameters :(best parameters) \",clf_rf.best_params_)\n",
    "print(\"accuracy :\", clf_rf.best_score_)\n",
    "clf_rf.best_estimator_"
   ]
  },
  {
   "cell_type": "code",
   "execution_count": 78,
   "metadata": {
    "ExecuteTime": {
     "end_time": "2019-08-19T07:07:28.020088Z",
     "start_time": "2019-08-19T07:07:28.012879Z"
    }
   },
   "outputs": [
    {
     "name": "stdout",
     "output_type": "stream",
     "text": [
      "tuned hpyerparameters :(best parameters)  {'bootstrap': True, 'max_depth': 110, 'max_features': 3, 'min_samples_leaf': 5, 'min_samples_split': 10, 'n_estimators': 300}\n",
      "accuracy : 0.7852211508285293\n"
     ]
    },
    {
     "data": {
      "text/plain": [
       "RandomForestClassifier(bootstrap=True, class_weight=None, criterion='gini',\n",
       "                       max_depth=110, max_features=3, max_leaf_nodes=None,\n",
       "                       min_impurity_decrease=0.0, min_impurity_split=None,\n",
       "                       min_samples_leaf=5, min_samples_split=10,\n",
       "                       min_weight_fraction_leaf=0.0, n_estimators=300,\n",
       "                       n_jobs=None, oob_score=False, random_state=None,\n",
       "                       verbose=0, warm_start=False)"
      ]
     },
     "execution_count": 78,
     "metadata": {},
     "output_type": "execute_result"
    }
   ],
   "source": [
    "# https://www.analyticsvidhya.com/blog/2016/03/complete-guide-parameter-tuning-xgboost-with-codes-python/"
   ]
  },
  {
   "cell_type": "code",
   "execution_count": 85,
   "metadata": {
    "ExecuteTime": {
     "end_time": "2019-08-19T07:13:46.574517Z",
     "start_time": "2019-08-19T07:13:46.483608Z"
    }
   },
   "outputs": [
    {
     "data": {
      "text/plain": [
       "0.8011145900235497"
      ]
     },
     "execution_count": 85,
     "metadata": {},
     "output_type": "execute_result"
    }
   ],
   "source": [
    "clf_rf.score(x_test, y_test)"
   ]
  },
  {
   "cell_type": "markdown",
   "metadata": {},
   "source": [
    "## XGBoost\n",
    "\n",
    "    brew install gcc@7\n",
    "    # Then install XGBoost with pip:\n",
    "    pip3 install xgboost"
   ]
  },
  {
   "cell_type": "code",
   "execution_count": 86,
   "metadata": {
    "ExecuteTime": {
     "end_time": "2019-08-19T07:14:07.427080Z",
     "start_time": "2019-08-19T07:14:07.424770Z"
    }
   },
   "outputs": [],
   "source": [
    "# import xgboost as xgb\n",
    "# https://www.analyticsvidhya.com/blog/2016/03/complete-guide-parameter-tuning-xgboost-with-codes-python/\n",
    "# https://juejin.im/post/5b7669c4f265da281c1fbf96"
   ]
  },
  {
   "cell_type": "code",
   "execution_count": 90,
   "metadata": {
    "ExecuteTime": {
     "end_time": "2019-08-19T07:32:42.739564Z",
     "start_time": "2019-08-19T07:27:08.168759Z"
    }
   },
   "outputs": [
    {
     "name": "stdout",
     "output_type": "stream",
     "text": [
      "Fitting 5 folds for each of 81 candidates, totalling 405 fits\n"
     ]
    },
    {
     "name": "stderr",
     "output_type": "stream",
     "text": [
      "[Parallel(n_jobs=36)]: Using backend LokyBackend with 36 concurrent workers.\n",
      "[Parallel(n_jobs=36)]: Done  90 tasks      | elapsed:  1.2min\n",
      "[Parallel(n_jobs=36)]: Done 293 tasks      | elapsed:  3.5min\n",
      "[Parallel(n_jobs=36)]: Done 405 out of 405 | elapsed:  5.6min finished\n"
     ]
    },
    {
     "data": {
      "text/plain": [
       "GridSearchCV(cv=5, error_score='raise-deprecating',\n",
       "             estimator=XGBClassifier(base_score=0.5, booster='gbtree',\n",
       "                                     colsample_bylevel=1, colsample_bynode=1,\n",
       "                                     colsample_bytree=0.7, gamma=0,\n",
       "                                     learning_rate=0.01, max_delta_step=0,\n",
       "                                     max_depth=10, min_child_weight=1,\n",
       "                                     missing=None, n_estimators=2000, n_jobs=1,\n",
       "                                     nthread=-1, objective='binary:logistic',\n",
       "                                     random_state=0, reg_alpha=0, reg_lambda=1,\n",
       "                                     scale_pos_weight=1, seed=1440, silent=True,\n",
       "                                     subsample=0.85, verbosity=1),\n",
       "             iid='warn', n_jobs=36,\n",
       "             param_grid={'learning_rate': [0.01, 0.05, 0.15],\n",
       "                         'max_depth': [5, 15, 25],\n",
       "                         'min_child_weight': [0, 5, 10],\n",
       "                         'n_estimators': [500, 1000, 3000]},\n",
       "             pre_dispatch='2*n_jobs', refit=True, return_train_score=False,\n",
       "             scoring='roc_auc', verbose=2)"
      ]
     },
     "execution_count": 90,
     "metadata": {},
     "output_type": "execute_result"
    }
   ],
   "source": [
    "# parameters = {\n",
    "#               'max_depth': [5, 10, 15, 20, 25],\n",
    "#               'learning_rate': [0.01, 0.02, 0.05, 0.1, 0.15],\n",
    "#               'n_estimators': [500, 1000, 2000, 3000, 5000],\n",
    "#               'min_child_weight': [0, 2, 5, 10, 20],\n",
    "#               'max_delta_step': [0, 0.2, 0.6, 1, 2],\n",
    "#               'subsample': [0.6, 0.7, 0.8, 0.85, 0.95],\n",
    "#               'colsample_bytree': [0.5, 0.6, 0.7, 0.8, 0.9],\n",
    "#               'reg_alpha': [0, 0.25, 0.5, 0.75, 1],\n",
    "#               'reg_lambda': [0.2, 0.4, 0.6, 0.8, 1],\n",
    "#               'scale_pos_weight': [0.2, 0.4, 0.6, 0.8, 1]\n",
    "\n",
    "# }\n",
    "\n",
    "\n",
    "parameters = {\n",
    "              'max_depth': [5, 15,  25],\n",
    "              'learning_rate': [0.01, 0.05, 0.15],\n",
    "              'n_estimators': [500, 1000, 3000,],\n",
    "              'min_child_weight': [0, 5, 10],\n",
    "#               'max_delta_step': [0, 0.2, 0.6, 1, 2],\n",
    "#               'subsample': [0.6, 0.7, 0.8, 0.85, 0.95],\n",
    "#               'colsample_bytree': [0.5, 0.6, 0.7, 0.8, 0.9],\n",
    "#               'reg_alpha': [0, 0.25, 0.5, 0.75, 1],\n",
    "#               'reg_lambda': [0.2, 0.4, 0.6, 0.8, 1],\n",
    "#               'scale_pos_weight': [0.2, 0.4, 0.6, 0.8, 1]\n",
    "\n",
    "}\n",
    "\n",
    "# 学习目标参数\n",
    "# objective [缺省值=reg:linear]\n",
    "\n",
    "# reg:linear– 线性回归\n",
    "# reg:logistic – 逻辑回归\n",
    "# binary:logistic – 二分类逻辑回归，输出为概率\n",
    "# binary:logitraw – 二分类逻辑回归，输出的结果为wTx\n",
    "# count:poisson – 计数问题的poisson回归，输出结果为poisson分布。在poisson回归中，max_delta_step的缺省值为0.7 (used to safeguard optimization)\n",
    "# multi:softmax – 设置 XGBoost 使用softmax目标函数做多分类，需要设置参数num_class（类别个数）\n",
    "# multi:softprob – 如同softmax，但是输出结果为ndata*nclass的向量，其中的值是每个数据分为每个类的概率。\n",
    "\n",
    "\n",
    "xlf = xgb.XGBClassifier(max_depth=10,\n",
    "        learning_rate=0.01,\n",
    "        n_estimators=2000,\n",
    "        silent=True,\n",
    "        objective='binary:logistic',\n",
    "        nthread=-1,\n",
    "        gamma=0,\n",
    "        min_child_weight=1,\n",
    "        max_delta_step=0,\n",
    "        subsample=0.85,\n",
    "        colsample_bytree=0.7,\n",
    "        colsample_bylevel=1,\n",
    "        reg_alpha=0,\n",
    "        reg_lambda=1,\n",
    "        scale_pos_weight=1,\n",
    "        seed=1440,\n",
    "        missing=None)\n",
    "\n",
    "# 有了gridsearch我们便不需要fit函数\n",
    "gbm = GridSearchCV(xlf, param_grid=parameters, scoring='roc_auc', cv=5, verbose=2, n_jobs=36)\n",
    "gbm.fit(x_train, y_train)\n",
    "\n",
    "# 36cores 5.6min"
   ]
  },
  {
   "cell_type": "code",
   "execution_count": 96,
   "metadata": {
    "ExecuteTime": {
     "end_time": "2019-08-19T07:34:49.731478Z",
     "start_time": "2019-08-19T07:34:49.726927Z"
    }
   },
   "outputs": [
    {
     "name": "stdout",
     "output_type": "stream",
     "text": [
      "Best score: 0.791\n",
      "Best parameters set:\n",
      "\tlearning_rate: 0.01\n",
      "\tmax_depth: 5\n",
      "\tmin_child_weight: 10\n",
      "\tn_estimators: 500\n"
     ]
    }
   ],
   "source": [
    "print(\"Best score: %0.3f\" % gbm.best_score_)\n",
    "print(\"Best parameters set:\")\n",
    "best_parameters = gbm.best_estimator_.get_params()\n",
    "for param_name in sorted(parameters.keys()):\n",
    "    print(\"\\t%s: %r\" % (param_name, best_parameters[param_name]))"
   ]
  },
  {
   "cell_type": "code",
   "execution_count": 99,
   "metadata": {
    "ExecuteTime": {
     "end_time": "2019-08-19T07:35:37.567949Z",
     "start_time": "2019-08-19T07:35:37.557524Z"
    }
   },
   "outputs": [
    {
     "data": {
      "text/plain": [
       "array([0, 0, 0, ..., 0, 1, 0])"
      ]
     },
     "execution_count": 99,
     "metadata": {},
     "output_type": "execute_result"
    }
   ],
   "source": [
    "gbm.predict(x_test)"
   ]
  },
  {
   "cell_type": "code",
   "execution_count": 100,
   "metadata": {
    "ExecuteTime": {
     "end_time": "2019-08-19T07:36:05.012816Z",
     "start_time": "2019-08-19T07:36:04.986338Z"
    }
   },
   "outputs": [
    {
     "data": {
      "text/plain": [
       "0.812082530507386"
      ]
     },
     "execution_count": 100,
     "metadata": {},
     "output_type": "execute_result"
    }
   ],
   "source": [
    "gbm.score(x_test, y_test)"
   ]
  },
  {
   "cell_type": "code",
   "execution_count": 101,
   "metadata": {
    "ExecuteTime": {
     "end_time": "2019-08-19T07:36:24.221713Z",
     "start_time": "2019-08-19T07:36:24.201358Z"
    }
   },
   "outputs": [
    {
     "data": {
      "text/plain": [
       "0.9245949327360454"
      ]
     },
     "execution_count": 101,
     "metadata": {},
     "output_type": "execute_result"
    }
   ],
   "source": [
    "gbm.score(x_train, y_train)"
   ]
  },
  {
   "cell_type": "markdown",
   "metadata": {},
   "source": [
    "# 评分- 混淆矩阵 & precision_score & recall_score"
   ]
  },
  {
   "cell_type": "code",
   "execution_count": 102,
   "metadata": {
    "ExecuteTime": {
     "end_time": "2019-08-19T07:36:30.005854Z",
     "start_time": "2019-08-19T07:36:30.002663Z"
    }
   },
   "outputs": [],
   "source": [
    "# 混淆矩阵\n",
    "from sklearn.model_selection import cross_val_predict\n",
    "from sklearn.metrics import confusion_matrix, precision_score, recall_score, f1_score"
   ]
  },
  {
   "cell_type": "code",
   "execution_count": 103,
   "metadata": {
    "ExecuteTime": {
     "end_time": "2019-08-19T07:36:30.405017Z",
     "start_time": "2019-08-19T07:36:30.402880Z"
    }
   },
   "outputs": [],
   "source": [
    "# confusion_matrix??\n",
    "#     >>> tn, fp, fn, tp = confusion_matrix([0, 1, 0, 1], [1, 1, 1, 0]).ravel()\n",
    "#     >>> (tn, fp, fn, tp)\n",
    "#     (0, 2, 1, 1)"
   ]
  },
  {
   "cell_type": "code",
   "execution_count": 104,
   "metadata": {
    "ExecuteTime": {
     "end_time": "2019-08-19T07:36:30.846889Z",
     "start_time": "2019-08-19T07:36:30.842294Z"
    }
   },
   "outputs": [],
   "source": [
    "def get_P_R_value(y_test, y_test_pred):\n",
    "    obj = confusion_matrix(y_test, y_test_pred)\n",
    "    print('confusion_matrix\\n', obj)\n",
    "    score = (obj[0,0] + obj[1,1])/obj.sum()\n",
    "    print(f'score, {score:0.4f}')\n",
    "    P = precision_score(y_test, y_test_pred)\n",
    "    R = recall_score(y_test, y_test_pred)\n",
    "    F1 = f1_score(y_test, y_test_pred)\n",
    "    print(f'precision {P:0.4f}, recall {R:0.4f}, f1_score {F1:0.4f}')"
   ]
  },
  {
   "cell_type": "code",
   "execution_count": 106,
   "metadata": {
    "ExecuteTime": {
     "end_time": "2019-08-19T07:36:51.222868Z",
     "start_time": "2019-08-19T07:36:51.202248Z"
    }
   },
   "outputs": [
    {
     "name": "stdout",
     "output_type": "stream",
     "text": [
      "confusion_matrix\n",
      " [[1022   58]\n",
      " [ 220  126]]\n",
      "score, 0.8050\n",
      "precision 0.6848, recall 0.3642, f1_score 0.4755\n"
     ]
    }
   ],
   "source": [
    "# xgboost\n",
    "# get_P_R_value(y_test.values, ans>0.5)\n",
    "get_P_R_value(y_test, gbm.predict(x_test))"
   ]
  },
  {
   "cell_type": "code",
   "execution_count": 107,
   "metadata": {
    "ExecuteTime": {
     "end_time": "2019-08-19T07:36:51.753937Z",
     "start_time": "2019-08-19T07:36:51.735843Z"
    }
   },
   "outputs": [
    {
     "name": "stdout",
     "output_type": "stream",
     "text": [
      "confusion_matrix\n",
      " [[1029   51]\n",
      " [ 238  108]]\n",
      "score, 0.7973\n",
      "precision 0.6792, recall 0.3121, f1_score 0.4277\n"
     ]
    }
   ],
   "source": [
    "# lr\n",
    "get_P_R_value(y_test, clf_lr.predict(x_test))"
   ]
  },
  {
   "cell_type": "code",
   "execution_count": 108,
   "metadata": {
    "ExecuteTime": {
     "end_time": "2019-08-19T07:36:52.642865Z",
     "start_time": "2019-08-19T07:36:52.470743Z"
    }
   },
   "outputs": [
    {
     "name": "stdout",
     "output_type": "stream",
     "text": [
      "confusion_matrix\n",
      " [[1069   11]\n",
      " [ 295   51]]\n",
      "score, 0.7854\n",
      "precision 0.8226, recall 0.1474, f1_score 0.2500\n"
     ]
    }
   ],
   "source": [
    "# svm\n",
    "get_P_R_value(y_test, clf_svm.predict(x_test))"
   ]
  },
  {
   "cell_type": "code",
   "execution_count": 109,
   "metadata": {
    "ExecuteTime": {
     "end_time": "2019-08-19T07:36:53.064670Z",
     "start_time": "2019-08-19T07:36:53.054406Z"
    }
   },
   "outputs": [
    {
     "name": "stdout",
     "output_type": "stream",
     "text": [
      "confusion_matrix\n",
      " [[1055   25]\n",
      " [ 291   55]]\n",
      "score, 0.7784\n",
      "precision 0.6875, recall 0.1590, f1_score 0.2582\n"
     ]
    }
   ],
   "source": [
    "# 决策树\n",
    "get_P_R_value(y_test, clf_dt.predict(x_test))"
   ]
  },
  {
   "cell_type": "code",
   "execution_count": 110,
   "metadata": {
    "ExecuteTime": {
     "end_time": "2019-08-19T07:36:54.011299Z",
     "start_time": "2019-08-19T07:36:53.897194Z"
    }
   },
   "outputs": [
    {
     "name": "stdout",
     "output_type": "stream",
     "text": [
      "confusion_matrix\n",
      " [[1046   34]\n",
      " [ 253   93]]\n",
      "score, 0.7987\n",
      "precision 0.7323, recall 0.2688, f1_score 0.3932\n"
     ]
    }
   ],
   "source": [
    "# 随机森林\n",
    "get_P_R_value(y_test, clf_rf.predict(x_test))"
   ]
  },
  {
   "cell_type": "markdown",
   "metadata": {},
   "source": [
    "# 评分表格"
   ]
  },
  {
   "attachments": {
    "image.png": {
     "image/png": "[encoded data removed]"
    }
   },
   "cell_type": "markdown",
   "metadata": {},
   "source": [
    "![image.png](attachment:image.png)"
   ]
  },
  {
   "cell_type": "code",
   "execution_count": 150,
   "metadata": {
    "ExecuteTime": {
     "end_time": "2019-08-19T08:00:24.030502Z",
     "start_time": "2019-08-19T08:00:24.024277Z"
    }
   },
   "outputs": [],
   "source": [
    "from sklearn.model_selection import cross_val_predict\n",
    "from sklearn.metrics import confusion_matrix, precision_score, recall_score, f1_score, roc_auc_score\n",
    "\n",
    "def get_P_R_value(y_true, y_pred):\n",
    "    \"\"\"\n",
    "    :param y_true: \n",
    "    :param y_pred: \n",
    "    :returns: \n",
    "        # ['准确率_score', '精准率_precision', '召回率_recall', 'f1_score'],\n",
    "        # [score, P, R, F1]\n",
    "    :raises keyError: raises an exception\n",
    "    \"\"\"\n",
    "    obj = confusion_matrix(y_true, y_pred)\n",
    "    print('confusion_matrix\\n', obj)\n",
    "    score = (obj[0,0] + obj[1,1])/obj.sum()\n",
    "    print(f'score, {score:0.4f}')\n",
    "    P = precision_score(y_true, y_pred)\n",
    "    R = recall_score(y_true, y_pred)\n",
    "    F1 = f1_score(y_true, y_pred)\n",
    "    auc = roc_auc_score(y_true, y_pred)\n",
    "    print(f'precision {P:0.4f}, recall {R:0.4f}, f1_score {F1:0.4f}, auc {auc:0.4f}')\n",
    "    data = dict(zip(\n",
    "        ['score', 'precision', 'recall', 'f1_score', 'auc'],\n",
    "        [f'{score:0.4f}',f'{P:0.4f}', f'{R:0.4f}', f'{F1:0.4f}', f'{auc:0.4f}']\n",
    "    ))\n",
    "    return data"
   ]
  },
  {
   "cell_type": "markdown",
   "metadata": {},
   "source": [
    "## 计算评分"
   ]
  },
  {
   "cell_type": "code",
   "execution_count": 151,
   "metadata": {
    "ExecuteTime": {
     "end_time": "2019-08-19T08:00:24.822859Z",
     "start_time": "2019-08-19T08:00:24.820332Z"
    }
   },
   "outputs": [],
   "source": [
    "data_list = []"
   ]
  },
  {
   "cell_type": "code",
   "execution_count": 152,
   "metadata": {
    "ExecuteTime": {
     "end_time": "2019-08-19T08:00:25.192441Z",
     "start_time": "2019-08-19T08:00:25.190204Z"
    }
   },
   "outputs": [],
   "source": [
    "clf_xgb = gbm"
   ]
  },
  {
   "cell_type": "code",
   "execution_count": 153,
   "metadata": {
    "ExecuteTime": {
     "end_time": "2019-08-19T08:00:25.616296Z",
     "start_time": "2019-08-19T08:00:25.612369Z"
    }
   },
   "outputs": [
    {
     "data": {
      "text/plain": [
       "['clf', 'clf_dt', 'clf_lr', 'clf_model', 'clf_rf', 'clf_svm', 'clf_xgb']"
      ]
     },
     "execution_count": 153,
     "metadata": {},
     "output_type": "execute_result"
    }
   ],
   "source": [
    "[i for i in dir() if 'clf' in i]"
   ]
  },
  {
   "cell_type": "code",
   "execution_count": 154,
   "metadata": {
    "ExecuteTime": {
     "end_time": "2019-08-19T08:00:26.409810Z",
     "start_time": "2019-08-19T08:00:26.405224Z"
    }
   },
   "outputs": [],
   "source": [
    "def get_score(clf_model, data_set):\n",
    "    # clf_model\n",
    "    # ['clf_dt', 'clf_lr', 'clf_rf', 'clf_svm']\n",
    "    \n",
    "    # data_set\n",
    "    # train, test\n",
    "    data = {}\n",
    "    data['clf_model'] = clf_model\n",
    "    data['data_set'] = data_set\n",
    "    print(f'{clf_model} >>> {data_set}')\n",
    "    clf = eval(clf_model)\n",
    "    y_true = eval('y_%s' % data_set)\n",
    "    x = eval('x_%s' % data_set)\n",
    "    data.update(get_P_R_value(y_true, clf.predict(x)))\n",
    "    return data"
   ]
  },
  {
   "cell_type": "code",
   "execution_count": 155,
   "metadata": {
    "ExecuteTime": {
     "end_time": "2019-08-19T08:00:27.869367Z",
     "start_time": "2019-08-19T08:00:26.940599Z"
    }
   },
   "outputs": [
    {
     "name": "stdout",
     "output_type": "stream",
     "text": [
      "clf_dt >>> train\n",
      "confusion_matrix\n",
      " [[2433   46]\n",
      " [ 676  171]]\n",
      "score, 0.7829\n",
      "precision 0.7880, recall 0.2019, f1_score 0.3214, auc 0.5917\n",
      "clf_dt >>> test\n",
      "confusion_matrix\n",
      " [[1055   25]\n",
      " [ 291   55]]\n",
      "score, 0.7784\n",
      "precision 0.6875, recall 0.1590, f1_score 0.2582, auc 0.5679\n",
      "------------------------------\n",
      "clf_lr >>> train\n",
      "confusion_matrix\n",
      " [[2362  117]\n",
      " [ 548  299]]\n",
      "score, 0.8001\n",
      "precision 0.7188, recall 0.3530, f1_score 0.4735, auc 0.6529\n",
      "clf_lr >>> test\n",
      "confusion_matrix\n",
      " [[1021   59]\n",
      " [ 223  123]]\n",
      "score, 0.8022\n",
      "precision 0.6758, recall 0.3555, f1_score 0.4659, auc 0.6504\n",
      "------------------------------\n",
      "clf_rf >>> train\n",
      "confusion_matrix\n",
      " [[2479    0]\n",
      " [  64  783]]\n",
      "score, 0.9808\n",
      "precision 1.0000, recall 0.9244, f1_score 0.9607, auc 0.9622\n",
      "clf_rf >>> test\n",
      "confusion_matrix\n",
      " [[1047   33]\n",
      " [ 252   94]]\n",
      "score, 0.8001\n",
      "precision 0.7402, recall 0.2717, f1_score 0.3975, auc 0.6206\n",
      "------------------------------\n",
      "clf_svm >>> train\n",
      "confusion_matrix\n",
      " [[2460   19]\n",
      " [ 728  119]]\n",
      "score, 0.7754\n",
      "precision 0.8623, recall 0.1405, f1_score 0.2416, auc 0.5664\n",
      "clf_svm >>> test\n",
      "confusion_matrix\n",
      " [[1069   11]\n",
      " [ 295   51]]\n",
      "score, 0.7854\n",
      "precision 0.8226, recall 0.1474, f1_score 0.2500, auc 0.5686\n",
      "------------------------------\n",
      "clf_xgb >>> train\n",
      "confusion_matrix\n",
      " [[2419   60]\n",
      " [ 421  426]]\n",
      "score, 0.8554\n",
      "precision 0.8765, recall 0.5030, f1_score 0.6392, auc 0.7394\n",
      "clf_xgb >>> test\n",
      "confusion_matrix\n",
      " [[1022   58]\n",
      " [ 220  126]]\n",
      "score, 0.8050\n",
      "precision 0.6848, recall 0.3642, f1_score 0.4755, auc 0.6552\n",
      "------------------------------\n"
     ]
    }
   ],
   "source": [
    "for clf_model in ['clf_dt', 'clf_lr', 'clf_rf', 'clf_svm', 'clf_xgb']:\n",
    "    for data_set in ['train', 'test']:\n",
    "        data = get_score(clf_model, data_set)\n",
    "        data_list.append(data)\n",
    "    print('-' * 30)"
   ]
  },
  {
   "cell_type": "code",
   "execution_count": 156,
   "metadata": {
    "ExecuteTime": {
     "end_time": "2019-08-19T08:00:29.489509Z",
     "start_time": "2019-08-19T08:00:29.485580Z"
    }
   },
   "outputs": [
    {
     "data": {
      "text/plain": [
       "dict_keys(['clf_model', 'data_set', 'score', 'precision', 'recall', 'f1_score', 'auc'])"
      ]
     },
     "execution_count": 156,
     "metadata": {},
     "output_type": "execute_result"
    }
   ],
   "source": [
    "data.keys()"
   ]
  },
  {
   "cell_type": "code",
   "execution_count": 157,
   "metadata": {
    "ExecuteTime": {
     "end_time": "2019-08-19T08:00:29.960208Z",
     "start_time": "2019-08-19T08:00:29.955875Z"
    }
   },
   "outputs": [],
   "source": [
    "df = pd.DataFrame(data_list, columns=['clf_model', 'data_set', 'score', 'precision', 'recall', 'f1_score', 'auc'])"
   ]
  },
  {
   "cell_type": "code",
   "execution_count": 158,
   "metadata": {
    "ExecuteTime": {
     "end_time": "2019-08-19T08:00:30.318995Z",
     "start_time": "2019-08-19T08:00:30.307502Z"
    }
   },
   "outputs": [
    {
     "data": {
      "text/html": [
       "<div>\n",
       "<style scoped>\n",
       "    .dataframe tbody tr th:only-of-type {\n",
       "        vertical-align: middle;\n",
       "    }\n",
       "\n",
       "    .dataframe tbody tr th {\n",
       "        vertical-align: top;\n",
       "    }\n",
       "\n",
       "    .dataframe thead th {\n",
       "        text-align: right;\n",
       "    }\n",
       "</style>\n",
       "<table border=\"1\" class=\"dataframe\">\n",
       "  <thead>\n",
       "    <tr style=\"text-align: right;\">\n",
       "      <th></th>\n",
       "      <th>clf_model</th>\n",
       "      <th>data_set</th>\n",
       "      <th>score</th>\n",
       "      <th>precision</th>\n",
       "      <th>recall</th>\n",
       "      <th>f1_score</th>\n",
       "      <th>auc</th>\n",
       "    </tr>\n",
       "  </thead>\n",
       "  <tbody>\n",
       "    <tr>\n",
       "      <th>0</th>\n",
       "      <td>clf_dt</td>\n",
       "      <td>train</td>\n",
       "      <td>0.7829</td>\n",
       "      <td>0.7880</td>\n",
       "      <td>0.2019</td>\n",
       "      <td>0.3214</td>\n",
       "      <td>0.5917</td>\n",
       "    </tr>\n",
       "    <tr>\n",
       "      <th>1</th>\n",
       "      <td>clf_dt</td>\n",
       "      <td>test</td>\n",
       "      <td>0.7784</td>\n",
       "      <td>0.6875</td>\n",
       "      <td>0.1590</td>\n",
       "      <td>0.2582</td>\n",
       "      <td>0.5679</td>\n",
       "    </tr>\n",
       "    <tr>\n",
       "      <th>2</th>\n",
       "      <td>clf_lr</td>\n",
       "      <td>train</td>\n",
       "      <td>0.8001</td>\n",
       "      <td>0.7188</td>\n",
       "      <td>0.3530</td>\n",
       "      <td>0.4735</td>\n",
       "      <td>0.6529</td>\n",
       "    </tr>\n",
       "    <tr>\n",
       "      <th>3</th>\n",
       "      <td>clf_lr</td>\n",
       "      <td>test</td>\n",
       "      <td>0.8022</td>\n",
       "      <td>0.6758</td>\n",
       "      <td>0.3555</td>\n",
       "      <td>0.4659</td>\n",
       "      <td>0.6504</td>\n",
       "    </tr>\n",
       "    <tr>\n",
       "      <th>4</th>\n",
       "      <td>clf_rf</td>\n",
       "      <td>train</td>\n",
       "      <td>0.9808</td>\n",
       "      <td>1.0000</td>\n",
       "      <td>0.9244</td>\n",
       "      <td>0.9607</td>\n",
       "      <td>0.9622</td>\n",
       "    </tr>\n",
       "    <tr>\n",
       "      <th>5</th>\n",
       "      <td>clf_rf</td>\n",
       "      <td>test</td>\n",
       "      <td>0.8001</td>\n",
       "      <td>0.7402</td>\n",
       "      <td>0.2717</td>\n",
       "      <td>0.3975</td>\n",
       "      <td>0.6206</td>\n",
       "    </tr>\n",
       "    <tr>\n",
       "      <th>6</th>\n",
       "      <td>clf_svm</td>\n",
       "      <td>train</td>\n",
       "      <td>0.7754</td>\n",
       "      <td>0.8623</td>\n",
       "      <td>0.1405</td>\n",
       "      <td>0.2416</td>\n",
       "      <td>0.5664</td>\n",
       "    </tr>\n",
       "    <tr>\n",
       "      <th>7</th>\n",
       "      <td>clf_svm</td>\n",
       "      <td>test</td>\n",
       "      <td>0.7854</td>\n",
       "      <td>0.8226</td>\n",
       "      <td>0.1474</td>\n",
       "      <td>0.2500</td>\n",
       "      <td>0.5686</td>\n",
       "    </tr>\n",
       "    <tr>\n",
       "      <th>8</th>\n",
       "      <td>clf_xgb</td>\n",
       "      <td>train</td>\n",
       "      <td>0.8554</td>\n",
       "      <td>0.8765</td>\n",
       "      <td>0.5030</td>\n",
       "      <td>0.6392</td>\n",
       "      <td>0.7394</td>\n",
       "    </tr>\n",
       "    <tr>\n",
       "      <th>9</th>\n",
       "      <td>clf_xgb</td>\n",
       "      <td>test</td>\n",
       "      <td>0.8050</td>\n",
       "      <td>0.6848</td>\n",
       "      <td>0.3642</td>\n",
       "      <td>0.4755</td>\n",
       "      <td>0.6552</td>\n",
       "    </tr>\n",
       "  </tbody>\n",
       "</table>\n",
       "</div>"
      ],
      "text/plain": [
       "  clf_model data_set   score precision  recall f1_score     auc\n",
       "0    clf_dt    train  0.7829    0.7880  0.2019   0.3214  0.5917\n",
       "1    clf_dt     test  0.7784    0.6875  0.1590   0.2582  0.5679\n",
       "2    clf_lr    train  0.8001    0.7188  0.3530   0.4735  0.6529\n",
       "3    clf_lr     test  0.8022    0.6758  0.3555   0.4659  0.6504\n",
       "4    clf_rf    train  0.9808    1.0000  0.9244   0.9607  0.9622\n",
       "5    clf_rf     test  0.8001    0.7402  0.2717   0.3975  0.6206\n",
       "6   clf_svm    train  0.7754    0.8623  0.1405   0.2416  0.5664\n",
       "7   clf_svm     test  0.7854    0.8226  0.1474   0.2500  0.5686\n",
       "8   clf_xgb    train  0.8554    0.8765  0.5030   0.6392  0.7394\n",
       "9   clf_xgb     test  0.8050    0.6848  0.3642   0.4755  0.6552"
      ]
     },
     "execution_count": 158,
     "metadata": {},
     "output_type": "execute_result"
    }
   ],
   "source": [
    "df"
   ]
  },
  {
   "cell_type": "code",
   "execution_count": 159,
   "metadata": {
    "ExecuteTime": {
     "end_time": "2019-08-19T08:00:31.961664Z",
     "start_time": "2019-08-19T08:00:31.956826Z"
    }
   },
   "outputs": [],
   "source": [
    "df.clf_model = df.clf_model.replace(['clf_lr','clf_svm', 'clf_dt',  'clf_rf', 'clf_xgb'],\n",
    "                    ['逻辑回归', 'SVM', '决策树', '随机森林', 'XGBoost']\n",
    ")"
   ]
  },
  {
   "cell_type": "code",
   "execution_count": 160,
   "metadata": {
    "ExecuteTime": {
     "end_time": "2019-08-19T08:00:32.173496Z",
     "start_time": "2019-08-19T08:00:32.170503Z"
    }
   },
   "outputs": [],
   "source": [
    "df.data_set = df.data_set.replace(['train','test', ],\n",
    "                    ['训练集', '测试集']\n",
    ")"
   ]
  },
  {
   "cell_type": "code",
   "execution_count": 161,
   "metadata": {
    "ExecuteTime": {
     "end_time": "2019-08-19T08:00:32.478726Z",
     "start_time": "2019-08-19T08:00:32.475004Z"
    }
   },
   "outputs": [
    {
     "data": {
      "text/plain": [
       "Index(['clf_model', 'data_set', 'score', 'precision', 'recall', 'f1_score',\n",
       "       'auc'],\n",
       "      dtype='object')"
      ]
     },
     "execution_count": 161,
     "metadata": {},
     "output_type": "execute_result"
    }
   ],
   "source": [
    "df.columns"
   ]
  },
  {
   "cell_type": "code",
   "execution_count": 162,
   "metadata": {
    "ExecuteTime": {
     "end_time": "2019-08-19T08:00:32.831254Z",
     "start_time": "2019-08-19T08:00:32.828363Z"
    }
   },
   "outputs": [],
   "source": [
    "df.columns = ['模型', '数据集', '准确率', '精准率', '召回率', 'F1_score', 'AUC值']"
   ]
  },
  {
   "cell_type": "code",
   "execution_count": 164,
   "metadata": {
    "ExecuteTime": {
     "end_time": "2019-08-19T08:00:36.483889Z",
     "start_time": "2019-08-19T08:00:36.468765Z"
    }
   },
   "outputs": [
    {
     "data": {
      "text/html": [
       "<div>\n",
       "<style scoped>\n",
       "    .dataframe tbody tr th:only-of-type {\n",
       "        vertical-align: middle;\n",
       "    }\n",
       "\n",
       "    .dataframe tbody tr th {\n",
       "        vertical-align: top;\n",
       "    }\n",
       "\n",
       "    .dataframe thead th {\n",
       "        text-align: right;\n",
       "    }\n",
       "</style>\n",
       "<table border=\"1\" class=\"dataframe\">\n",
       "  <thead>\n",
       "    <tr style=\"text-align: right;\">\n",
       "      <th></th>\n",
       "      <th>模型</th>\n",
       "      <th>数据集</th>\n",
       "      <th>准确率</th>\n",
       "      <th>精准率</th>\n",
       "      <th>召回率</th>\n",
       "      <th>F1_score</th>\n",
       "      <th>AUC值</th>\n",
       "    </tr>\n",
       "  </thead>\n",
       "  <tbody>\n",
       "    <tr>\n",
       "      <th>4</th>\n",
       "      <td>随机森林</td>\n",
       "      <td>训练集</td>\n",
       "      <td>0.9808</td>\n",
       "      <td>1.0000</td>\n",
       "      <td>0.9244</td>\n",
       "      <td>0.9607</td>\n",
       "      <td>0.9622</td>\n",
       "    </tr>\n",
       "    <tr>\n",
       "      <th>8</th>\n",
       "      <td>XGBoost</td>\n",
       "      <td>训练集</td>\n",
       "      <td>0.8554</td>\n",
       "      <td>0.8765</td>\n",
       "      <td>0.5030</td>\n",
       "      <td>0.6392</td>\n",
       "      <td>0.7394</td>\n",
       "    </tr>\n",
       "    <tr>\n",
       "      <th>2</th>\n",
       "      <td>逻辑回归</td>\n",
       "      <td>训练集</td>\n",
       "      <td>0.8001</td>\n",
       "      <td>0.7188</td>\n",
       "      <td>0.3530</td>\n",
       "      <td>0.4735</td>\n",
       "      <td>0.6529</td>\n",
       "    </tr>\n",
       "    <tr>\n",
       "      <th>0</th>\n",
       "      <td>决策树</td>\n",
       "      <td>训练集</td>\n",
       "      <td>0.7829</td>\n",
       "      <td>0.7880</td>\n",
       "      <td>0.2019</td>\n",
       "      <td>0.3214</td>\n",
       "      <td>0.5917</td>\n",
       "    </tr>\n",
       "    <tr>\n",
       "      <th>6</th>\n",
       "      <td>SVM</td>\n",
       "      <td>训练集</td>\n",
       "      <td>0.7754</td>\n",
       "      <td>0.8623</td>\n",
       "      <td>0.1405</td>\n",
       "      <td>0.2416</td>\n",
       "      <td>0.5664</td>\n",
       "    </tr>\n",
       "    <tr>\n",
       "      <th>9</th>\n",
       "      <td>XGBoost</td>\n",
       "      <td>测试集</td>\n",
       "      <td>0.8050</td>\n",
       "      <td>0.6848</td>\n",
       "      <td>0.3642</td>\n",
       "      <td>0.4755</td>\n",
       "      <td>0.6552</td>\n",
       "    </tr>\n",
       "    <tr>\n",
       "      <th>3</th>\n",
       "      <td>逻辑回归</td>\n",
       "      <td>测试集</td>\n",
       "      <td>0.8022</td>\n",
       "      <td>0.6758</td>\n",
       "      <td>0.3555</td>\n",
       "      <td>0.4659</td>\n",
       "      <td>0.6504</td>\n",
       "    </tr>\n",
       "    <tr>\n",
       "      <th>5</th>\n",
       "      <td>随机森林</td>\n",
       "      <td>测试集</td>\n",
       "      <td>0.8001</td>\n",
       "      <td>0.7402</td>\n",
       "      <td>0.2717</td>\n",
       "      <td>0.3975</td>\n",
       "      <td>0.6206</td>\n",
       "    </tr>\n",
       "    <tr>\n",
       "      <th>7</th>\n",
       "      <td>SVM</td>\n",
       "      <td>测试集</td>\n",
       "      <td>0.7854</td>\n",
       "      <td>0.8226</td>\n",
       "      <td>0.1474</td>\n",
       "      <td>0.2500</td>\n",
       "      <td>0.5686</td>\n",
       "    </tr>\n",
       "    <tr>\n",
       "      <th>1</th>\n",
       "      <td>决策树</td>\n",
       "      <td>测试集</td>\n",
       "      <td>0.7784</td>\n",
       "      <td>0.6875</td>\n",
       "      <td>0.1590</td>\n",
       "      <td>0.2582</td>\n",
       "      <td>0.5679</td>\n",
       "    </tr>\n",
       "  </tbody>\n",
       "</table>\n",
       "</div>"
      ],
      "text/plain": [
       "        模型  数据集     准确率     精准率     召回率 F1_score    AUC值\n",
       "4     随机森林  训练集  0.9808  1.0000  0.9244   0.9607  0.9622\n",
       "8  XGBoost  训练集  0.8554  0.8765  0.5030   0.6392  0.7394\n",
       "2     逻辑回归  训练集  0.8001  0.7188  0.3530   0.4735  0.6529\n",
       "0      决策树  训练集  0.7829  0.7880  0.2019   0.3214  0.5917\n",
       "6      SVM  训练集  0.7754  0.8623  0.1405   0.2416  0.5664\n",
       "9  XGBoost  测试集  0.8050  0.6848  0.3642   0.4755  0.6552\n",
       "3     逻辑回归  测试集  0.8022  0.6758  0.3555   0.4659  0.6504\n",
       "5     随机森林  测试集  0.8001  0.7402  0.2717   0.3975  0.6206\n",
       "7      SVM  测试集  0.7854  0.8226  0.1474   0.2500  0.5686\n",
       "1      决策树  测试集  0.7784  0.6875  0.1590   0.2582  0.5679"
      ]
     },
     "execution_count": 164,
     "metadata": {},
     "output_type": "execute_result"
    }
   ],
   "source": [
    "df.sort_values(['数据集', 'AUC值'], ascending=False)"
   ]
  },
  {
   "cell_type": "code",
   "execution_count": null,
   "metadata": {},
   "outputs": [],
   "source": []
  },
  {
   "cell_type": "code",
   "execution_count": null,
   "metadata": {},
   "outputs": [],
   "source": []
  },
  {
   "cell_type": "markdown",
   "metadata": {},
   "source": [
    "## ROC曲线"
   ]
  },
  {
   "cell_type": "code",
   "execution_count": 128,
   "metadata": {
    "ExecuteTime": {
     "end_time": "2019-08-19T07:39:22.004951Z",
     "start_time": "2019-08-19T07:39:22.002247Z"
    }
   },
   "outputs": [],
   "source": [
    "from sklearn.metrics import roc_curve\n",
    "from sklearn.model_selection import cross_val_predict"
   ]
  },
  {
   "cell_type": "code",
   "execution_count": 129,
   "metadata": {
    "ExecuteTime": {
     "end_time": "2019-08-19T07:39:22.467494Z",
     "start_time": "2019-08-19T07:39:22.462238Z"
    }
   },
   "outputs": [],
   "source": [
    "clf_model = 'clf_lr'\n",
    "data_set = 'train'\n",
    "def get_roc_element(clf_model,data_set):\n",
    "\n",
    "    clf = eval(clf_model)\n",
    "    y_true = eval('y_%s' % data_set)\n",
    "    x = eval('x_%s' % data_set)\n",
    "    \n",
    "    if clf_model in ['clf_dt', 'clf_rf']:\n",
    "        y_probas = cross_val_predict(clf, x, y_true, cv=3, method='predict_proba')\n",
    "        y_scores = y_probas[:, 1]\n",
    "    else:\n",
    "        y_scores = cross_val_predict(clf, x, y_true, cv=3, method='decision_function')\n",
    "        \n",
    "    fpr, tpr, thresholds = roc_curve(y_true, y_scores)\n",
    "    roc_data = dict(zip(\n",
    "        ['clf_model', 'data_set', 'fpr', 'tpr', 'thresholds'],\n",
    "        [clf_model, data_set, fpr, tpr, thresholds]\n",
    "    ))\n",
    "    return roc_data"
   ]
  },
  {
   "cell_type": "code",
   "execution_count": 130,
   "metadata": {
    "ExecuteTime": {
     "end_time": "2019-08-19T07:39:24.126884Z",
     "start_time": "2019-08-19T07:39:24.123202Z"
    }
   },
   "outputs": [],
   "source": [
    "def plot_roc_curve(fpr, tpr, label=None):\n",
    "    plt.plot(fpr, tpr, linewidth = 2, label=label)\n",
    "    plt.plot([0,1],[0,1], 'k--')\n",
    "    plt.axis([0,1,0,1])\n",
    "    plt.xlabel('False Postivie Rate')\n",
    "    plt.ylabel('True Positive Rate')"
   ]
  },
  {
   "cell_type": "markdown",
   "metadata": {},
   "source": [
    "### LR"
   ]
  },
  {
   "cell_type": "code",
   "execution_count": 131,
   "metadata": {
    "ExecuteTime": {
     "end_time": "2019-08-19T07:39:38.324007Z",
     "start_time": "2019-08-19T07:39:25.538518Z"
    }
   },
   "outputs": [
    {
     "name": "stdout",
     "output_type": "stream",
     "text": [
      "Fitting 5 folds for each of 45 candidates, totalling 225 fits\n"
     ]
    },
    {
     "name": "stderr",
     "output_type": "stream",
     "text": [
      "[Parallel(n_jobs=-1)]: Using backend LokyBackend with 40 concurrent workers.\n",
      "[Parallel(n_jobs=-1)]: Done 120 tasks      | elapsed:    4.4s\n",
      "[Parallel(n_jobs=-1)]: Done 225 out of 225 | elapsed:    4.8s finished\n",
      "[Parallel(n_jobs=-1)]: Using backend LokyBackend with 40 concurrent workers.\n"
     ]
    },
    {
     "name": "stdout",
     "output_type": "stream",
     "text": [
      "Fitting 5 folds for each of 45 candidates, totalling 225 fits\n"
     ]
    },
    {
     "name": "stderr",
     "output_type": "stream",
     "text": [
      "[Parallel(n_jobs=-1)]: Done 225 out of 225 | elapsed:    0.9s finished\n",
      "[Parallel(n_jobs=-1)]: Using backend LokyBackend with 40 concurrent workers.\n"
     ]
    },
    {
     "name": "stdout",
     "output_type": "stream",
     "text": [
      "Fitting 5 folds for each of 45 candidates, totalling 225 fits\n"
     ]
    },
    {
     "name": "stderr",
     "output_type": "stream",
     "text": [
      "[Parallel(n_jobs=-1)]: Done 225 out of 225 | elapsed:    1.2s finished\n",
      "[Parallel(n_jobs=-1)]: Using backend LokyBackend with 40 concurrent workers.\n"
     ]
    },
    {
     "name": "stdout",
     "output_type": "stream",
     "text": [
      "Fitting 5 folds for each of 45 candidates, totalling 225 fits\n"
     ]
    },
    {
     "name": "stderr",
     "output_type": "stream",
     "text": [
      "[Parallel(n_jobs=-1)]: Done 225 out of 225 | elapsed:    1.1s finished\n",
      "[Parallel(n_jobs=-1)]: Using backend LokyBackend with 40 concurrent workers.\n"
     ]
    },
    {
     "name": "stdout",
     "output_type": "stream",
     "text": [
      "Fitting 5 folds for each of 45 candidates, totalling 225 fits\n"
     ]
    },
    {
     "name": "stderr",
     "output_type": "stream",
     "text": [
      "[Parallel(n_jobs=-1)]: Done 225 out of 225 | elapsed:    0.7s finished\n",
      "[Parallel(n_jobs=-1)]: Using backend LokyBackend with 40 concurrent workers.\n"
     ]
    },
    {
     "name": "stdout",
     "output_type": "stream",
     "text": [
      "Fitting 5 folds for each of 45 candidates, totalling 225 fits\n"
     ]
    },
    {
     "name": "stderr",
     "output_type": "stream",
     "text": [
      "[Parallel(n_jobs=-1)]: Done 225 out of 225 | elapsed:    0.7s finished\n"
     ]
    }
   ],
   "source": [
    "clf_model = 'clf_lr'\n",
    "roc_data_train = get_roc_element(clf_model,'train')\n",
    "roc_data_test = get_roc_element(clf_model,'test')"
   ]
  },
  {
   "cell_type": "code",
   "execution_count": 132,
   "metadata": {
    "ExecuteTime": {
     "end_time": "2019-08-19T07:39:40.818593Z",
     "start_time": "2019-08-19T07:39:40.638034Z"
    }
   },
   "outputs": [
    {
     "data": {
      "image/png": "[encoded data removed]",
      "text/plain": [
       "<Figure size 432x288 with 1 Axes>"
      ]
     },
     "metadata": {
      "needs_background": "light"
     },
     "output_type": "display_data"
    }
   ],
   "source": [
    "plot_roc_curve(roc_data_train['fpr'], roc_data_train['tpr'], label='lr_train')\n",
    "plot_roc_curve(roc_data_test['fpr'], roc_data_test['tpr'], label='lr_test')\n",
    "plt.legend()\n",
    "plt.show()"
   ]
  },
  {
   "cell_type": "code",
   "execution_count": null,
   "metadata": {},
   "outputs": [],
   "source": []
  },
  {
   "cell_type": "markdown",
   "metadata": {},
   "source": [
    "### SVM"
   ]
  },
  {
   "cell_type": "code",
   "execution_count": 77,
   "metadata": {
    "ExecuteTime": {
     "end_time": "2019-08-12T08:56:59.080156Z",
     "start_time": "2019-08-12T08:56:57.927559Z"
    }
   },
   "outputs": [],
   "source": [
    "clf_model = 'clf_svm'\n",
    "roc_data_train = get_roc_element(clf_model,'train')\n",
    "roc_data_test = get_roc_element(clf_model,'test')"
   ]
  },
  {
   "cell_type": "code",
   "execution_count": 78,
   "metadata": {
    "ExecuteTime": {
     "end_time": "2019-08-12T08:56:59.261229Z",
     "start_time": "2019-08-12T08:56:59.082367Z"
    }
   },
   "outputs": [
    {
     "data": {
      "image/png": "[encoded data removed]",
      "text/plain": [
       "<Figure size 432x288 with 1 Axes>"
      ]
     },
     "metadata": {
      "needs_background": "light"
     },
     "output_type": "display_data"
    }
   ],
   "source": [
    "plot_roc_curve(roc_data_train['fpr'], roc_data_train['tpr'], label='svm_train')\n",
    "plot_roc_curve(roc_data_test['fpr'], roc_data_test['tpr'], label='svm_test')\n",
    "plt.legend()\n",
    "plt.show()"
   ]
  },
  {
   "cell_type": "code",
   "execution_count": null,
   "metadata": {},
   "outputs": [],
   "source": []
  },
  {
   "cell_type": "markdown",
   "metadata": {},
   "source": [
    "### DecisionTree"
   ]
  },
  {
   "cell_type": "code",
   "execution_count": 79,
   "metadata": {
    "ExecuteTime": {
     "end_time": "2019-08-12T08:56:59.598155Z",
     "start_time": "2019-08-12T08:56:59.262664Z"
    }
   },
   "outputs": [],
   "source": [
    "clf_model = 'clf_dt'\n",
    "roc_data_train = get_roc_element(clf_model,'train')\n",
    "roc_data_test = get_roc_element(clf_model,'test')"
   ]
  },
  {
   "cell_type": "code",
   "execution_count": 80,
   "metadata": {
    "ExecuteTime": {
     "end_time": "2019-08-12T08:56:59.774497Z",
     "start_time": "2019-08-12T08:56:59.599774Z"
    }
   },
   "outputs": [
    {
     "data": {
      "image/png": "[encoded data removed]",
      "text/plain": [
       "<Figure size 432x288 with 1 Axes>"
      ]
     },
     "metadata": {
      "needs_background": "light"
     },
     "output_type": "display_data"
    }
   ],
   "source": [
    "plot_roc_curve(roc_data_train['fpr'], roc_data_train['tpr'], label='dt_train')\n",
    "plot_roc_curve(roc_data_test['fpr'], roc_data_test['tpr'], label='dt_test')\n",
    "plt.legend()\n",
    "plt.show()"
   ]
  },
  {
   "cell_type": "code",
   "execution_count": null,
   "metadata": {},
   "outputs": [],
   "source": []
  },
  {
   "cell_type": "markdown",
   "metadata": {},
   "source": [
    "### RondomForest"
   ]
  },
  {
   "cell_type": "code",
   "execution_count": 81,
   "metadata": {
    "ExecuteTime": {
     "end_time": "2019-08-12T08:57:01.993925Z",
     "start_time": "2019-08-12T08:56:59.775984Z"
    }
   },
   "outputs": [],
   "source": [
    "clf_model = 'clf_rf'\n",
    "roc_data_train = get_roc_element(clf_model,'train')\n",
    "roc_data_test = get_roc_element(clf_model,'test')"
   ]
  },
  {
   "cell_type": "code",
   "execution_count": 82,
   "metadata": {
    "ExecuteTime": {
     "end_time": "2019-08-12T08:57:02.168021Z",
     "start_time": "2019-08-12T08:57:01.995819Z"
    }
   },
   "outputs": [
    {
     "data": {
      "image/png": "[encoded data removed]",
      "text/plain": [
       "<Figure size 432x288 with 1 Axes>"
      ]
     },
     "metadata": {
      "needs_background": "light"
     },
     "output_type": "display_data"
    }
   ],
   "source": [
    "plot_roc_curve(roc_data_train['fpr'], roc_data_train['tpr'], label='rf_train')\n",
    "plot_roc_curve(roc_data_test['fpr'], roc_data_test['tpr'], label='rf_test')\n",
    "plt.legend()\n",
    "plt.show()"
   ]
  },
  {
   "cell_type": "code",
   "execution_count": null,
   "metadata": {},
   "outputs": [],
   "source": []
  },
  {
   "cell_type": "markdown",
   "metadata": {},
   "source": [
    "### XGboost"
   ]
  },
  {
   "cell_type": "code",
   "execution_count": 83,
   "metadata": {
    "ExecuteTime": {
     "end_time": "2019-08-12T08:57:02.384014Z",
     "start_time": "2019-08-12T08:57:02.169616Z"
    }
   },
   "outputs": [
    {
     "data": {
      "image/png": "[encoded data removed]",
      "text/plain": [
       "<Figure size 432x288 with 1 Axes>"
      ]
     },
     "metadata": {
      "needs_background": "light"
     },
     "output_type": "display_data"
    }
   ],
   "source": [
    "# plt.figure(figsize=(12, 8))\n",
    "y_train_pred = gbm.predict(xgb.DMatrix(x_train), ntree_limit=gbm.best_iteration+1)\n",
    "fpr_train, tpr_train, _ = roc_curve(y_train.values, y_train_pred)\n",
    "plot_roc_curve(fpr_train, tpr_train, label='xgb_train')\n",
    "\n",
    "\n",
    "y_test_pred = gbm.predict(xgb.DMatrix(x_test), ntree_limit=gbm.best_iteration+1)\n",
    "fpr_test, tpr_test, _ = roc_curve(y_test.values, y_test_pred)\n",
    "plot_roc_curve(fpr_test, tpr_test, label='xgb_test')\n",
    "\n",
    "plt.legend()\n",
    "plt.show()"
   ]
  },
  {
   "cell_type": "code",
   "execution_count": null,
   "metadata": {},
   "outputs": [],
   "source": []
  },
  {
   "cell_type": "markdown",
   "metadata": {},
   "source": [
    "# 结果汇总"
   ]
  },
  {
   "cell_type": "code",
   "execution_count": null,
   "metadata": {
    "ExecuteTime": {
     "end_time": "2019-08-12T08:57:05.497356Z",
     "start_time": "2019-08-12T08:57:02.385466Z"
    }
   },
   "outputs": [],
   "source": [
    "plt.figure(figsize=(12, 8))\n",
    "\n",
    "### LR\n",
    "clf_model = 'clf_lr'\n",
    "roc_data_train = get_roc_element(clf_model,'train')\n",
    "roc_data_test = get_roc_element(clf_model,'test')\n",
    "\n",
    "plot_roc_curve(roc_data_train['fpr'], roc_data_train['tpr'], label='lr_train')\n",
    "plot_roc_curve(roc_data_test['fpr'], roc_data_test['tpr'], label='lr_test')\n",
    "\n",
    "### SVM\n",
    "clf_model = 'clf_svm'\n",
    "roc_data_train = get_roc_element(clf_model,'train')\n",
    "roc_data_test = get_roc_element(clf_model,'test')\n",
    "\n",
    "plot_roc_curve(roc_data_train['fpr'], roc_data_train['tpr'], label='svm_train')\n",
    "plot_roc_curve(roc_data_test['fpr'], roc_data_test['tpr'], label='svm_test')\n",
    "\n",
    "### DecisionTree\n",
    "\n",
    "clf_model = 'clf_dt'\n",
    "roc_data_train = get_roc_element(clf_model,'train')\n",
    "roc_data_test = get_roc_element(clf_model,'test')\n",
    "\n",
    "plot_roc_curve(roc_data_train['fpr'], roc_data_train['tpr'], label='dt_train')\n",
    "plot_roc_curve(roc_data_test['fpr'], roc_data_test['tpr'], label='dt_test')\n",
    "\n",
    "\n",
    "### RondomForest\n",
    "\n",
    "clf_model = 'clf_rf'\n",
    "roc_data_train = get_roc_element(clf_model,'train')\n",
    "roc_data_test = get_roc_element(clf_model,'test')\n",
    "\n",
    "plot_roc_curve(roc_data_train['fpr'], roc_data_train['tpr'], label='rf_train')\n",
    "plot_roc_curve(roc_data_test['fpr'], roc_data_test['tpr'], label='rf_test')"
   ]
  },
  {
   "cell_type": "code",
   "execution_count": 134,
   "metadata": {
    "ExecuteTime": {
     "end_time": "2019-08-19T07:44:24.902681Z",
     "start_time": "2019-08-19T07:44:24.899830Z"
    }
   },
   "outputs": [],
   "source": [
    "### XGboost\n",
    "\n",
    "# clf_model = 'clf_xgb'\n",
    "# roc_data_train = get_roc_element(clf_model,'train')\n",
    "# roc_data_test = get_roc_element(clf_model,'test')\n",
    "\n",
    "# plot_roc_curve(roc_data_train['fpr'], roc_data_train['tpr'], label='xgb_train')\n",
    "# plot_roc_curve(roc_data_test['fpr'], roc_data_test['tpr'], label='xgb_test')\n",
    "\n",
    "\n",
    "# # y_train_pred = gbm.predict(xgb.DMatrix(x_train), ntree_limit=gbm.best_iteration+1)\n",
    "# # fpr_train, tpr_train, _ = roc_curve(y_train.values, y_train_pred)\n",
    "# # plot_roc_curve(fpr_train, tpr_train, label='xgb_train')\n",
    "\n",
    "# # y_test_pred = gbm.predict(xgb.DMatrix(x_test), ntree_limit=gbm.best_iteration+1)\n",
    "# # fpr_test, tpr_test, _ = roc_curve(y_test.values, y_test_pred)\n",
    "# # plot_roc_curve(fpr_test, tpr_test, label='xgb_test')\n",
    "\n",
    "# plt.legend()\n",
    "# plt.show()"
   ]
  },
  {
   "cell_type": "code",
   "execution_count": 149,
   "metadata": {
    "ExecuteTime": {
     "end_time": "2019-08-19T07:59:29.594048Z",
     "start_time": "2019-08-19T07:59:29.576708Z"
    }
   },
   "outputs": [
    {
     "data": {
      "text/html": [
       "<div>\n",
       "<style scoped>\n",
       "    .dataframe tbody tr th:only-of-type {\n",
       "        vertical-align: middle;\n",
       "    }\n",
       "\n",
       "    .dataframe tbody tr th {\n",
       "        vertical-align: top;\n",
       "    }\n",
       "\n",
       "    .dataframe thead th {\n",
       "        text-align: right;\n",
       "    }\n",
       "</style>\n",
       "<table border=\"1\" class=\"dataframe\">\n",
       "  <thead>\n",
       "    <tr style=\"text-align: right;\">\n",
       "      <th></th>\n",
       "      <th>模型</th>\n",
       "      <th>数据集</th>\n",
       "      <th>准确率</th>\n",
       "      <th>精准率</th>\n",
       "      <th>召回率</th>\n",
       "      <th>F1_score</th>\n",
       "      <th>AUC值</th>\n",
       "    </tr>\n",
       "  </thead>\n",
       "  <tbody>\n",
       "    <tr>\n",
       "      <th>9</th>\n",
       "      <td>XGBoost</td>\n",
       "      <td>测试集</td>\n",
       "      <td>0.8050</td>\n",
       "      <td>0.6848</td>\n",
       "      <td>0.3642</td>\n",
       "      <td>0.4755</td>\n",
       "      <td>0.6552</td>\n",
       "    </tr>\n",
       "    <tr>\n",
       "      <th>3</th>\n",
       "      <td>逻辑回归</td>\n",
       "      <td>测试集</td>\n",
       "      <td>0.7973</td>\n",
       "      <td>0.6792</td>\n",
       "      <td>0.3121</td>\n",
       "      <td>0.4277</td>\n",
       "      <td>0.6325</td>\n",
       "    </tr>\n",
       "    <tr>\n",
       "      <th>5</th>\n",
       "      <td>随机森林</td>\n",
       "      <td>测试集</td>\n",
       "      <td>0.7987</td>\n",
       "      <td>0.7323</td>\n",
       "      <td>0.2688</td>\n",
       "      <td>0.3932</td>\n",
       "      <td>0.6187</td>\n",
       "    </tr>\n",
       "    <tr>\n",
       "      <th>7</th>\n",
       "      <td>SVM</td>\n",
       "      <td>测试集</td>\n",
       "      <td>0.7854</td>\n",
       "      <td>0.8226</td>\n",
       "      <td>0.1474</td>\n",
       "      <td>0.2500</td>\n",
       "      <td>0.5686</td>\n",
       "    </tr>\n",
       "    <tr>\n",
       "      <th>1</th>\n",
       "      <td>决策树</td>\n",
       "      <td>测试集</td>\n",
       "      <td>0.7784</td>\n",
       "      <td>0.6875</td>\n",
       "      <td>0.1590</td>\n",
       "      <td>0.2582</td>\n",
       "      <td>0.5679</td>\n",
       "    </tr>\n",
       "  </tbody>\n",
       "</table>\n",
       "</div>"
      ],
      "text/plain": [
       "        模型  数据集     准确率     精准率     召回率 F1_score    AUC值\n",
       "9  XGBoost  测试集  0.8050  0.6848  0.3642   0.4755  0.6552\n",
       "3     逻辑回归  测试集  0.7973  0.6792  0.3121   0.4277  0.6325\n",
       "5     随机森林  测试集  0.7987  0.7323  0.2688   0.3932  0.6187\n",
       "7      SVM  测试集  0.7854  0.8226  0.1474   0.2500  0.5686\n",
       "1      决策树  测试集  0.7784  0.6875  0.1590   0.2582  0.5679"
      ]
     },
     "execution_count": 149,
     "metadata": {},
     "output_type": "execute_result"
    }
   ],
   "source": [
    "df.query('数据集 == \"测试集\"').sort_values(['AUC值'], ascending=False)"
   ]
  },
  {
   "cell_type": "code",
   "execution_count": null,
   "metadata": {},
   "outputs": [],
   "source": []
  },
  {
   "cell_type": "markdown",
   "metadata": {},
   "source": [
    "## 汇总"
   ]
  },
  {
   "cell_type": "code",
   "execution_count": 140,
   "metadata": {
    "ExecuteTime": {
     "end_time": "2019-08-19T07:56:57.138980Z",
     "start_time": "2019-08-19T07:56:57.134450Z"
    }
   },
   "outputs": [],
   "source": [
    "clf_lr = LogisticRegression(C=1.0, class_weight=None, dual=False, fit_intercept=True,\n",
    "          intercept_scaling=1, max_iter=100, multi_class='warn',\n",
    "          n_jobs=None, penalty='l2', random_state=None, solver='warn',\n",
    "          tol=0.0001, verbose=0, warm_start=False)"
   ]
  },
  {
   "cell_type": "code",
   "execution_count": 141,
   "metadata": {
    "ExecuteTime": {
     "end_time": "2019-08-19T07:56:57.653402Z",
     "start_time": "2019-08-19T07:56:57.649775Z"
    }
   },
   "outputs": [],
   "source": [
    "clf_svm = SVC(C=10, cache_size=200, class_weight=None, coef0=0.0,\n",
    "    decision_function_shape='ovr', degree=3, gamma=0.0001, kernel='rbf',\n",
    "    max_iter=-1, probability=False, random_state=None, shrinking=True,\n",
    "    tol=0.001, verbose=False)"
   ]
  },
  {
   "cell_type": "code",
   "execution_count": 142,
   "metadata": {
    "ExecuteTime": {
     "end_time": "2019-08-19T07:56:58.093890Z",
     "start_time": "2019-08-19T07:56:58.090580Z"
    }
   },
   "outputs": [],
   "source": [
    "clf_dt =DecisionTreeClassifier(class_weight=None, criterion='entropy', max_depth=4,\n",
    "                       max_features=None, max_leaf_nodes=None,\n",
    "                       min_impurity_decrease=0.0, min_impurity_split=None,\n",
    "                       min_samples_leaf=1, min_samples_split=2,\n",
    "                       min_weight_fraction_leaf=0.0, presort=False,\n",
    "                       random_state=None, splitter='best')"
   ]
  },
  {
   "cell_type": "code",
   "execution_count": 143,
   "metadata": {
    "ExecuteTime": {
     "end_time": "2019-08-19T07:56:58.519762Z",
     "start_time": "2019-08-19T07:56:58.515747Z"
    }
   },
   "outputs": [],
   "source": [
    "clf_rf = RandomForestClassifier(bootstrap=False, class_weight=None, criterion='gini',\n",
    "                       max_depth=90, max_features=3, max_leaf_nodes=None,\n",
    "                       min_impurity_decrease=0.0, min_impurity_split=None,\n",
    "                       min_samples_leaf=5, min_samples_split=8,\n",
    "                       min_weight_fraction_leaf=0.0, n_estimators=300,\n",
    "                       n_jobs=None, oob_score=False, random_state=None,\n",
    "                       verbose=0, warm_start=False)"
   ]
  },
  {
   "cell_type": "code",
   "execution_count": 144,
   "metadata": {
    "ExecuteTime": {
     "end_time": "2019-08-19T07:56:59.995310Z",
     "start_time": "2019-08-19T07:56:59.074644Z"
    }
   },
   "outputs": [
    {
     "data": {
      "text/plain": [
       "XGBClassifier(base_score=0.5, booster='gbtree', colsample_bylevel=1,\n",
       "              colsample_bynode=1, colsample_bytree=0.7, gamma=0,\n",
       "              learning_rate=0.01, max_delta_step=0, max_depth=5,\n",
       "              min_child_weight=10, missing=None, n_estimators=500, n_jobs=1,\n",
       "              nthread=-1, objective='binary:logistic', random_state=0,\n",
       "              reg_alpha=0, reg_lambda=1, scale_pos_weight=1, seed=1440,\n",
       "              silent=True, subsample=0.85, verbosity=1)"
      ]
     },
     "execution_count": 144,
     "metadata": {},
     "output_type": "execute_result"
    }
   ],
   "source": [
    "# \tlearning_rate: 0.01\n",
    "# \tmax_depth: 5\n",
    "# \tmin_child_weight: 10\n",
    "# \tn_estimators: 500\n",
    "\n",
    "clf_xgb = xgb.XGBClassifier(\n",
    "        max_depth=5,\n",
    "        learning_rate=0.01,\n",
    "        n_estimators=500,              \n",
    "        silent=True,\n",
    "        objective='binary:logistic',\n",
    "        nthread=-1,\n",
    "        gamma=0,\n",
    "        min_child_weight=10,\n",
    "        max_delta_step=0,\n",
    "        subsample=0.85,\n",
    "        colsample_bytree=0.7,\n",
    "        colsample_bylevel=1,\n",
    "        reg_alpha=0,\n",
    "        reg_lambda=1,\n",
    "        scale_pos_weight=1,\n",
    "        seed=1440,\n",
    "        missing=None)\n",
    "\n",
    "clf_xgb.fit(x_train, y_train)"
   ]
  },
  {
   "cell_type": "code",
   "execution_count": 145,
   "metadata": {
    "ExecuteTime": {
     "end_time": "2019-08-19T07:57:03.419264Z",
     "start_time": "2019-08-19T07:56:59.998098Z"
    }
   },
   "outputs": [
    {
     "name": "stderr",
     "output_type": "stream",
     "text": [
      "/opt/conda/lib/python3.6/site-packages/sklearn/linear_model/logistic.py:432: FutureWarning: Default solver will be changed to 'lbfgs' in 0.22. Specify a solver to silence this warning.\n",
      "  FutureWarning)\n"
     ]
    }
   ],
   "source": [
    "for clf in [clf_lr, clf_svm, clf_dt, clf_rf, clf_xgb]:\n",
    "    clf.fit(x_train, y_train)"
   ]
  },
  {
   "cell_type": "markdown",
   "metadata": {},
   "source": [
    "## 计算评分"
   ]
  },
  {
   "cell_type": "code",
   "execution_count": 166,
   "metadata": {
    "ExecuteTime": {
     "end_time": "2019-08-19T08:01:58.022803Z",
     "start_time": "2019-08-19T08:01:57.068516Z"
    }
   },
   "outputs": [
    {
     "name": "stdout",
     "output_type": "stream",
     "text": [
      "clf_dt >>> train\n",
      "confusion_matrix\n",
      " [[2433   46]\n",
      " [ 676  171]]\n",
      "score, 0.7829\n",
      "precision 0.7880, recall 0.2019, f1_score 0.3214, auc 0.5917\n",
      "clf_dt >>> test\n",
      "confusion_matrix\n",
      " [[1055   25]\n",
      " [ 291   55]]\n",
      "score, 0.7784\n",
      "precision 0.6875, recall 0.1590, f1_score 0.2582, auc 0.5679\n",
      "------------------------------\n",
      "clf_lr >>> train\n",
      "confusion_matrix\n",
      " [[2362  117]\n",
      " [ 548  299]]\n",
      "score, 0.8001\n",
      "precision 0.7188, recall 0.3530, f1_score 0.4735, auc 0.6529\n",
      "clf_lr >>> test\n",
      "confusion_matrix\n",
      " [[1021   59]\n",
      " [ 223  123]]\n",
      "score, 0.8022\n",
      "precision 0.6758, recall 0.3555, f1_score 0.4659, auc 0.6504\n",
      "------------------------------\n",
      "clf_rf >>> train\n",
      "confusion_matrix\n",
      " [[2479    0]\n",
      " [  64  783]]\n",
      "score, 0.9808\n",
      "precision 1.0000, recall 0.9244, f1_score 0.9607, auc 0.9622\n",
      "clf_rf >>> test\n",
      "confusion_matrix\n",
      " [[1047   33]\n",
      " [ 252   94]]\n",
      "score, 0.8001\n",
      "precision 0.7402, recall 0.2717, f1_score 0.3975, auc 0.6206\n",
      "------------------------------\n",
      "clf_svm >>> train\n",
      "confusion_matrix\n",
      " [[2460   19]\n",
      " [ 728  119]]\n",
      "score, 0.7754\n",
      "precision 0.8623, recall 0.1405, f1_score 0.2416, auc 0.5664\n",
      "clf_svm >>> test\n",
      "confusion_matrix\n",
      " [[1069   11]\n",
      " [ 295   51]]\n",
      "score, 0.7854\n",
      "precision 0.8226, recall 0.1474, f1_score 0.2500, auc 0.5686\n",
      "------------------------------\n",
      "clf_xgb >>> train\n",
      "confusion_matrix\n",
      " [[2419   60]\n",
      " [ 421  426]]\n",
      "score, 0.8554\n",
      "precision 0.8765, recall 0.5030, f1_score 0.6392, auc 0.7394\n",
      "clf_xgb >>> test\n",
      "confusion_matrix\n",
      " [[1022   58]\n",
      " [ 220  126]]\n",
      "score, 0.8050\n",
      "precision 0.6848, recall 0.3642, f1_score 0.4755, auc 0.6552\n",
      "------------------------------\n"
     ]
    },
    {
     "data": {
      "text/html": [
       "<div>\n",
       "<style scoped>\n",
       "    .dataframe tbody tr th:only-of-type {\n",
       "        vertical-align: middle;\n",
       "    }\n",
       "\n",
       "    .dataframe tbody tr th {\n",
       "        vertical-align: top;\n",
       "    }\n",
       "\n",
       "    .dataframe thead th {\n",
       "        text-align: right;\n",
       "    }\n",
       "</style>\n",
       "<table border=\"1\" class=\"dataframe\">\n",
       "  <thead>\n",
       "    <tr style=\"text-align: right;\">\n",
       "      <th></th>\n",
       "      <th>模型</th>\n",
       "      <th>数据集</th>\n",
       "      <th>准确率</th>\n",
       "      <th>精准率</th>\n",
       "      <th>召回率</th>\n",
       "      <th>F1_score</th>\n",
       "      <th>AUC值</th>\n",
       "    </tr>\n",
       "  </thead>\n",
       "  <tbody>\n",
       "    <tr>\n",
       "      <th>4</th>\n",
       "      <td>随机森林</td>\n",
       "      <td>训练集</td>\n",
       "      <td>0.9808</td>\n",
       "      <td>1.0000</td>\n",
       "      <td>0.9244</td>\n",
       "      <td>0.9607</td>\n",
       "      <td>0.9622</td>\n",
       "    </tr>\n",
       "    <tr>\n",
       "      <th>8</th>\n",
       "      <td>XGBoost</td>\n",
       "      <td>训练集</td>\n",
       "      <td>0.8554</td>\n",
       "      <td>0.8765</td>\n",
       "      <td>0.5030</td>\n",
       "      <td>0.6392</td>\n",
       "      <td>0.7394</td>\n",
       "    </tr>\n",
       "    <tr>\n",
       "      <th>2</th>\n",
       "      <td>逻辑回归</td>\n",
       "      <td>训练集</td>\n",
       "      <td>0.8001</td>\n",
       "      <td>0.7188</td>\n",
       "      <td>0.3530</td>\n",
       "      <td>0.4735</td>\n",
       "      <td>0.6529</td>\n",
       "    </tr>\n",
       "    <tr>\n",
       "      <th>0</th>\n",
       "      <td>决策树</td>\n",
       "      <td>训练集</td>\n",
       "      <td>0.7829</td>\n",
       "      <td>0.7880</td>\n",
       "      <td>0.2019</td>\n",
       "      <td>0.3214</td>\n",
       "      <td>0.5917</td>\n",
       "    </tr>\n",
       "    <tr>\n",
       "      <th>6</th>\n",
       "      <td>SVM</td>\n",
       "      <td>训练集</td>\n",
       "      <td>0.7754</td>\n",
       "      <td>0.8623</td>\n",
       "      <td>0.1405</td>\n",
       "      <td>0.2416</td>\n",
       "      <td>0.5664</td>\n",
       "    </tr>\n",
       "    <tr>\n",
       "      <th>9</th>\n",
       "      <td>XGBoost</td>\n",
       "      <td>测试集</td>\n",
       "      <td>0.8050</td>\n",
       "      <td>0.6848</td>\n",
       "      <td>0.3642</td>\n",
       "      <td>0.4755</td>\n",
       "      <td>0.6552</td>\n",
       "    </tr>\n",
       "    <tr>\n",
       "      <th>3</th>\n",
       "      <td>逻辑回归</td>\n",
       "      <td>测试集</td>\n",
       "      <td>0.8022</td>\n",
       "      <td>0.6758</td>\n",
       "      <td>0.3555</td>\n",
       "      <td>0.4659</td>\n",
       "      <td>0.6504</td>\n",
       "    </tr>\n",
       "    <tr>\n",
       "      <th>5</th>\n",
       "      <td>随机森林</td>\n",
       "      <td>测试集</td>\n",
       "      <td>0.8001</td>\n",
       "      <td>0.7402</td>\n",
       "      <td>0.2717</td>\n",
       "      <td>0.3975</td>\n",
       "      <td>0.6206</td>\n",
       "    </tr>\n",
       "    <tr>\n",
       "      <th>7</th>\n",
       "      <td>SVM</td>\n",
       "      <td>测试集</td>\n",
       "      <td>0.7854</td>\n",
       "      <td>0.8226</td>\n",
       "      <td>0.1474</td>\n",
       "      <td>0.2500</td>\n",
       "      <td>0.5686</td>\n",
       "    </tr>\n",
       "    <tr>\n",
       "      <th>1</th>\n",
       "      <td>决策树</td>\n",
       "      <td>测试集</td>\n",
       "      <td>0.7784</td>\n",
       "      <td>0.6875</td>\n",
       "      <td>0.1590</td>\n",
       "      <td>0.2582</td>\n",
       "      <td>0.5679</td>\n",
       "    </tr>\n",
       "  </tbody>\n",
       "</table>\n",
       "</div>"
      ],
      "text/plain": [
       "        模型  数据集     准确率     精准率     召回率 F1_score    AUC值\n",
       "4     随机森林  训练集  0.9808  1.0000  0.9244   0.9607  0.9622\n",
       "8  XGBoost  训练集  0.8554  0.8765  0.5030   0.6392  0.7394\n",
       "2     逻辑回归  训练集  0.8001  0.7188  0.3530   0.4735  0.6529\n",
       "0      决策树  训练集  0.7829  0.7880  0.2019   0.3214  0.5917\n",
       "6      SVM  训练集  0.7754  0.8623  0.1405   0.2416  0.5664\n",
       "9  XGBoost  测试集  0.8050  0.6848  0.3642   0.4755  0.6552\n",
       "3     逻辑回归  测试集  0.8022  0.6758  0.3555   0.4659  0.6504\n",
       "5     随机森林  测试集  0.8001  0.7402  0.2717   0.3975  0.6206\n",
       "7      SVM  测试集  0.7854  0.8226  0.1474   0.2500  0.5686\n",
       "1      决策树  测试集  0.7784  0.6875  0.1590   0.2582  0.5679"
      ]
     },
     "execution_count": 166,
     "metadata": {},
     "output_type": "execute_result"
    }
   ],
   "source": [
    "data_list = []\n",
    "def get_score(clf_model, data_set):\n",
    "    # clf_model\n",
    "    # ['clf_dt', 'clf_lr', 'clf_rf', 'clf_svm']\n",
    "    \n",
    "    # data_set\n",
    "    # train, test\n",
    "    data = {}\n",
    "    data['clf_model'] = clf_model\n",
    "    data['data_set'] = data_set\n",
    "    print(f'{clf_model} >>> {data_set}')\n",
    "    clf = eval(clf_model)\n",
    "    y_true = eval('y_%s' % data_set)\n",
    "    x = eval('x_%s' % data_set)\n",
    "    data.update(get_P_R_value(y_true, clf.predict(x)))\n",
    "    return data\n",
    "\n",
    "for clf_model in ['clf_dt', 'clf_lr', 'clf_rf', 'clf_svm', 'clf_xgb']:\n",
    "    for data_set in ['train', 'test']:\n",
    "        data = get_score(clf_model, data_set)\n",
    "        data_list.append(data)\n",
    "    print('-' * 30)\n",
    "\n",
    "\n",
    "df = pd.DataFrame(data_list, columns=['clf_model', 'data_set', 'score', 'precision', 'recall', 'f1_score', 'auc'])\n",
    "\n",
    "df.clf_model = df.clf_model.replace(['clf_lr','clf_svm', 'clf_dt',  'clf_rf', 'clf_xgb'],\n",
    "                    ['逻辑回归', 'SVM', '决策树', '随机森林', 'XGBoost']\n",
    ")\n",
    "df.data_set = df.data_set.replace(['train','test', ],\n",
    "                    ['训练集', '测试集']\n",
    ")\n",
    "\n",
    "df.columns = ['模型', '数据集', '准确率', '精准率', '召回率', 'F1_score', 'AUC值']\n",
    "\n",
    "df.sort_values(['数据集', 'AUC值'], ascending=False)"
   ]
  },
  {
   "cell_type": "code",
   "execution_count": 148,
   "metadata": {
    "ExecuteTime": {
     "end_time": "2019-08-19T07:58:20.025020Z",
     "start_time": "2019-08-19T07:58:13.778444Z"
    }
   },
   "outputs": [
    {
     "name": "stderr",
     "output_type": "stream",
     "text": [
      "/opt/conda/lib/python3.6/site-packages/sklearn/linear_model/logistic.py:432: FutureWarning: Default solver will be changed to 'lbfgs' in 0.22. Specify a solver to silence this warning.\n",
      "  FutureWarning)\n",
      "/opt/conda/lib/python3.6/site-packages/sklearn/linear_model/logistic.py:432: FutureWarning: Default solver will be changed to 'lbfgs' in 0.22. Specify a solver to silence this warning.\n",
      "  FutureWarning)\n",
      "/opt/conda/lib/python3.6/site-packages/sklearn/linear_model/logistic.py:432: FutureWarning: Default solver will be changed to 'lbfgs' in 0.22. Specify a solver to silence this warning.\n",
      "  FutureWarning)\n"
     ]
    },
    {
     "data": {
      "image/png": "[encoded data removed]",
      "text/plain": [
       "<Figure size 864x576 with 1 Axes>"
      ]
     },
     "metadata": {
      "needs_background": "light"
     },
     "output_type": "display_data"
    }
   ],
   "source": [
    "plt.figure(figsize=(12, 8))\n",
    "\n",
    "### LR\n",
    "clf_model = 'clf_lr'\n",
    "# roc_data_train = get_roc_element(clf_model,'train')\n",
    "roc_data_test = get_roc_element(clf_model,'test')\n",
    "\n",
    "# plot_roc_curve(roc_data_train['fpr'], roc_data_train['tpr'], label='lr_train')\n",
    "plot_roc_curve(roc_data_test['fpr'], roc_data_test['tpr'], label='lr_test')\n",
    "\n",
    "### SVM\n",
    "clf_model = 'clf_svm'\n",
    "# roc_data_train = get_roc_element(clf_model,'train')\n",
    "roc_data_test = get_roc_element(clf_model,'test')\n",
    "\n",
    "# plot_roc_curve(roc_data_train['fpr'], roc_data_train['tpr'], label='svm_train')\n",
    "plot_roc_curve(roc_data_test['fpr'], roc_data_test['tpr'], label='svm_test')\n",
    "\n",
    "### DecisionTree\n",
    "\n",
    "clf_model = 'clf_dt'\n",
    "# roc_data_train = get_roc_element(clf_model,'train')\n",
    "roc_data_test = get_roc_element(clf_model,'test')\n",
    "\n",
    "# plot_roc_curve(roc_data_train['fpr'], roc_data_train['tpr'], label='dt_train')\n",
    "plot_roc_curve(roc_data_test['fpr'], roc_data_test['tpr'], label='dt_test')\n",
    "\n",
    "\n",
    "### RondomForest\n",
    "\n",
    "clf_model = 'clf_rf'\n",
    "roc_data_train = get_roc_element(clf_model,'train')\n",
    "roc_data_test = get_roc_element(clf_model,'test')\n",
    "\n",
    "# plot_roc_curve(roc_data_train['fpr'], roc_data_train['tpr'], label='rf_train')\n",
    "plot_roc_curve(roc_data_test['fpr'], roc_data_test['tpr'], label='rf_test')\n",
    "\n",
    "plt.legend()\n",
    "plt.show()"
   ]
  },
  {
   "cell_type": "markdown",
   "metadata": {},
   "source": [
    "## 输出"
   ]
  },
  {
   "cell_type": "code",
   "execution_count": 167,
   "metadata": {
    "ExecuteTime": {
     "end_time": "2019-08-19T08:03:28.975996Z",
     "start_time": "2019-08-19T08:03:28.962222Z"
    }
   },
   "outputs": [
    {
     "data": {
      "text/html": [
       "<div>\n",
       "<style scoped>\n",
       "    .dataframe tbody tr th:only-of-type {\n",
       "        vertical-align: middle;\n",
       "    }\n",
       "\n",
       "    .dataframe tbody tr th {\n",
       "        vertical-align: top;\n",
       "    }\n",
       "\n",
       "    .dataframe thead th {\n",
       "        text-align: right;\n",
       "    }\n",
       "</style>\n",
       "<table border=\"1\" class=\"dataframe\">\n",
       "  <thead>\n",
       "    <tr style=\"text-align: right;\">\n",
       "      <th></th>\n",
       "      <th>模型</th>\n",
       "      <th>数据集</th>\n",
       "      <th>准确率</th>\n",
       "      <th>精准率</th>\n",
       "      <th>召回率</th>\n",
       "      <th>F1_score</th>\n",
       "      <th>AUC值</th>\n",
       "    </tr>\n",
       "  </thead>\n",
       "  <tbody>\n",
       "    <tr>\n",
       "      <th>9</th>\n",
       "      <td>XGBoost</td>\n",
       "      <td>测试集</td>\n",
       "      <td>0.8050</td>\n",
       "      <td>0.6848</td>\n",
       "      <td>0.3642</td>\n",
       "      <td>0.4755</td>\n",
       "      <td>0.6552</td>\n",
       "    </tr>\n",
       "    <tr>\n",
       "      <th>3</th>\n",
       "      <td>逻辑回归</td>\n",
       "      <td>测试集</td>\n",
       "      <td>0.8022</td>\n",
       "      <td>0.6758</td>\n",
       "      <td>0.3555</td>\n",
       "      <td>0.4659</td>\n",
       "      <td>0.6504</td>\n",
       "    </tr>\n",
       "    <tr>\n",
       "      <th>5</th>\n",
       "      <td>随机森林</td>\n",
       "      <td>测试集</td>\n",
       "      <td>0.8001</td>\n",
       "      <td>0.7402</td>\n",
       "      <td>0.2717</td>\n",
       "      <td>0.3975</td>\n",
       "      <td>0.6206</td>\n",
       "    </tr>\n",
       "    <tr>\n",
       "      <th>7</th>\n",
       "      <td>SVM</td>\n",
       "      <td>测试集</td>\n",
       "      <td>0.7854</td>\n",
       "      <td>0.8226</td>\n",
       "      <td>0.1474</td>\n",
       "      <td>0.2500</td>\n",
       "      <td>0.5686</td>\n",
       "    </tr>\n",
       "    <tr>\n",
       "      <th>1</th>\n",
       "      <td>决策树</td>\n",
       "      <td>测试集</td>\n",
       "      <td>0.7784</td>\n",
       "      <td>0.6875</td>\n",
       "      <td>0.1590</td>\n",
       "      <td>0.2582</td>\n",
       "      <td>0.5679</td>\n",
       "    </tr>\n",
       "  </tbody>\n",
       "</table>\n",
       "</div>"
      ],
      "text/plain": [
       "        模型  数据集     准确率     精准率     召回率 F1_score    AUC值\n",
       "9  XGBoost  测试集  0.8050  0.6848  0.3642   0.4755  0.6552\n",
       "3     逻辑回归  测试集  0.8022  0.6758  0.3555   0.4659  0.6504\n",
       "5     随机森林  测试集  0.8001  0.7402  0.2717   0.3975  0.6206\n",
       "7      SVM  测试集  0.7854  0.8226  0.1474   0.2500  0.5686\n",
       "1      决策树  测试集  0.7784  0.6875  0.1590   0.2582  0.5679"
      ]
     },
     "execution_count": 167,
     "metadata": {},
     "output_type": "execute_result"
    }
   ],
   "source": [
    "cond = df.数据集 == \"测试集\"\n",
    "df[cond].sort_values(['数据集', 'AUC值'], ascending=False)"
   ]
  },
  {
   "cell_type": "code",
   "execution_count": 168,
   "metadata": {
    "ExecuteTime": {
     "end_time": "2019-08-19T08:03:54.417477Z",
     "start_time": "2019-08-19T08:03:54.409177Z"
    }
   },
   "outputs": [
    {
     "data": {
      "text/plain": [
       "['XGBoost', '逻辑回归', '随机森林']"
      ]
     },
     "execution_count": 168,
     "metadata": {},
     "output_type": "execute_result"
    }
   ],
   "source": [
    "cond = df.数据集 == \"测试集\"\n",
    "df[cond].sort_values(['数据集', 'AUC值'], ascending=False).head(3)['模型'].to_list()"
   ]
  },
  {
   "cell_type": "markdown",
   "metadata": {},
   "source": [
    "选用 ['XGBoost', '逻辑回归', '随机森林']"
   ]
  },
  {
   "cell_type": "code",
   "execution_count": 140,
   "metadata": {
    "ExecuteTime": {
     "end_time": "2019-08-19T07:56:57.138980Z",
     "start_time": "2019-08-19T07:56:57.134450Z"
    }
   },
   "outputs": [],
   "source": [
    "clf_lr = LogisticRegression(C=1.0, class_weight=None, dual=False, fit_intercept=True,\n",
    "          intercept_scaling=1, max_iter=100, multi_class='warn',\n",
    "          n_jobs=None, penalty='l2', random_state=None, solver='warn',\n",
    "          tol=0.0001, verbose=0, warm_start=False)"
   ]
  },
  {
   "cell_type": "code",
   "execution_count": 143,
   "metadata": {
    "ExecuteTime": {
     "end_time": "2019-08-19T07:56:58.519762Z",
     "start_time": "2019-08-19T07:56:58.515747Z"
    }
   },
   "outputs": [],
   "source": [
    "clf_rf = RandomForestClassifier(bootstrap=False, class_weight=None, criterion='gini',\n",
    "                       max_depth=90, max_features=3, max_leaf_nodes=None,\n",
    "                       min_impurity_decrease=0.0, min_impurity_split=None,\n",
    "                       min_samples_leaf=5, min_samples_split=8,\n",
    "                       min_weight_fraction_leaf=0.0, n_estimators=300,\n",
    "                       n_jobs=None, oob_score=False, random_state=None,\n",
    "                       verbose=0, warm_start=False)"
   ]
  },
  {
   "cell_type": "code",
   "execution_count": 144,
   "metadata": {
    "ExecuteTime": {
     "end_time": "2019-08-19T07:56:59.995310Z",
     "start_time": "2019-08-19T07:56:59.074644Z"
    }
   },
   "outputs": [
    {
     "data": {
      "text/plain": [
       "XGBClassifier(base_score=0.5, booster='gbtree', colsample_bylevel=1,\n",
       "              colsample_bynode=1, colsample_bytree=0.7, gamma=0,\n",
       "              learning_rate=0.01, max_delta_step=0, max_depth=5,\n",
       "              min_child_weight=10, missing=None, n_estimators=500, n_jobs=1,\n",
       "              nthread=-1, objective='binary:logistic', random_state=0,\n",
       "              reg_alpha=0, reg_lambda=1, scale_pos_weight=1, seed=1440,\n",
       "              silent=True, subsample=0.85, verbosity=1)"
      ]
     },
     "execution_count": 144,
     "metadata": {},
     "output_type": "execute_result"
    }
   ],
   "source": [
    "# \tlearning_rate: 0.01\n",
    "# \tmax_depth: 5\n",
    "# \tmin_child_weight: 10\n",
    "# \tn_estimators: 500\n",
    "\n",
    "clf_xgb = xgb.XGBClassifier(\n",
    "        max_depth=5,\n",
    "        learning_rate=0.01,\n",
    "        n_estimators=500,              \n",
    "        silent=True,\n",
    "        objective='binary:logistic',\n",
    "        nthread=-1,\n",
    "        gamma=0,\n",
    "        min_child_weight=10,\n",
    "        max_delta_step=0,\n",
    "        subsample=0.85,\n",
    "        colsample_bytree=0.7,\n",
    "        colsample_bylevel=1,\n",
    "        reg_alpha=0,\n",
    "        reg_lambda=1,\n",
    "        scale_pos_weight=1,\n",
    "        seed=1440,\n",
    "        missing=None)\n",
    "\n",
    "clf_xgb.fit(x_train, y_train)"
   ]
  },
  {
   "cell_type": "code",
   "execution_count": 145,
   "metadata": {
    "ExecuteTime": {
     "end_time": "2019-08-19T07:57:03.419264Z",
     "start_time": "2019-08-19T07:56:59.998098Z"
    }
   },
   "outputs": [
    {
     "name": "stderr",
     "output_type": "stream",
     "text": [
      "/opt/conda/lib/python3.6/site-packages/sklearn/linear_model/logistic.py:432: FutureWarning: Default solver will be changed to 'lbfgs' in 0.22. Specify a solver to silence this warning.\n",
      "  FutureWarning)\n"
     ]
    }
   ],
   "source": [
    "for clf in [clf_lr, clf_rf, clf_xgb]:\n",
    "    clf.fit(x_train, y_train)"
   ]
  },
  {
   "cell_type": "code",
   "execution_count": null,
   "metadata": {},
   "outputs": [],
   "source": []
  }
 ],
 "metadata": {
  "kernelspec": {
   "display_name": "Python 3",
   "language": "python",
   "name": "python3"
  },
  "language_info": {
   "codemirror_mode": {
    "name": "ipython",
    "version": 3
   },
   "file_extension": ".py",
   "mimetype": "text/x-python",
   "name": "python",
   "nbconvert_exporter": "python",
   "pygments_lexer": "ipython3",
   "version": "3.6.8"
  },
  "toc": {
   "base_numbering": 1,
   "nav_menu": {
    "height": "146.989px",
    "width": "197.67px"
   },
   "number_sections": true,
   "sideBar": true,
   "skip_h1_title": false,
   "title_cell": "Table of Contents",
   "title_sidebar": "Contents",
   "toc_cell": true,
   "toc_position": {
    "height": "319.938px",
    "left": "29px",
    "top": "110px",
    "width": "165px"
   },
   "toc_section_display": true,
   "toc_window_display": true
  }
 },
 "nbformat": 4,
 "nbformat_minor": 2
}
