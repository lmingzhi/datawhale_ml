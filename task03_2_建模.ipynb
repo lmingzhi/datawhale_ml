{
 "cells": [
  {
   "cell_type": "markdown",
   "metadata": {
    "toc": true
   },
   "source": [
    "<h1>Table of Contents<span class=\"tocSkip\"></span></h1>\n",
    "<div class=\"toc\"><ul class=\"toc-item\"><li><ul class=\"toc-item\"><li><span><a href=\"#import\" data-toc-modified-id=\"import-0.1\"><span class=\"toc-item-num\">0.1&nbsp;&nbsp;</span>import</a></span></li></ul></li><li><span><a href=\"#读取数据集\" data-toc-modified-id=\"读取数据集-1\"><span class=\"toc-item-num\">1&nbsp;&nbsp;</span>读取数据集</a></span></li><li><span><a href=\"#标准化处理\" data-toc-modified-id=\"标准化处理-2\"><span class=\"toc-item-num\">2&nbsp;&nbsp;</span>标准化处理</a></span></li><li><span><a href=\"#模型\" data-toc-modified-id=\"模型-3\"><span class=\"toc-item-num\">3&nbsp;&nbsp;</span>模型</a></span><ul class=\"toc-item\"><li><span><a href=\"#LogisticRegression\" data-toc-modified-id=\"LogisticRegression-3.1\"><span class=\"toc-item-num\">3.1&nbsp;&nbsp;</span>LogisticRegression</a></span></li><li><span><a href=\"#svm\" data-toc-modified-id=\"svm-3.2\"><span class=\"toc-item-num\">3.2&nbsp;&nbsp;</span>svm</a></span></li><li><span><a href=\"#DecisionTreeClassifier\" data-toc-modified-id=\"DecisionTreeClassifier-3.3\"><span class=\"toc-item-num\">3.3&nbsp;&nbsp;</span>DecisionTreeClassifier</a></span></li><li><span><a href=\"#RandomForestClassifier\" data-toc-modified-id=\"RandomForestClassifier-3.4\"><span class=\"toc-item-num\">3.4&nbsp;&nbsp;</span>RandomForestClassifier</a></span></li><li><span><a href=\"#XGBoost\" data-toc-modified-id=\"XGBoost-3.5\"><span class=\"toc-item-num\">3.5&nbsp;&nbsp;</span>XGBoost</a></span></li></ul></li><li><span><a href=\"#评分--混淆矩阵-&amp;-precision_score-&amp;-recall_score\" data-toc-modified-id=\"评分--混淆矩阵-&amp;-precision_score-&amp;-recall_score-4\"><span class=\"toc-item-num\">4&nbsp;&nbsp;</span>评分- 混淆矩阵 &amp; precision_score &amp; recall_score</a></span></li><li><span><a href=\"#深入随机森林评分\" data-toc-modified-id=\"深入随机森林评分-5\"><span class=\"toc-item-num\">5&nbsp;&nbsp;</span>深入随机森林评分</a></span></li></ul></div>"
   ]
  },
  {
   "cell_type": "markdown",
   "metadata": {},
   "source": [
    "任务3 - 建模（2天）\n",
    "\n",
    "用逻辑回归、svm和决策树；随机森林和XGBoost进行模型构建，评分方式任意，如准确率等。（不需要考虑模型调参）\n",
    "\n",
    "\n",
    "- 逻辑回归\n",
    "- svm\n",
    "- 决策树\n",
    "- 随机森林\n",
    "- XGBoost"
   ]
  },
  {
   "cell_type": "markdown",
   "metadata": {},
   "source": [
    "Q:\n",
    "\n",
    "1. 处理缺失值是在划分数据集前还是划分后？\n",
    "2. 模型训练好，如果要应用于实际数据，对于实际数据中的缺失值有类似sklearn流水线的操作方式吗？"
   ]
  },
  {
   "cell_type": "markdown",
   "metadata": {},
   "source": [
    "## import"
   ]
  },
  {
   "cell_type": "code",
   "execution_count": 1,
   "metadata": {
    "ExecuteTime": {
     "end_time": "2019-08-11T09:47:46.064067Z",
     "start_time": "2019-08-11T09:47:45.573360Z"
    }
   },
   "outputs": [],
   "source": [
    "import json, io, re, os, time\n",
    "from datetime import datetime, timedelta\n",
    "from pandas.io.json import json_normalize\n",
    "import pandas as pd\n",
    "import numpy as np"
   ]
  },
  {
   "cell_type": "code",
   "execution_count": 2,
   "metadata": {
    "ExecuteTime": {
     "end_time": "2019-08-11T09:47:46.531990Z",
     "start_time": "2019-08-11T09:47:46.066947Z"
    }
   },
   "outputs": [],
   "source": [
    "import matplotlib.pyplot as plt\n",
    "import seaborn\n",
    "\n",
    "from collections import defaultdict, Counter\n",
    "%matplotlib inline\n",
    "\n",
    "# plt.rc('figure', figsize = (8.4,5))\n",
    "# plt.rcParams['font.family'] = ['Arial Unicode MS'] \n",
    "# plt.rcParams['axes.unicode_minus'] = False "
   ]
  },
  {
   "cell_type": "code",
   "execution_count": 3,
   "metadata": {
    "ExecuteTime": {
     "end_time": "2019-08-11T09:47:47.443212Z",
     "start_time": "2019-08-11T09:47:47.440431Z"
    }
   },
   "outputs": [],
   "source": [
    "# 设置显示行数\n",
    "pd.set_option('display.max_rows', 100)\n",
    "pd.set_option('display.max_columns', 100)\n",
    "# 限制列宽，每列最多显示15个字符\n",
    "# pd.set_option('display.max_colwidth', 15)"
   ]
  },
  {
   "cell_type": "markdown",
   "metadata": {},
   "source": [
    "# 读取数据集\n",
    "\n",
    "经过前续处理缺失值后和特征选择后"
   ]
  },
  {
   "cell_type": "code",
   "execution_count": 7,
   "metadata": {
    "ExecuteTime": {
     "end_time": "2019-08-11T09:49:48.218013Z",
     "start_time": "2019-08-11T09:49:48.213495Z"
    }
   },
   "outputs": [],
   "source": [
    "cols_left = ['trans_activity_month', 'trans_activity_day', 'rank_trad_1_month', \n",
    "             'top_trans_count_last_1_month', 'avg_price_top_last_12_valid_month', \n",
    "             'first_transaction_time_diff_day', 'latest_query_time_diff_day', \n",
    "             'loans_latest_time_diff_day', 'take_amount_in_later_12_month_highest', \n",
    "             'trans_amount_increase_rate_lately', 'transd_mcc', 'trans_days_interval_filter',\n",
    "             'trans_days_interval', 'repayment_capability', 'number_of_trans_from_2011', \n",
    "             'historical_trans_amount', 'historical_trans_day', 'trans_amount_3_month', \n",
    "             'abs', 'avg_price_last_12_month', 'trans_top_time_last_1_month', 'trans_top_time_last_6_month', \n",
    "             'consume_top_time_last_1_month', 'consume_top_time_last_6_month', \n",
    "             'trans_fail_top_count_enum_last_1_month', 'trans_fail_top_count_enum_last_6_month',\n",
    "             'trans_fail_top_count_enum_last_12_month', 'consume_mini_time_last_1_month', \n",
    "             'max_cumulative_consume_later_1_month', 'pawns_auctions_trusts_consume_last_1_month', \n",
    "             'pawns_auctions_trusts_consume_last_6_month', 'first_transaction_day', 'trans_day_last_12_month',\n",
    "             'apply_score', 'apply_credibility', 'query_sum_count', 'loans_score', 'loans_count', \n",
    "             'loans_settle_count', 'loans_overdue_count', 'latest_six_month_loan', 'history_suc_fee', \n",
    "             'history_fail_fee', 'latest_one_month_suc', 'latest_one_month_fail', 'loans_long_time', \n",
    "             'loans_credit_limit', 'loans_max_limit', 'loans_avg_limit', 'consfin_credit_limit', \n",
    "             'consfin_max_limit',\n",
    "             'consfin_avg_limit', 'latest_query_day', 'loans_latest_day',\n",
    "            'status']"
   ]
  },
  {
   "cell_type": "code",
   "execution_count": 9,
   "metadata": {
    "ExecuteTime": {
     "end_time": "2019-08-11T09:50:17.389442Z",
     "start_time": "2019-08-11T09:50:17.332931Z"
    }
   },
   "outputs": [],
   "source": [
    "train_set = pd.read_csv('train_set.csv', usecols = cols_left )\n",
    "test_set = pd.read_csv('test_set.csv', usecols = cols_left)"
   ]
  },
  {
   "cell_type": "code",
   "execution_count": 10,
   "metadata": {
    "ExecuteTime": {
     "end_time": "2019-08-11T09:50:17.792972Z",
     "start_time": "2019-08-11T09:50:17.748835Z"
    }
   },
   "outputs": [
    {
     "data": {
      "text/html": [
       "<div>\n",
       "<style scoped>\n",
       "    .dataframe tbody tr th:only-of-type {\n",
       "        vertical-align: middle;\n",
       "    }\n",
       "\n",
       "    .dataframe tbody tr th {\n",
       "        vertical-align: top;\n",
       "    }\n",
       "\n",
       "    .dataframe thead th {\n",
       "        text-align: right;\n",
       "    }\n",
       "</style>\n",
       "<table border=\"1\" class=\"dataframe\">\n",
       "  <thead>\n",
       "    <tr style=\"text-align: right;\">\n",
       "      <th></th>\n",
       "      <th>trans_activity_month</th>\n",
       "      <th>trans_activity_day</th>\n",
       "      <th>rank_trad_1_month</th>\n",
       "      <th>top_trans_count_last_1_month</th>\n",
       "      <th>avg_price_top_last_12_valid_month</th>\n",
       "      <th>first_transaction_time_diff_day</th>\n",
       "      <th>latest_query_time_diff_day</th>\n",
       "      <th>loans_latest_time_diff_day</th>\n",
       "      <th>take_amount_in_later_12_month_highest</th>\n",
       "      <th>trans_amount_increase_rate_lately</th>\n",
       "      <th>transd_mcc</th>\n",
       "      <th>trans_days_interval_filter</th>\n",
       "      <th>trans_days_interval</th>\n",
       "      <th>repayment_capability</th>\n",
       "      <th>number_of_trans_from_2011</th>\n",
       "      <th>historical_trans_amount</th>\n",
       "      <th>historical_trans_day</th>\n",
       "      <th>trans_amount_3_month</th>\n",
       "      <th>abs</th>\n",
       "      <th>avg_price_last_12_month</th>\n",
       "      <th>trans_top_time_last_1_month</th>\n",
       "      <th>trans_top_time_last_6_month</th>\n",
       "      <th>consume_top_time_last_1_month</th>\n",
       "      <th>consume_top_time_last_6_month</th>\n",
       "      <th>trans_fail_top_count_enum_last_1_month</th>\n",
       "      <th>trans_fail_top_count_enum_last_6_month</th>\n",
       "      <th>trans_fail_top_count_enum_last_12_month</th>\n",
       "      <th>consume_mini_time_last_1_month</th>\n",
       "      <th>max_cumulative_consume_later_1_month</th>\n",
       "      <th>pawns_auctions_trusts_consume_last_1_month</th>\n",
       "      <th>pawns_auctions_trusts_consume_last_6_month</th>\n",
       "      <th>first_transaction_day</th>\n",
       "      <th>trans_day_last_12_month</th>\n",
       "      <th>apply_score</th>\n",
       "      <th>apply_credibility</th>\n",
       "      <th>query_sum_count</th>\n",
       "      <th>loans_score</th>\n",
       "      <th>loans_count</th>\n",
       "      <th>loans_settle_count</th>\n",
       "      <th>loans_overdue_count</th>\n",
       "      <th>latest_six_month_loan</th>\n",
       "      <th>history_suc_fee</th>\n",
       "      <th>history_fail_fee</th>\n",
       "      <th>latest_one_month_suc</th>\n",
       "      <th>latest_one_month_fail</th>\n",
       "      <th>loans_long_time</th>\n",
       "      <th>loans_credit_limit</th>\n",
       "      <th>loans_max_limit</th>\n",
       "      <th>loans_avg_limit</th>\n",
       "      <th>consfin_credit_limit</th>\n",
       "      <th>consfin_max_limit</th>\n",
       "      <th>consfin_avg_limit</th>\n",
       "      <th>latest_query_day</th>\n",
       "      <th>loans_latest_day</th>\n",
       "      <th>status</th>\n",
       "    </tr>\n",
       "  </thead>\n",
       "  <tbody>\n",
       "    <tr>\n",
       "      <th>0</th>\n",
       "      <td>0.83</td>\n",
       "      <td>0.136</td>\n",
       "      <td>1.00</td>\n",
       "      <td>1.00</td>\n",
       "      <td>0.45</td>\n",
       "      <td>445</td>\n",
       "      <td>37</td>\n",
       "      <td>189</td>\n",
       "      <td>300</td>\n",
       "      <td>0.99</td>\n",
       "      <td>13.0</td>\n",
       "      <td>127.0</td>\n",
       "      <td>95.0</td>\n",
       "      <td>10480</td>\n",
       "      <td>10.0</td>\n",
       "      <td>33830</td>\n",
       "      <td>41.0</td>\n",
       "      <td>4260</td>\n",
       "      <td>830</td>\n",
       "      <td>1300</td>\n",
       "      <td>0.0</td>\n",
       "      <td>27.0</td>\n",
       "      <td>0.0</td>\n",
       "      <td>15.0</td>\n",
       "      <td>3.0</td>\n",
       "      <td>4.0</td>\n",
       "      <td>4.0</td>\n",
       "      <td>0.0</td>\n",
       "      <td>0</td>\n",
       "      <td>0</td>\n",
       "      <td>6160</td>\n",
       "      <td>434.0</td>\n",
       "      <td>93.0</td>\n",
       "      <td>530.0</td>\n",
       "      <td>78.0</td>\n",
       "      <td>12.0</td>\n",
       "      <td>493.0</td>\n",
       "      <td>16.0</td>\n",
       "      <td>16.0</td>\n",
       "      <td>2.0</td>\n",
       "      <td>3.0</td>\n",
       "      <td>16.0</td>\n",
       "      <td>10.0</td>\n",
       "      <td>0.0</td>\n",
       "      <td>0.0</td>\n",
       "      <td>302.0</td>\n",
       "      <td>2400.0</td>\n",
       "      <td>2800.0</td>\n",
       "      <td>2400.0</td>\n",
       "      <td>0.0</td>\n",
       "      <td>0.0</td>\n",
       "      <td>0.0</td>\n",
       "      <td>12.0</td>\n",
       "      <td>164.0</td>\n",
       "      <td>0</td>\n",
       "    </tr>\n",
       "    <tr>\n",
       "      <th>1</th>\n",
       "      <td>1.00</td>\n",
       "      <td>0.438</td>\n",
       "      <td>0.30</td>\n",
       "      <td>0.10</td>\n",
       "      <td>0.55</td>\n",
       "      <td>249</td>\n",
       "      <td>27</td>\n",
       "      <td>27</td>\n",
       "      <td>1500</td>\n",
       "      <td>0.72</td>\n",
       "      <td>14.0</td>\n",
       "      <td>6.0</td>\n",
       "      <td>6.0</td>\n",
       "      <td>15790</td>\n",
       "      <td>6.0</td>\n",
       "      <td>100060</td>\n",
       "      <td>79.0</td>\n",
       "      <td>28580</td>\n",
       "      <td>10550</td>\n",
       "      <td>1040</td>\n",
       "      <td>6.0</td>\n",
       "      <td>6.0</td>\n",
       "      <td>9.0</td>\n",
       "      <td>9.0</td>\n",
       "      <td>2.0</td>\n",
       "      <td>3.0</td>\n",
       "      <td>3.0</td>\n",
       "      <td>267070.0</td>\n",
       "      <td>2800</td>\n",
       "      <td>0</td>\n",
       "      <td>4350</td>\n",
       "      <td>238.0</td>\n",
       "      <td>82.0</td>\n",
       "      <td>545.0</td>\n",
       "      <td>79.0</td>\n",
       "      <td>22.0</td>\n",
       "      <td>515.0</td>\n",
       "      <td>59.0</td>\n",
       "      <td>53.0</td>\n",
       "      <td>2.0</td>\n",
       "      <td>27.0</td>\n",
       "      <td>62.0</td>\n",
       "      <td>19.0</td>\n",
       "      <td>4.0</td>\n",
       "      <td>0.0</td>\n",
       "      <td>351.0</td>\n",
       "      <td>2100.0</td>\n",
       "      <td>4000.0</td>\n",
       "      <td>1992.0</td>\n",
       "      <td>7700.0</td>\n",
       "      <td>18000.0</td>\n",
       "      <td>7600.0</td>\n",
       "      <td>2.0</td>\n",
       "      <td>2.0</td>\n",
       "      <td>0</td>\n",
       "    </tr>\n",
       "    <tr>\n",
       "      <th>2</th>\n",
       "      <td>0.83</td>\n",
       "      <td>0.486</td>\n",
       "      <td>0.25</td>\n",
       "      <td>0.05</td>\n",
       "      <td>0.50</td>\n",
       "      <td>2642</td>\n",
       "      <td>31</td>\n",
       "      <td>92</td>\n",
       "      <td>500</td>\n",
       "      <td>0.98</td>\n",
       "      <td>22.0</td>\n",
       "      <td>23.0</td>\n",
       "      <td>15.0</td>\n",
       "      <td>14050</td>\n",
       "      <td>70.0</td>\n",
       "      <td>302720</td>\n",
       "      <td>359.0</td>\n",
       "      <td>63600</td>\n",
       "      <td>650</td>\n",
       "      <td>1140</td>\n",
       "      <td>10.0</td>\n",
       "      <td>15.0</td>\n",
       "      <td>10.0</td>\n",
       "      <td>15.0</td>\n",
       "      <td>2.0</td>\n",
       "      <td>10.0</td>\n",
       "      <td>10.0</td>\n",
       "      <td>852.0</td>\n",
       "      <td>2390</td>\n",
       "      <td>1160</td>\n",
       "      <td>52310</td>\n",
       "      <td>2631.0</td>\n",
       "      <td>82.0</td>\n",
       "      <td>524.0</td>\n",
       "      <td>80.0</td>\n",
       "      <td>24.0</td>\n",
       "      <td>483.0</td>\n",
       "      <td>58.0</td>\n",
       "      <td>48.0</td>\n",
       "      <td>9.0</td>\n",
       "      <td>14.0</td>\n",
       "      <td>64.0</td>\n",
       "      <td>42.0</td>\n",
       "      <td>1.0</td>\n",
       "      <td>0.0</td>\n",
       "      <td>354.0</td>\n",
       "      <td>2100.0</td>\n",
       "      <td>3700.0</td>\n",
       "      <td>1725.0</td>\n",
       "      <td>10000.0</td>\n",
       "      <td>12000.0</td>\n",
       "      <td>8614.0</td>\n",
       "      <td>6.0</td>\n",
       "      <td>67.0</td>\n",
       "      <td>0</td>\n",
       "    </tr>\n",
       "    <tr>\n",
       "      <th>3</th>\n",
       "      <td>0.68</td>\n",
       "      <td>0.555</td>\n",
       "      <td>0.20</td>\n",
       "      <td>0.05</td>\n",
       "      <td>0.50</td>\n",
       "      <td>1240</td>\n",
       "      <td>50</td>\n",
       "      <td>135</td>\n",
       "      <td>0</td>\n",
       "      <td>0.82</td>\n",
       "      <td>18.0</td>\n",
       "      <td>7.0</td>\n",
       "      <td>7.0</td>\n",
       "      <td>11880</td>\n",
       "      <td>26.0</td>\n",
       "      <td>367680</td>\n",
       "      <td>267.0</td>\n",
       "      <td>64150</td>\n",
       "      <td>6260</td>\n",
       "      <td>1090</td>\n",
       "      <td>7.0</td>\n",
       "      <td>7.0</td>\n",
       "      <td>7.0</td>\n",
       "      <td>7.0</td>\n",
       "      <td>2.0</td>\n",
       "      <td>2.0</td>\n",
       "      <td>5.0</td>\n",
       "      <td>501194.0</td>\n",
       "      <td>2030</td>\n",
       "      <td>1230</td>\n",
       "      <td>43930</td>\n",
       "      <td>1229.0</td>\n",
       "      <td>82.0</td>\n",
       "      <td>540.0</td>\n",
       "      <td>78.0</td>\n",
       "      <td>7.0</td>\n",
       "      <td>503.0</td>\n",
       "      <td>25.0</td>\n",
       "      <td>25.0</td>\n",
       "      <td>1.0</td>\n",
       "      <td>6.0</td>\n",
       "      <td>47.0</td>\n",
       "      <td>3.0</td>\n",
       "      <td>0.0</td>\n",
       "      <td>0.0</td>\n",
       "      <td>348.0</td>\n",
       "      <td>1600.0</td>\n",
       "      <td>2300.0</td>\n",
       "      <td>1362.0</td>\n",
       "      <td>8400.0</td>\n",
       "      <td>13200.0</td>\n",
       "      <td>8800.0</td>\n",
       "      <td>25.0</td>\n",
       "      <td>110.0</td>\n",
       "      <td>0</td>\n",
       "    </tr>\n",
       "    <tr>\n",
       "      <th>4</th>\n",
       "      <td>0.88</td>\n",
       "      <td>0.136</td>\n",
       "      <td>1.00</td>\n",
       "      <td>1.00</td>\n",
       "      <td>0.60</td>\n",
       "      <td>882</td>\n",
       "      <td>48</td>\n",
       "      <td>116</td>\n",
       "      <td>500</td>\n",
       "      <td>4.24</td>\n",
       "      <td>15.0</td>\n",
       "      <td>81.0</td>\n",
       "      <td>36.0</td>\n",
       "      <td>11010</td>\n",
       "      <td>21.0</td>\n",
       "      <td>30610</td>\n",
       "      <td>71.0</td>\n",
       "      <td>3000</td>\n",
       "      <td>550</td>\n",
       "      <td>570</td>\n",
       "      <td>0.0</td>\n",
       "      <td>22.0</td>\n",
       "      <td>0.0</td>\n",
       "      <td>22.0</td>\n",
       "      <td>8.0</td>\n",
       "      <td>8.0</td>\n",
       "      <td>8.0</td>\n",
       "      <td>0.0</td>\n",
       "      <td>0</td>\n",
       "      <td>0</td>\n",
       "      <td>8270</td>\n",
       "      <td>871.0</td>\n",
       "      <td>141.0</td>\n",
       "      <td>533.0</td>\n",
       "      <td>79.0</td>\n",
       "      <td>8.0</td>\n",
       "      <td>462.0</td>\n",
       "      <td>11.0</td>\n",
       "      <td>5.0</td>\n",
       "      <td>5.0</td>\n",
       "      <td>6.0</td>\n",
       "      <td>5.0</td>\n",
       "      <td>130.0</td>\n",
       "      <td>0.0</td>\n",
       "      <td>12.0</td>\n",
       "      <td>318.0</td>\n",
       "      <td>1200.0</td>\n",
       "      <td>1200.0</td>\n",
       "      <td>1200.0</td>\n",
       "      <td>2100.0</td>\n",
       "      <td>2400.0</td>\n",
       "      <td>1466.0</td>\n",
       "      <td>23.0</td>\n",
       "      <td>91.0</td>\n",
       "      <td>1</td>\n",
       "    </tr>\n",
       "  </tbody>\n",
       "</table>\n",
       "</div>"
      ],
      "text/plain": [
       "   trans_activity_month  trans_activity_day  rank_trad_1_month  \\\n",
       "0                  0.83               0.136               1.00   \n",
       "1                  1.00               0.438               0.30   \n",
       "2                  0.83               0.486               0.25   \n",
       "3                  0.68               0.555               0.20   \n",
       "4                  0.88               0.136               1.00   \n",
       "\n",
       "   top_trans_count_last_1_month  avg_price_top_last_12_valid_month  \\\n",
       "0                          1.00                               0.45   \n",
       "1                          0.10                               0.55   \n",
       "2                          0.05                               0.50   \n",
       "3                          0.05                               0.50   \n",
       "4                          1.00                               0.60   \n",
       "\n",
       "   first_transaction_time_diff_day  latest_query_time_diff_day  \\\n",
       "0                              445                          37   \n",
       "1                              249                          27   \n",
       "2                             2642                          31   \n",
       "3                             1240                          50   \n",
       "4                              882                          48   \n",
       "\n",
       "   loans_latest_time_diff_day  take_amount_in_later_12_month_highest  \\\n",
       "0                         189                                    300   \n",
       "1                          27                                   1500   \n",
       "2                          92                                    500   \n",
       "3                         135                                      0   \n",
       "4                         116                                    500   \n",
       "\n",
       "   trans_amount_increase_rate_lately  transd_mcc  trans_days_interval_filter  \\\n",
       "0                               0.99        13.0                       127.0   \n",
       "1                               0.72        14.0                         6.0   \n",
       "2                               0.98        22.0                        23.0   \n",
       "3                               0.82        18.0                         7.0   \n",
       "4                               4.24        15.0                        81.0   \n",
       "\n",
       "   trans_days_interval  repayment_capability  number_of_trans_from_2011  \\\n",
       "0                 95.0                 10480                       10.0   \n",
       "1                  6.0                 15790                        6.0   \n",
       "2                 15.0                 14050                       70.0   \n",
       "3                  7.0                 11880                       26.0   \n",
       "4                 36.0                 11010                       21.0   \n",
       "\n",
       "   historical_trans_amount  historical_trans_day  trans_amount_3_month    abs  \\\n",
       "0                    33830                  41.0                  4260    830   \n",
       "1                   100060                  79.0                 28580  10550   \n",
       "2                   302720                 359.0                 63600    650   \n",
       "3                   367680                 267.0                 64150   6260   \n",
       "4                    30610                  71.0                  3000    550   \n",
       "\n",
       "   avg_price_last_12_month  trans_top_time_last_1_month  \\\n",
       "0                     1300                          0.0   \n",
       "1                     1040                          6.0   \n",
       "2                     1140                         10.0   \n",
       "3                     1090                          7.0   \n",
       "4                      570                          0.0   \n",
       "\n",
       "   trans_top_time_last_6_month  consume_top_time_last_1_month  \\\n",
       "0                         27.0                            0.0   \n",
       "1                          6.0                            9.0   \n",
       "2                         15.0                           10.0   \n",
       "3                          7.0                            7.0   \n",
       "4                         22.0                            0.0   \n",
       "\n",
       "   consume_top_time_last_6_month  trans_fail_top_count_enum_last_1_month  \\\n",
       "0                           15.0                                     3.0   \n",
       "1                            9.0                                     2.0   \n",
       "2                           15.0                                     2.0   \n",
       "3                            7.0                                     2.0   \n",
       "4                           22.0                                     8.0   \n",
       "\n",
       "   trans_fail_top_count_enum_last_6_month  \\\n",
       "0                                     4.0   \n",
       "1                                     3.0   \n",
       "2                                    10.0   \n",
       "3                                     2.0   \n",
       "4                                     8.0   \n",
       "\n",
       "   trans_fail_top_count_enum_last_12_month  consume_mini_time_last_1_month  \\\n",
       "0                                      4.0                             0.0   \n",
       "1                                      3.0                        267070.0   \n",
       "2                                     10.0                           852.0   \n",
       "3                                      5.0                        501194.0   \n",
       "4                                      8.0                             0.0   \n",
       "\n",
       "   max_cumulative_consume_later_1_month  \\\n",
       "0                                     0   \n",
       "1                                  2800   \n",
       "2                                  2390   \n",
       "3                                  2030   \n",
       "4                                     0   \n",
       "\n",
       "   pawns_auctions_trusts_consume_last_1_month  \\\n",
       "0                                           0   \n",
       "1                                           0   \n",
       "2                                        1160   \n",
       "3                                        1230   \n",
       "4                                           0   \n",
       "\n",
       "   pawns_auctions_trusts_consume_last_6_month  first_transaction_day  \\\n",
       "0                                        6160                  434.0   \n",
       "1                                        4350                  238.0   \n",
       "2                                       52310                 2631.0   \n",
       "3                                       43930                 1229.0   \n",
       "4                                        8270                  871.0   \n",
       "\n",
       "   trans_day_last_12_month  apply_score  apply_credibility  query_sum_count  \\\n",
       "0                     93.0        530.0               78.0             12.0   \n",
       "1                     82.0        545.0               79.0             22.0   \n",
       "2                     82.0        524.0               80.0             24.0   \n",
       "3                     82.0        540.0               78.0              7.0   \n",
       "4                    141.0        533.0               79.0              8.0   \n",
       "\n",
       "   loans_score  loans_count  loans_settle_count  loans_overdue_count  \\\n",
       "0        493.0         16.0                16.0                  2.0   \n",
       "1        515.0         59.0                53.0                  2.0   \n",
       "2        483.0         58.0                48.0                  9.0   \n",
       "3        503.0         25.0                25.0                  1.0   \n",
       "4        462.0         11.0                 5.0                  5.0   \n",
       "\n",
       "   latest_six_month_loan  history_suc_fee  history_fail_fee  \\\n",
       "0                    3.0             16.0              10.0   \n",
       "1                   27.0             62.0              19.0   \n",
       "2                   14.0             64.0              42.0   \n",
       "3                    6.0             47.0               3.0   \n",
       "4                    6.0              5.0             130.0   \n",
       "\n",
       "   latest_one_month_suc  latest_one_month_fail  loans_long_time  \\\n",
       "0                   0.0                    0.0            302.0   \n",
       "1                   4.0                    0.0            351.0   \n",
       "2                   1.0                    0.0            354.0   \n",
       "3                   0.0                    0.0            348.0   \n",
       "4                   0.0                   12.0            318.0   \n",
       "\n",
       "   loans_credit_limit  loans_max_limit  loans_avg_limit  consfin_credit_limit  \\\n",
       "0              2400.0           2800.0           2400.0                   0.0   \n",
       "1              2100.0           4000.0           1992.0                7700.0   \n",
       "2              2100.0           3700.0           1725.0               10000.0   \n",
       "3              1600.0           2300.0           1362.0                8400.0   \n",
       "4              1200.0           1200.0           1200.0                2100.0   \n",
       "\n",
       "   consfin_max_limit  consfin_avg_limit  latest_query_day  loans_latest_day  \\\n",
       "0                0.0                0.0              12.0             164.0   \n",
       "1            18000.0             7600.0               2.0               2.0   \n",
       "2            12000.0             8614.0               6.0              67.0   \n",
       "3            13200.0             8800.0              25.0             110.0   \n",
       "4             2400.0             1466.0              23.0              91.0   \n",
       "\n",
       "   status  \n",
       "0       0  \n",
       "1       0  \n",
       "2       0  \n",
       "3       0  \n",
       "4       1  "
      ]
     },
     "execution_count": 10,
     "metadata": {},
     "output_type": "execute_result"
    }
   ],
   "source": [
    "train_set.head()"
   ]
  },
  {
   "cell_type": "code",
   "execution_count": 11,
   "metadata": {
    "ExecuteTime": {
     "end_time": "2019-08-11T09:50:22.391993Z",
     "start_time": "2019-08-11T09:50:22.388159Z"
    }
   },
   "outputs": [
    {
     "data": {
      "text/plain": [
       "(3326, 55)"
      ]
     },
     "execution_count": 11,
     "metadata": {},
     "output_type": "execute_result"
    }
   ],
   "source": [
    "train_set.shape"
   ]
  },
  {
   "cell_type": "code",
   "execution_count": 13,
   "metadata": {
    "ExecuteTime": {
     "end_time": "2019-08-11T09:51:35.549361Z",
     "start_time": "2019-08-11T09:51:35.545030Z"
    }
   },
   "outputs": [
    {
     "data": {
      "text/plain": [
       "(1426, 55)"
      ]
     },
     "execution_count": 13,
     "metadata": {},
     "output_type": "execute_result"
    }
   ],
   "source": [
    "test_set.shape"
   ]
  },
  {
   "cell_type": "code",
   "execution_count": null,
   "metadata": {},
   "outputs": [],
   "source": []
  },
  {
   "cell_type": "code",
   "execution_count": null,
   "metadata": {},
   "outputs": [],
   "source": [
    "# 逻辑回归\n",
    "# svm\n",
    "# 决策树\n",
    "# 随机森林\n",
    "# XGBoost"
   ]
  },
  {
   "cell_type": "code",
   "execution_count": 14,
   "metadata": {
    "ExecuteTime": {
     "end_time": "2019-08-11T09:56:14.413149Z",
     "start_time": "2019-08-11T09:56:14.410389Z"
    }
   },
   "outputs": [],
   "source": [
    "cols_0_to_1 =  ['low_volume_percent',\n",
    " 'middle_volume_percent',\n",
    " 'trans_activity_month',\n",
    " 'trans_activity_day',\n",
    " 'rank_trad_1_month',\n",
    " 'top_trans_count_last_1_month',\n",
    " 'avg_price_top_last_12_valid_month']"
   ]
  },
  {
   "cell_type": "code",
   "execution_count": 15,
   "metadata": {
    "ExecuteTime": {
     "end_time": "2019-08-11T09:56:28.772082Z",
     "start_time": "2019-08-11T09:56:28.769232Z"
    }
   },
   "outputs": [],
   "source": [
    "cols_catg = ['regional_mobility',\n",
    " 'student_feature',\n",
    " 'is_high_user',\n",
    " 'reg_preference_for_trad']"
   ]
  },
  {
   "cell_type": "code",
   "execution_count": 18,
   "metadata": {
    "ExecuteTime": {
     "end_time": "2019-08-11T09:57:19.964825Z",
     "start_time": "2019-08-11T09:57:19.960562Z"
    }
   },
   "outputs": [
    {
     "data": {
      "text/plain": [
       "Index(['trans_activity_month', 'trans_activity_day', 'rank_trad_1_month',\n",
       "       'top_trans_count_last_1_month', 'avg_price_top_last_12_valid_month',\n",
       "       'first_transaction_time_diff_day', 'latest_query_time_diff_day',\n",
       "       'loans_latest_time_diff_day', 'take_amount_in_later_12_month_highest',\n",
       "       'trans_amount_increase_rate_lately', 'transd_mcc',\n",
       "       'trans_days_interval_filter', 'trans_days_interval',\n",
       "       'repayment_capability', 'number_of_trans_from_2011',\n",
       "       'historical_trans_amount', 'historical_trans_day',\n",
       "       'trans_amount_3_month', 'abs', 'avg_price_last_12_month',\n",
       "       'trans_top_time_last_1_month', 'trans_top_time_last_6_month',\n",
       "       'consume_top_time_last_1_month', 'consume_top_time_last_6_month',\n",
       "       'trans_fail_top_count_enum_last_1_month',\n",
       "       'trans_fail_top_count_enum_last_6_month',\n",
       "       'trans_fail_top_count_enum_last_12_month',\n",
       "       'consume_mini_time_last_1_month',\n",
       "       'max_cumulative_consume_later_1_month',\n",
       "       'pawns_auctions_trusts_consume_last_1_month',\n",
       "       'pawns_auctions_trusts_consume_last_6_month', 'first_transaction_day',\n",
       "       'trans_day_last_12_month', 'apply_score', 'apply_credibility',\n",
       "       'query_sum_count', 'loans_score', 'loans_count', 'loans_settle_count',\n",
       "       'loans_overdue_count', 'latest_six_month_loan', 'history_suc_fee',\n",
       "       'history_fail_fee', 'latest_one_month_suc', 'latest_one_month_fail',\n",
       "       'loans_long_time', 'loans_credit_limit', 'loans_max_limit',\n",
       "       'loans_avg_limit', 'consfin_credit_limit', 'consfin_max_limit',\n",
       "       'consfin_avg_limit', 'latest_query_day', 'loans_latest_day', 'status'],\n",
       "      dtype='object')"
      ]
     },
     "execution_count": 18,
     "metadata": {},
     "output_type": "execute_result"
    }
   ],
   "source": [
    "train_set.columns"
   ]
  },
  {
   "cell_type": "code",
   "execution_count": null,
   "metadata": {},
   "outputs": [],
   "source": []
  },
  {
   "cell_type": "markdown",
   "metadata": {},
   "source": [
    "# 标准化处理"
   ]
  },
  {
   "cell_type": "code",
   "execution_count": 24,
   "metadata": {
    "ExecuteTime": {
     "end_time": "2019-08-11T10:02:11.609609Z",
     "start_time": "2019-08-11T10:02:11.486671Z"
    }
   },
   "outputs": [],
   "source": [
    "from sklearn.preprocessing import StandardScaler"
   ]
  },
  {
   "cell_type": "code",
   "execution_count": 21,
   "metadata": {
    "ExecuteTime": {
     "end_time": "2019-08-11T10:01:14.389677Z",
     "start_time": "2019-08-11T10:01:14.384809Z"
    }
   },
   "outputs": [],
   "source": [
    "x_train, y_train = train_set.iloc[:, :-1], train_set['status']\n",
    "x_test, y_test = test_set.iloc[:, :-1], test_set['status']"
   ]
  },
  {
   "cell_type": "code",
   "execution_count": 22,
   "metadata": {
    "ExecuteTime": {
     "end_time": "2019-08-11T10:01:26.658501Z",
     "start_time": "2019-08-11T10:01:26.655874Z"
    }
   },
   "outputs": [],
   "source": [
    "features = x_train.columns"
   ]
  },
  {
   "cell_type": "code",
   "execution_count": 25,
   "metadata": {
    "ExecuteTime": {
     "end_time": "2019-08-11T10:02:51.667647Z",
     "start_time": "2019-08-11T10:02:51.642760Z"
    }
   },
   "outputs": [
    {
     "name": "stderr",
     "output_type": "stream",
     "text": [
      "/Users/lmingzhi/miniconda3/lib/python3.7/site-packages/sklearn/preprocessing/data.py:645: DataConversionWarning: Data with input dtype int64, float64 were all converted to float64 by StandardScaler.\n",
      "  return self.partial_fit(X, y)\n",
      "/Users/lmingzhi/miniconda3/lib/python3.7/site-packages/sklearn/base.py:464: DataConversionWarning: Data with input dtype int64, float64 were all converted to float64 by StandardScaler.\n",
      "  return self.fit(X, **fit_params).transform(X)\n",
      "/Users/lmingzhi/miniconda3/lib/python3.7/site-packages/sklearn/preprocessing/data.py:645: DataConversionWarning: Data with input dtype int64, float64 were all converted to float64 by StandardScaler.\n",
      "  return self.partial_fit(X, y)\n",
      "/Users/lmingzhi/miniconda3/lib/python3.7/site-packages/sklearn/base.py:464: DataConversionWarning: Data with input dtype int64, float64 were all converted to float64 by StandardScaler.\n",
      "  return self.fit(X, **fit_params).transform(X)\n"
     ]
    }
   ],
   "source": [
    "scaler = StandardScaler()\n",
    "x_train_scale = scaler.fit_transform(x_train)\n",
    "x_test_scale = scaler.fit_transform(x_test)"
   ]
  },
  {
   "cell_type": "code",
   "execution_count": 26,
   "metadata": {
    "ExecuteTime": {
     "end_time": "2019-08-11T10:03:11.963450Z",
     "start_time": "2019-08-11T10:03:11.958691Z"
    }
   },
   "outputs": [
    {
     "data": {
      "text/plain": [
       "array([[ 0.13404651, -1.35331866,  1.99203681, ..., -1.40968007,\n",
       "         0.21939562,  0.66826917],\n",
       "       [ 0.99036309,  0.41610248, -0.65915369, ..., -0.06756396,\n",
       "         0.18095929,  0.06038847],\n",
       "       [ 0.13404651,  0.69733498, -0.84852444, ...,  0.11150258,\n",
       "         0.19633382,  0.30429122],\n",
       "       ...,\n",
       "       [ 0.73850528,  0.41610248, -0.84852444, ...,  0.74123759,\n",
       "         0.16558476,  0.26676772],\n",
       "       [ 0.48664746, -0.82014872, -0.28041219, ..., -0.16469079,\n",
       "        -3.66651702, -3.69571392],\n",
       "       [-0.16818287,  1.26565899, -1.60600744, ...,  0.81540716,\n",
       "         0.22708288,  0.16545427]])"
      ]
     },
     "execution_count": 26,
     "metadata": {},
     "output_type": "execute_result"
    }
   ],
   "source": [
    "x_train_scale"
   ]
  },
  {
   "cell_type": "code",
   "execution_count": 27,
   "metadata": {
    "ExecuteTime": {
     "end_time": "2019-08-11T10:03:16.835931Z",
     "start_time": "2019-08-11T10:03:16.831329Z"
    }
   },
   "outputs": [
    {
     "data": {
      "text/plain": [
       "array([[ 1.00087652, -0.04023211, -0.12801669, ..., -0.75903289,\n",
       "         0.1513533 ,  0.08085718],\n",
       "       [ 0.3274255 ,  1.39211896, -0.12801669, ..., -0.38469399,\n",
       "         0.36816515,  0.23168042],\n",
       "       [-0.55324121,  2.03135001, -1.07880733, ..., -0.2068097 ,\n",
       "         0.14285088,  0.04417044],\n",
       "       ...,\n",
       "       [-1.53751577, -0.40127928,  0.06214144, ...,  0.30925019,\n",
       "         0.16410694,  0.23575672],\n",
       "       [-0.39782944,  1.1435291 , -0.69849108, ..., -0.28343678,\n",
       "         0.22362392,  0.21945151],\n",
       "       [ 1.00087652,  0.56940492, -0.50833295, ...,  0.29165724,\n",
       "         0.15560452,  0.01971262]])"
      ]
     },
     "execution_count": 27,
     "metadata": {},
     "output_type": "execute_result"
    }
   ],
   "source": [
    "x_test_scale"
   ]
  },
  {
   "cell_type": "code",
   "execution_count": null,
   "metadata": {},
   "outputs": [],
   "source": []
  },
  {
   "cell_type": "markdown",
   "metadata": {},
   "source": [
    "# 模型"
   ]
  },
  {
   "cell_type": "markdown",
   "metadata": {
    "ExecuteTime": {
     "end_time": "2019-08-11T10:08:56.388146Z",
     "start_time": "2019-08-11T10:08:56.377836Z"
    }
   },
   "source": [
    "    逻辑回归\n",
    "    svm\n",
    "    决策树\n",
    "    随机森林\n",
    "    XGBoost"
   ]
  },
  {
   "cell_type": "code",
   "execution_count": 35,
   "metadata": {
    "ExecuteTime": {
     "end_time": "2019-08-11T10:11:04.077005Z",
     "start_time": "2019-08-11T10:11:04.058338Z"
    }
   },
   "outputs": [],
   "source": [
    "from sklearn.linear_model import LogisticRegression\n",
    "from sklearn.svm import SVC\n",
    "from sklearn.tree import DecisionTreeClassifier\n",
    "from sklearn.ensemble import RandomForestClassifier\n",
    "# 评分\n",
    "from sklearn.metrics import accuracy_score,precision_score,recall_score,f1_score,roc_auc_score,roc_curve"
   ]
  },
  {
   "cell_type": "markdown",
   "metadata": {},
   "source": [
    "## LogisticRegression"
   ]
  },
  {
   "cell_type": "code",
   "execution_count": 37,
   "metadata": {
    "ExecuteTime": {
     "end_time": "2019-08-11T10:13:01.392730Z",
     "start_time": "2019-08-11T10:13:00.904449Z"
    }
   },
   "outputs": [
    {
     "name": "stderr",
     "output_type": "stream",
     "text": [
      "/Users/lmingzhi/miniconda3/lib/python3.7/site-packages/sklearn/linear_model/logistic.py:433: FutureWarning: Default solver will be changed to 'lbfgs' in 0.22. Specify a solver to silence this warning.\n",
      "  FutureWarning)\n"
     ]
    },
    {
     "data": {
      "text/plain": [
       "LogisticRegression(C=1.0, class_weight=None, dual=False, fit_intercept=True,\n",
       "          intercept_scaling=1, max_iter=100, multi_class='warn',\n",
       "          n_jobs=None, penalty='l2', random_state=None, solver='warn',\n",
       "          tol=0.0001, verbose=0, warm_start=False)"
      ]
     },
     "execution_count": 37,
     "metadata": {},
     "output_type": "execute_result"
    }
   ],
   "source": [
    "clf_lr = LogisticRegression()\n",
    "clf_lr.fit(x_train, y_train)"
   ]
  },
  {
   "cell_type": "code",
   "execution_count": 38,
   "metadata": {
    "ExecuteTime": {
     "end_time": "2019-08-11T10:13:05.190084Z",
     "start_time": "2019-08-11T10:13:05.183141Z"
    }
   },
   "outputs": [
    {
     "data": {
      "text/plain": [
       "0.7833099579242637"
      ]
     },
     "execution_count": 38,
     "metadata": {},
     "output_type": "execute_result"
    }
   ],
   "source": [
    "clf_lr.score(x_test, y_test)"
   ]
  },
  {
   "cell_type": "markdown",
   "metadata": {},
   "source": [
    "## svm"
   ]
  },
  {
   "cell_type": "code",
   "execution_count": 39,
   "metadata": {
    "ExecuteTime": {
     "end_time": "2019-08-11T10:13:08.266746Z",
     "start_time": "2019-08-11T10:13:08.263894Z"
    }
   },
   "outputs": [],
   "source": [
    "clf_svm = SVC(gamma='auto')"
   ]
  },
  {
   "cell_type": "code",
   "execution_count": 40,
   "metadata": {
    "ExecuteTime": {
     "end_time": "2019-08-11T10:13:13.135252Z",
     "start_time": "2019-08-11T10:13:12.472979Z"
    }
   },
   "outputs": [
    {
     "data": {
      "text/plain": [
       "SVC(C=1.0, cache_size=200, class_weight=None, coef0=0.0,\n",
       "  decision_function_shape='ovr', degree=3, gamma='auto', kernel='rbf',\n",
       "  max_iter=-1, probability=False, random_state=None, shrinking=True,\n",
       "  tol=0.001, verbose=False)"
      ]
     },
     "execution_count": 40,
     "metadata": {},
     "output_type": "execute_result"
    }
   ],
   "source": [
    "clf_svm.fit(x_train, y_train)"
   ]
  },
  {
   "cell_type": "code",
   "execution_count": 41,
   "metadata": {
    "ExecuteTime": {
     "end_time": "2019-08-11T10:13:20.553331Z",
     "start_time": "2019-08-11T10:13:20.326765Z"
    }
   },
   "outputs": [
    {
     "data": {
      "text/plain": [
       "0.7573632538569425"
      ]
     },
     "execution_count": 41,
     "metadata": {},
     "output_type": "execute_result"
    }
   ],
   "source": [
    "clf_svm.score(x_test, y_test)"
   ]
  },
  {
   "cell_type": "markdown",
   "metadata": {},
   "source": [
    "## DecisionTreeClassifier"
   ]
  },
  {
   "cell_type": "code",
   "execution_count": 42,
   "metadata": {
    "ExecuteTime": {
     "end_time": "2019-08-11T10:14:40.327765Z",
     "start_time": "2019-08-11T10:14:40.325006Z"
    }
   },
   "outputs": [],
   "source": [
    "clf_dt = DecisionTreeClassifier()"
   ]
  },
  {
   "cell_type": "code",
   "execution_count": 43,
   "metadata": {
    "ExecuteTime": {
     "end_time": "2019-08-11T10:14:51.974185Z",
     "start_time": "2019-08-11T10:14:51.853426Z"
    }
   },
   "outputs": [
    {
     "data": {
      "text/plain": [
       "DecisionTreeClassifier(class_weight=None, criterion='gini', max_depth=None,\n",
       "            max_features=None, max_leaf_nodes=None,\n",
       "            min_impurity_decrease=0.0, min_impurity_split=None,\n",
       "            min_samples_leaf=1, min_samples_split=2,\n",
       "            min_weight_fraction_leaf=0.0, presort=False, random_state=None,\n",
       "            splitter='best')"
      ]
     },
     "execution_count": 43,
     "metadata": {},
     "output_type": "execute_result"
    }
   ],
   "source": [
    "clf_dt.fit(x_train, y_train)"
   ]
  },
  {
   "cell_type": "code",
   "execution_count": 45,
   "metadata": {
    "ExecuteTime": {
     "end_time": "2019-08-11T10:15:00.411186Z",
     "start_time": "2019-08-11T10:15:00.403525Z"
    }
   },
   "outputs": [
    {
     "data": {
      "text/plain": [
       "0.7047685834502104"
      ]
     },
     "execution_count": 45,
     "metadata": {},
     "output_type": "execute_result"
    }
   ],
   "source": [
    "clf_dt.score(x_test, y_test)"
   ]
  },
  {
   "cell_type": "markdown",
   "metadata": {},
   "source": [
    "## RandomForestClassifier"
   ]
  },
  {
   "cell_type": "code",
   "execution_count": 46,
   "metadata": {
    "ExecuteTime": {
     "end_time": "2019-08-11T10:17:06.569765Z",
     "start_time": "2019-08-11T10:17:06.566111Z"
    }
   },
   "outputs": [],
   "source": [
    "clf_rf = RandomForestClassifier(random_state=2018, n_jobs=-1)"
   ]
  },
  {
   "cell_type": "code",
   "execution_count": 47,
   "metadata": {
    "ExecuteTime": {
     "end_time": "2019-08-11T10:17:15.664663Z",
     "start_time": "2019-08-11T10:17:15.534768Z"
    }
   },
   "outputs": [
    {
     "name": "stderr",
     "output_type": "stream",
     "text": [
      "/Users/lmingzhi/miniconda3/lib/python3.7/site-packages/sklearn/ensemble/forest.py:246: FutureWarning: The default value of n_estimators will change from 10 in version 0.20 to 100 in 0.22.\n",
      "  \"10 in version 0.20 to 100 in 0.22.\", FutureWarning)\n"
     ]
    },
    {
     "data": {
      "text/plain": [
       "RandomForestClassifier(bootstrap=True, class_weight=None, criterion='gini',\n",
       "            max_depth=None, max_features='auto', max_leaf_nodes=None,\n",
       "            min_impurity_decrease=0.0, min_impurity_split=None,\n",
       "            min_samples_leaf=1, min_samples_split=2,\n",
       "            min_weight_fraction_leaf=0.0, n_estimators=10, n_jobs=-1,\n",
       "            oob_score=False, random_state=2018, verbose=0,\n",
       "            warm_start=False)"
      ]
     },
     "execution_count": 47,
     "metadata": {},
     "output_type": "execute_result"
    }
   ],
   "source": [
    "clf_rf.fit(x_train, y_train)"
   ]
  },
  {
   "cell_type": "code",
   "execution_count": 48,
   "metadata": {
    "ExecuteTime": {
     "end_time": "2019-08-11T10:17:24.048293Z",
     "start_time": "2019-08-11T10:17:23.937818Z"
    }
   },
   "outputs": [
    {
     "data": {
      "text/plain": [
       "0.7847124824684432"
      ]
     },
     "execution_count": 48,
     "metadata": {},
     "output_type": "execute_result"
    }
   ],
   "source": [
    "clf_rf.score(x_test, y_test)"
   ]
  },
  {
   "cell_type": "code",
   "execution_count": null,
   "metadata": {},
   "outputs": [],
   "source": []
  },
  {
   "cell_type": "markdown",
   "metadata": {},
   "source": [
    "## XGBoost\n",
    "\n",
    "    brew install gcc@7\n",
    "    # Then install XGBoost with pip:\n",
    "    pip3 install xgboost"
   ]
  },
  {
   "cell_type": "code",
   "execution_count": 51,
   "metadata": {
    "ExecuteTime": {
     "end_time": "2019-08-11T10:28:24.159595Z",
     "start_time": "2019-08-11T10:28:24.146386Z"
    }
   },
   "outputs": [],
   "source": [
    "import xgboost as xgb"
   ]
  },
  {
   "cell_type": "code",
   "execution_count": 52,
   "metadata": {
    "ExecuteTime": {
     "end_time": "2019-08-11T10:28:25.538428Z",
     "start_time": "2019-08-11T10:28:25.534758Z"
    }
   },
   "outputs": [],
   "source": [
    "params = {\n",
    "    'booster': 'gbtree',\n",
    "    'objective': 'multi:softmax',\n",
    "    'num_class': 2,\n",
    "    'gamma': 0.1,\n",
    "    'max_depth': 6,\n",
    "    'lambda': 2,\n",
    "    'subsample': 0.7,\n",
    "    'colsample_bytree': 0.7,\n",
    "    'min_child_weight': 3,\n",
    "    'silent': 1,\n",
    "    'eta': 0.1,\n",
    "    'seed': 1000,\n",
    "    'nthread': 32,\n",
    "}\n",
    "\n",
    "plst = params.items()"
   ]
  },
  {
   "cell_type": "code",
   "execution_count": 53,
   "metadata": {
    "ExecuteTime": {
     "end_time": "2019-08-11T10:28:55.249540Z",
     "start_time": "2019-08-11T10:28:47.128316Z"
    }
   },
   "outputs": [
    {
     "name": "stderr",
     "output_type": "stream",
     "text": [
      "/Users/lmingzhi/miniconda3/lib/python3.7/site-packages/xgboost/core.py:587: FutureWarning: Series.base is deprecated and will be removed in a future version\n",
      "  if getattr(data, 'base', None) is not None and \\\n",
      "/Users/lmingzhi/miniconda3/lib/python3.7/site-packages/xgboost/core.py:588: FutureWarning: Series.base is deprecated and will be removed in a future version\n",
      "  data.base is not None and isinstance(data, np.ndarray) \\\n"
     ]
    }
   ],
   "source": [
    "dtrain = xgb.DMatrix(x_train, y_train)\n",
    "num_rounds = 500\n",
    "model = xgb.train(plst, dtrain, num_rounds)"
   ]
  },
  {
   "cell_type": "code",
   "execution_count": 54,
   "metadata": {
    "ExecuteTime": {
     "end_time": "2019-08-11T10:29:07.231744Z",
     "start_time": "2019-08-11T10:29:07.207797Z"
    }
   },
   "outputs": [],
   "source": [
    "# 对测试集进行预测\n",
    "dtest = xgb.DMatrix(x_test)\n",
    "ans = model.predict(dtest)"
   ]
  },
  {
   "cell_type": "markdown",
   "metadata": {},
   "source": [
    "# 评分- 混淆矩阵 & precision_score & recall_score"
   ]
  },
  {
   "cell_type": "code",
   "execution_count": 55,
   "metadata": {
    "ExecuteTime": {
     "end_time": "2019-08-11T10:29:52.682983Z",
     "start_time": "2019-08-11T10:29:52.680121Z"
    }
   },
   "outputs": [],
   "source": [
    "# 混淆矩阵\n",
    "from sklearn.model_selection import cross_val_predict\n",
    "from sklearn.metrics import confusion_matrix, precision_score, recall_score, f1_score"
   ]
  },
  {
   "cell_type": "code",
   "execution_count": 56,
   "metadata": {
    "ExecuteTime": {
     "end_time": "2019-08-11T10:30:20.427881Z",
     "start_time": "2019-08-11T10:30:20.422842Z"
    }
   },
   "outputs": [],
   "source": [
    "def get_P_R_value(y_test, y_test_pred_sgd):\n",
    "    obj = confusion_matrix(y_test, y_test_pred_sgd)\n",
    "    print('confusion_matrix\\n', obj)\n",
    "    score = (obj[0,0] + obj[1,1])/obj.sum()\n",
    "    print(f'score, {score:0.4f}')\n",
    "    P = precision_score(y_test, y_test_pred_sgd)\n",
    "    R = recall_score(y_test, y_test_pred_sgd)\n",
    "    F1 = f1_score(y_test, y_test_pred_sgd)\n",
    "    print(f'precision {P:0.4f}, recall {R:0.4f}, f1_score {F1:0.4f}')"
   ]
  },
  {
   "cell_type": "code",
   "execution_count": 57,
   "metadata": {
    "ExecuteTime": {
     "end_time": "2019-08-11T10:30:32.324426Z",
     "start_time": "2019-08-11T10:30:32.310587Z"
    }
   },
   "outputs": [
    {
     "name": "stdout",
     "output_type": "stream",
     "text": [
      "confusion_matrix\n",
      " [[989  91]\n",
      " [198 148]]\n",
      "score, 0.7973\n",
      "precision 0.6192, recall 0.4277, f1_score 0.5060\n"
     ]
    }
   ],
   "source": [
    "# xgboost\n",
    "get_P_R_value(y_test, ans)"
   ]
  },
  {
   "cell_type": "code",
   "execution_count": 59,
   "metadata": {
    "ExecuteTime": {
     "end_time": "2019-08-11T10:31:10.009110Z",
     "start_time": "2019-08-11T10:31:09.997668Z"
    }
   },
   "outputs": [
    {
     "name": "stdout",
     "output_type": "stream",
     "text": [
      "confusion_matrix\n",
      " [[1035   45]\n",
      " [ 264   82]]\n",
      "score, 0.7833\n",
      "precision 0.6457, recall 0.2370, f1_score 0.3467\n"
     ]
    }
   ],
   "source": [
    "# lr\n",
    "get_P_R_value(y_test, clf_lr.predict(x_test))"
   ]
  },
  {
   "cell_type": "code",
   "execution_count": 60,
   "metadata": {
    "ExecuteTime": {
     "end_time": "2019-08-11T10:31:28.873901Z",
     "start_time": "2019-08-11T10:31:28.643808Z"
    }
   },
   "outputs": [
    {
     "name": "stdout",
     "output_type": "stream",
     "text": [
      "confusion_matrix\n",
      " [[1080    0]\n",
      " [ 346    0]]\n",
      "score, 0.7574\n",
      "precision 0.0000, recall 0.0000, f1_score 0.0000\n"
     ]
    },
    {
     "name": "stderr",
     "output_type": "stream",
     "text": [
      "/Users/lmingzhi/miniconda3/lib/python3.7/site-packages/sklearn/metrics/classification.py:1143: UndefinedMetricWarning: Precision is ill-defined and being set to 0.0 due to no predicted samples.\n",
      "  'precision', 'predicted', average, warn_for)\n",
      "/Users/lmingzhi/miniconda3/lib/python3.7/site-packages/sklearn/metrics/classification.py:1143: UndefinedMetricWarning: F-score is ill-defined and being set to 0.0 due to no predicted samples.\n",
      "  'precision', 'predicted', average, warn_for)\n"
     ]
    }
   ],
   "source": [
    "# svm\n",
    "get_P_R_value(y_test, clf_svm.predict(x_test))"
   ]
  },
  {
   "cell_type": "code",
   "execution_count": 61,
   "metadata": {
    "ExecuteTime": {
     "end_time": "2019-08-11T10:31:42.662267Z",
     "start_time": "2019-08-11T10:31:42.652509Z"
    }
   },
   "outputs": [
    {
     "name": "stdout",
     "output_type": "stream",
     "text": [
      "confusion_matrix\n",
      " [[859 221]\n",
      " [200 146]]\n",
      "score, 0.7048\n",
      "precision 0.3978, recall 0.4220, f1_score 0.4095\n"
     ]
    }
   ],
   "source": [
    "# 决策树\n",
    "get_P_R_value(y_test, clf_dt.predict(x_test))"
   ]
  },
  {
   "cell_type": "code",
   "execution_count": 62,
   "metadata": {
    "ExecuteTime": {
     "end_time": "2019-08-11T10:31:52.784738Z",
     "start_time": "2019-08-11T10:31:52.667872Z"
    }
   },
   "outputs": [
    {
     "name": "stdout",
     "output_type": "stream",
     "text": [
      "confusion_matrix\n",
      " [[1018   62]\n",
      " [ 245  101]]\n",
      "score, 0.7847\n",
      "precision 0.6196, recall 0.2919, f1_score 0.3969\n"
     ]
    }
   ],
   "source": [
    "# 随机森林\n",
    "get_P_R_value(y_test, clf_rf.predict(x_test))"
   ]
  },
  {
   "cell_type": "code",
   "execution_count": null,
   "metadata": {},
   "outputs": [],
   "source": []
  },
  {
   "cell_type": "markdown",
   "metadata": {},
   "source": [
    "# 深入随机森林评分"
   ]
  },
  {
   "cell_type": "code",
   "execution_count": 63,
   "metadata": {
    "ExecuteTime": {
     "end_time": "2019-08-11T10:35:10.719370Z",
     "start_time": "2019-08-11T10:35:10.599245Z"
    }
   },
   "outputs": [
    {
     "name": "stdout",
     "output_type": "stream",
     "text": [
      "confusion_matrix\n",
      " [[1018   62]\n",
      " [ 245  101]]\n",
      "score, 0.7847\n",
      "precision 0.6196, recall 0.2919, f1_score 0.3969\n"
     ]
    }
   ],
   "source": [
    "get_P_R_value(y_test, clf_rf.predict(x_test))"
   ]
  },
  {
   "cell_type": "markdown",
   "metadata": {
    "ExecuteTime": {
     "end_time": "2019-08-11T10:35:51.867531Z",
     "start_time": "2019-08-11T10:35:51.858962Z"
    }
   },
   "source": [
    "P-R \n",
    "\n",
    "precision_recall_curve"
   ]
  },
  {
   "cell_type": "code",
   "execution_count": 70,
   "metadata": {
    "ExecuteTime": {
     "end_time": "2019-08-11T10:38:51.731879Z",
     "start_time": "2019-08-11T10:38:51.232578Z"
    }
   },
   "outputs": [],
   "source": [
    "y_probas_forest = cross_val_predict(clf_rf, x_train, y_train, cv = 3, method='predict_proba')\n",
    "y_scores_forest = y_probas_forest[:,1]"
   ]
  },
  {
   "cell_type": "code",
   "execution_count": 71,
   "metadata": {
    "ExecuteTime": {
     "end_time": "2019-08-11T10:39:00.266561Z",
     "start_time": "2019-08-11T10:38:59.958945Z"
    }
   },
   "outputs": [
    {
     "data": {
      "text/plain": [
       "<matplotlib.axes._subplots.AxesSubplot at 0x1a18181550>"
      ]
     },
     "execution_count": 71,
     "metadata": {},
     "output_type": "execute_result"
    },
    {
     "data": {
      "image/png": "[encoded data removed]",
      "text/plain": [
       "<Figure size 432x288 with 1 Axes>"
      ]
     },
     "metadata": {
      "needs_background": "light"
     },
     "output_type": "display_data"
    }
   ],
   "source": [
    "pd.Series(y_scores_forest).hist(bins=50)"
   ]
  },
  {
   "cell_type": "code",
   "execution_count": 73,
   "metadata": {
    "ExecuteTime": {
     "end_time": "2019-08-11T10:39:27.898625Z",
     "start_time": "2019-08-11T10:39:27.894133Z"
    }
   },
   "outputs": [],
   "source": [
    "from sklearn.metrics import precision_recall_curve\n",
    "precisions_forest, recalls_forest, thresholds_forest =  precision_recall_curve(y_train, y_scores_forest)"
   ]
  },
  {
   "cell_type": "code",
   "execution_count": 75,
   "metadata": {
    "ExecuteTime": {
     "end_time": "2019-08-11T10:39:48.881405Z",
     "start_time": "2019-08-11T10:39:48.877200Z"
    }
   },
   "outputs": [],
   "source": [
    "def plot_precision_recall_vs_threshold(precisions, recalls, thresholds):\n",
    "    plt.plot(thresholds, precisions[:-1], 'b--', label='Precision')\n",
    "    plt.plot(thresholds, recalls[:-1], 'g-', label='Recall')\n",
    "    plt.xlabel('Threshold')\n",
    "    plt.legend(loc='upper left')\n",
    "    plt.ylim([0,1])"
   ]
  },
  {
   "cell_type": "code",
   "execution_count": 76,
   "metadata": {
    "ExecuteTime": {
     "end_time": "2019-08-11T10:39:59.903519Z",
     "start_time": "2019-08-11T10:39:59.733073Z"
    }
   },
   "outputs": [
    {
     "data": {
      "image/png": "[encoded data removed]",
      "text/plain": [
       "<Figure size 432x288 with 1 Axes>"
      ]
     },
     "metadata": {
      "needs_background": "light"
     },
     "output_type": "display_data"
    }
   ],
   "source": [
    "plot_precision_recall_vs_threshold(precisions_forest, recalls_forest, thresholds_forest)\n",
    "plt.title('random forest')\n",
    "plt.show()"
   ]
  },
  {
   "cell_type": "code",
   "execution_count": 77,
   "metadata": {
    "ExecuteTime": {
     "end_time": "2019-08-11T10:40:19.340166Z",
     "start_time": "2019-08-11T10:40:19.180246Z"
    }
   },
   "outputs": [
    {
     "data": {
      "image/png": "[encoded data removed]",
      "text/plain": [
       "<Figure size 432x288 with 1 Axes>"
      ]
     },
     "metadata": {
      "needs_background": "light"
     },
     "output_type": "display_data"
    }
   ],
   "source": [
    "plt.plot(recalls_forest, precisions_forest, 'b-', label = 'forest')\n",
    "plt.plot([0,1], [0,1], 'k--')\n",
    "plt.xlabel('recall')\n",
    "plt.ylabel('precision')\n",
    "plt.axis([0,1,0,1])\n",
    "plt.legend(loc='upper right')\n",
    "plt.show()"
   ]
  },
  {
   "cell_type": "code",
   "execution_count": null,
   "metadata": {},
   "outputs": [],
   "source": []
  }
 ],
 "metadata": {
  "kernelspec": {
   "display_name": "Python 3",
   "language": "python",
   "name": "python3"
  },
  "language_info": {
   "codemirror_mode": {
    "name": "ipython",
    "version": 3
   },
   "file_extension": ".py",
   "mimetype": "text/x-python",
   "name": "python",
   "nbconvert_exporter": "python",
   "pygments_lexer": "ipython3",
   "version": "3.7.3"
  },
  "toc": {
   "base_numbering": 1,
   "nav_menu": {},
   "number_sections": true,
   "sideBar": true,
   "skip_h1_title": false,
   "title_cell": "Table of Contents",
   "title_sidebar": "Contents",
   "toc_cell": true,
   "toc_position": {
    "height": "319.938px",
    "left": "29px",
    "top": "110px",
    "width": "211.989px"
   },
   "toc_section_display": true,
   "toc_window_display": true
  }
 },
 "nbformat": 4,
 "nbformat_minor": 2
}
