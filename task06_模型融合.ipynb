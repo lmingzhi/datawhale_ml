{
 "cells": [
  {
   "cell_type": "markdown",
   "metadata": {
    "toc": true
   },
   "source": [
    "<h1>Table of Contents<span class=\"tocSkip\"></span></h1>\n",
    "<div class=\"toc\"><ul class=\"toc-item\"><li><ul class=\"toc-item\"><li><span><a href=\"#import\" data-toc-modified-id=\"import-0.1\"><span class=\"toc-item-num\">0.1&nbsp;&nbsp;</span>import</a></span></li></ul></li><li><span><a href=\"#读取数据集\" data-toc-modified-id=\"读取数据集-1\"><span class=\"toc-item-num\">1&nbsp;&nbsp;</span>读取数据集</a></span></li><li><span><a href=\"#标准化处理\" data-toc-modified-id=\"标准化处理-2\"><span class=\"toc-item-num\">2&nbsp;&nbsp;</span>标准化处理</a></span></li><li><span><a href=\"#模型\" data-toc-modified-id=\"模型-3\"><span class=\"toc-item-num\">3&nbsp;&nbsp;</span>模型</a></span><ul class=\"toc-item\"><li><span><a href=\"#根据task5获取3个最优模型\" data-toc-modified-id=\"根据task5获取3个最优模型-3.1\"><span class=\"toc-item-num\">3.1&nbsp;&nbsp;</span>根据task5获取3个最优模型</a></span></li><li><span><a href=\"#投票分类器\" data-toc-modified-id=\"投票分类器-3.2\"><span class=\"toc-item-num\">3.2&nbsp;&nbsp;</span>投票分类器</a></span><ul class=\"toc-item\"><li><span><a href=\"#hard\" data-toc-modified-id=\"hard-3.2.1\"><span class=\"toc-item-num\">3.2.1&nbsp;&nbsp;</span>hard</a></span></li><li><span><a href=\"#soft\" data-toc-modified-id=\"soft-3.2.2\"><span class=\"toc-item-num\">3.2.2&nbsp;&nbsp;</span>soft</a></span></li></ul></li></ul></li><li><span><a href=\"#堆叠法-stacking\" data-toc-modified-id=\"堆叠法-stacking-4\"><span class=\"toc-item-num\">4&nbsp;&nbsp;</span>堆叠法 stacking</a></span></li><li><span><a href=\"#评分--混淆矩阵-&amp;-precision_score-&amp;-recall_score\" data-toc-modified-id=\"评分--混淆矩阵-&amp;-precision_score-&amp;-recall_score-5\"><span class=\"toc-item-num\">5&nbsp;&nbsp;</span>评分- 混淆矩阵 &amp; precision_score &amp; recall_score</a></span></li><li><span><a href=\"#评分表格\" data-toc-modified-id=\"评分表格-6\"><span class=\"toc-item-num\">6&nbsp;&nbsp;</span>评分表格</a></span></li><li><span><a href=\"#结果汇总\" data-toc-modified-id=\"结果汇总-7\"><span class=\"toc-item-num\">7&nbsp;&nbsp;</span>结果汇总</a></span><ul class=\"toc-item\"><li><span><a href=\"#计算评分\" data-toc-modified-id=\"计算评分-7.1\"><span class=\"toc-item-num\">7.1&nbsp;&nbsp;</span>计算评分</a></span></li><li><span><a href=\"#输出\" data-toc-modified-id=\"输出-7.2\"><span class=\"toc-item-num\">7.2&nbsp;&nbsp;</span>输出</a></span></li></ul></li><li><span><a href=\"#目前最优模型\" data-toc-modified-id=\"目前最优模型-8\"><span class=\"toc-item-num\">8&nbsp;&nbsp;</span>目前最优模型</a></span></li></ul></div>"
   ]
  },
  {
   "cell_type": "markdown",
   "metadata": {},
   "source": [
    "模型融合方式任意，并结合Task5给出你的最优结果。\n",
    "时间：2天\n",
    "\n",
    "例如Stacking融合，用你目前评分最高的模型作为基准模型，和其他模型进行stacking融合，得到最终模型及评分结果。"
   ]
  },
  {
   "cell_type": "markdown",
   "metadata": {},
   "source": [
    "## import"
   ]
  },
  {
   "cell_type": "code",
   "execution_count": 1,
   "metadata": {
    "ExecuteTime": {
     "end_time": "2019-08-19T08:05:59.680111Z",
     "start_time": "2019-08-19T08:05:59.406989Z"
    }
   },
   "outputs": [],
   "source": [
    "import json, io, re, os, time\n",
    "from datetime import datetime, timedelta\n",
    "from pandas.io.json import json_normalize\n",
    "import pandas as pd\n",
    "import numpy as np"
   ]
  },
  {
   "cell_type": "code",
   "execution_count": 2,
   "metadata": {
    "ExecuteTime": {
     "end_time": "2019-08-19T08:06:00.294926Z",
     "start_time": "2019-08-19T08:05:59.878227Z"
    }
   },
   "outputs": [],
   "source": [
    "import matplotlib.pyplot as plt\n",
    "import seaborn\n",
    "\n",
    "from collections import defaultdict, Counter\n",
    "%matplotlib inline"
   ]
  },
  {
   "cell_type": "code",
   "execution_count": 3,
   "metadata": {
    "ExecuteTime": {
     "end_time": "2019-08-19T08:06:00.372913Z",
     "start_time": "2019-08-19T08:06:00.370332Z"
    }
   },
   "outputs": [],
   "source": [
    "# 设置显示行数\n",
    "pd.set_option('display.max_rows', 100)\n",
    "pd.set_option('display.max_columns', 100)"
   ]
  },
  {
   "cell_type": "code",
   "execution_count": 5,
   "metadata": {
    "ExecuteTime": {
     "end_time": "2019-08-19T08:06:04.463499Z",
     "start_time": "2019-08-19T08:06:04.460690Z"
    }
   },
   "outputs": [],
   "source": [
    "import numpy as np\n",
    "import pandas as pd\n",
    "# import pandas_profiling\n",
    "\n",
    "# df.profile_report(style={'full_width':True})"
   ]
  },
  {
   "cell_type": "markdown",
   "metadata": {},
   "source": [
    "# 读取数据集\n",
    "\n",
    "经过前续处理缺失值后和特征选择后"
   ]
  },
  {
   "cell_type": "code",
   "execution_count": 6,
   "metadata": {
    "ExecuteTime": {
     "end_time": "2019-08-19T08:06:08.767647Z",
     "start_time": "2019-08-19T08:06:08.764507Z"
    }
   },
   "outputs": [],
   "source": [
    "# train_set.profile_report(style={'full_width':True})\n",
    "\n",
    "# consfin_avg_limit has 103 (3.1%) zeros\tZeros\n",
    "# consfin_credit_limit is highly correlated with consfin_avg_limit (ρ = 0.9054651558)\tRejected\n",
    "# consfin_max_limit has 103 (3.1%) zeros\tZeros\n",
    "# consume_mini_time_last_1_month has 1457 (43.8%) zeros\tZeros\n",
    "# consume_top_time_last_1_month has 712 (21.4%) zeros\tZeros\n",
    "# first_transaction_time_diff_day is highly correlated with first_transaction_day (ρ = 1)\tRejected\n",
    "# history_fail_fee has 202 (6.1%) zeros\tZeros\n",
    "# latest_one_month_fail has 2277 (68.5%) zeros\tZeros\n",
    "# latest_one_month_suc has 1810 (54.4%) zeros\tZeros\n",
    "# latest_query_day has 36 (1.1%) zeros\tZeros\n",
    "# latest_query_time_diff_day is highly correlated with latest_query_day (ρ = 0.9999831434)\tRejected\n",
    "# latest_six_month_loan has 52 (1.6%) zeros\tZeros\n",
    "# loans_avg_limit has 65 (2.0%) zeros\tZeros\n",
    "# loans_count is highly correlated with history_suc_fee (ρ = 0.9140065658)\tRejected\n",
    "# loans_credit_limit has 65 (2.0%) zeros\tZeros\n",
    "# loans_latest_time_diff_day is highly correlated with loans_latest_day (ρ = 0.9999793714)\tRejected\n",
    "# loans_max_limit has 65 (2.0%) zeros\tZeros\n",
    "# loans_overdue_count has 1098 (33.0%) zeros\tZeros\n",
    "# loans_score is highly correlated with apply_score (ρ = 0.9654417553)\tRejected\n",
    "# loans_settle_count is highly correlated with loans_count (ρ = 0.9762643316)\tRejected\n",
    "# max_cumulative_consume_later_1_month is highly skewed (γ1 = 26.38045116)\tSkewed\n",
    "# max_cumulative_consume_later_1_month has 346 (10.4%) zeros\tZeros\n",
    "# pawns_auctions_trusts_consume_last_1_month has 1617 (48.6%) zeros\tZeros\n",
    "# pawns_auctions_trusts_consume_last_6_month has 295 (8.9%) zeros\tZeros\n",
    "# repayment_capability is highly skewed (γ1 = 26.90108787)\tSkewed\n",
    "# take_amount_in_later_12_month_highest has 1092 (32.8%) zeros\tZeros\n",
    "# trans_amount_3_month is highly skewed (γ1 = 42.33606162)\tSkewed\n",
    "# trans_amount_3_month has 66 (2.0%) zeros\tZeros\n",
    "# trans_amount_increase_rate_lately is highly skewed (γ1 = 56.87152308)\tSkewed\n",
    "# trans_fail_top_count_enum_last_1_month has 966 (29.0%) zeros\tZeros\n",
    "# trans_fail_top_count_enum_last_6_month has 69 (2.1%) zeros\tZeros\n",
    "# trans_top_time_last_1_month is highly correlated with consume_top_time_last_1_month (ρ = 0.9222042013)\tRejected\n",
    "# trans_top_time_last_6_month is highly correlated with consume_top_time_last_6_month (ρ = 0.926644283)\tRejected\n"
   ]
  },
  {
   "cell_type": "code",
   "execution_count": 7,
   "metadata": {
    "ExecuteTime": {
     "end_time": "2019-08-19T08:06:09.022497Z",
     "start_time": "2019-08-19T08:06:09.018589Z"
    }
   },
   "outputs": [],
   "source": [
    "cols_left = ['trans_activity_month', 'trans_activity_day', 'rank_trad_1_month', \n",
    "             'top_trans_count_last_1_month', 'avg_price_top_last_12_valid_month', \n",
    "             'first_transaction_time_diff_day', 'latest_query_time_diff_day', \n",
    "             'loans_latest_time_diff_day', 'take_amount_in_later_12_month_highest', \n",
    "             'trans_amount_increase_rate_lately', 'transd_mcc', 'trans_days_interval_filter',\n",
    "             'trans_days_interval', 'repayment_capability', 'number_of_trans_from_2011', \n",
    "             'historical_trans_amount', 'historical_trans_day', 'trans_amount_3_month', \n",
    "             'abs', 'avg_price_last_12_month', 'trans_top_time_last_1_month', 'trans_top_time_last_6_month', \n",
    "             'consume_top_time_last_1_month', 'consume_top_time_last_6_month', \n",
    "             'trans_fail_top_count_enum_last_1_month', 'trans_fail_top_count_enum_last_6_month',\n",
    "             'trans_fail_top_count_enum_last_12_month', 'consume_mini_time_last_1_month', \n",
    "             'max_cumulative_consume_later_1_month', 'pawns_auctions_trusts_consume_last_1_month', \n",
    "             'pawns_auctions_trusts_consume_last_6_month', 'first_transaction_day', 'trans_day_last_12_month',\n",
    "             'apply_score', 'apply_credibility', 'query_sum_count', 'loans_score', 'loans_count', \n",
    "             'loans_settle_count', 'loans_overdue_count', 'latest_six_month_loan', 'history_suc_fee', \n",
    "             'history_fail_fee', 'latest_one_month_suc', 'latest_one_month_fail', 'loans_long_time', \n",
    "             'loans_credit_limit', 'loans_max_limit', 'loans_avg_limit', 'consfin_credit_limit', \n",
    "             'consfin_max_limit',\n",
    "             'consfin_avg_limit', 'latest_query_day', 'loans_latest_day',\n",
    "            'status']"
   ]
  },
  {
   "cell_type": "code",
   "execution_count": 8,
   "metadata": {
    "ExecuteTime": {
     "end_time": "2019-08-19T08:06:09.264272Z",
     "start_time": "2019-08-19T08:06:09.261571Z"
    }
   },
   "outputs": [],
   "source": [
    "for col in ['consfin_credit_limit',\n",
    " 'first_transaction_time_diff_day',\n",
    " 'latest_query_time_diff_day',\n",
    " 'loans_count',\n",
    " 'loans_latest_time_diff_day',\n",
    " 'loans_score',\n",
    " 'loans_settle_count',\n",
    " 'trans_top_time_last_1_month',\n",
    " 'trans_top_time_last_6_month']:\n",
    "    cols_left.remove(col)"
   ]
  },
  {
   "cell_type": "code",
   "execution_count": 9,
   "metadata": {
    "ExecuteTime": {
     "end_time": "2019-08-19T08:06:09.582343Z",
     "start_time": "2019-08-19T08:06:09.578155Z"
    }
   },
   "outputs": [
    {
     "data": {
      "text/plain": [
       "46"
      ]
     },
     "execution_count": 9,
     "metadata": {},
     "output_type": "execute_result"
    }
   ],
   "source": [
    "len(cols_left)"
   ]
  },
  {
   "cell_type": "code",
   "execution_count": 10,
   "metadata": {
    "ExecuteTime": {
     "end_time": "2019-08-19T08:06:10.992961Z",
     "start_time": "2019-08-19T08:06:10.946454Z"
    }
   },
   "outputs": [],
   "source": [
    "train_set = pd.read_csv('train_set.csv', usecols = cols_left )\n",
    "test_set = pd.read_csv('test_set.csv', usecols = cols_left)"
   ]
  },
  {
   "cell_type": "code",
   "execution_count": 11,
   "metadata": {
    "ExecuteTime": {
     "end_time": "2019-08-19T08:06:11.334194Z",
     "start_time": "2019-08-19T08:06:11.332272Z"
    }
   },
   "outputs": [],
   "source": [
    "# profile = x_train.profile_report()\n",
    "# rejected_variables = profile.get_rejected_variables(threshold=0.9)"
   ]
  },
  {
   "cell_type": "code",
   "execution_count": 12,
   "metadata": {
    "ExecuteTime": {
     "end_time": "2019-08-19T08:06:11.639313Z",
     "start_time": "2019-08-19T08:06:11.596794Z"
    }
   },
   "outputs": [
    {
     "data": {
      "text/html": [
       "<div>\n",
       "<style scoped>\n",
       "    .dataframe tbody tr th:only-of-type {\n",
       "        vertical-align: middle;\n",
       "    }\n",
       "\n",
       "    .dataframe tbody tr th {\n",
       "        vertical-align: top;\n",
       "    }\n",
       "\n",
       "    .dataframe thead th {\n",
       "        text-align: right;\n",
       "    }\n",
       "</style>\n",
       "<table border=\"1\" class=\"dataframe\">\n",
       "  <thead>\n",
       "    <tr style=\"text-align: right;\">\n",
       "      <th></th>\n",
       "      <th>trans_activity_month</th>\n",
       "      <th>trans_activity_day</th>\n",
       "      <th>rank_trad_1_month</th>\n",
       "      <th>top_trans_count_last_1_month</th>\n",
       "      <th>avg_price_top_last_12_valid_month</th>\n",
       "      <th>take_amount_in_later_12_month_highest</th>\n",
       "      <th>trans_amount_increase_rate_lately</th>\n",
       "      <th>transd_mcc</th>\n",
       "      <th>trans_days_interval_filter</th>\n",
       "      <th>trans_days_interval</th>\n",
       "      <th>repayment_capability</th>\n",
       "      <th>number_of_trans_from_2011</th>\n",
       "      <th>historical_trans_amount</th>\n",
       "      <th>historical_trans_day</th>\n",
       "      <th>trans_amount_3_month</th>\n",
       "      <th>abs</th>\n",
       "      <th>avg_price_last_12_month</th>\n",
       "      <th>consume_top_time_last_1_month</th>\n",
       "      <th>consume_top_time_last_6_month</th>\n",
       "      <th>trans_fail_top_count_enum_last_1_month</th>\n",
       "      <th>trans_fail_top_count_enum_last_6_month</th>\n",
       "      <th>trans_fail_top_count_enum_last_12_month</th>\n",
       "      <th>consume_mini_time_last_1_month</th>\n",
       "      <th>max_cumulative_consume_later_1_month</th>\n",
       "      <th>pawns_auctions_trusts_consume_last_1_month</th>\n",
       "      <th>pawns_auctions_trusts_consume_last_6_month</th>\n",
       "      <th>first_transaction_day</th>\n",
       "      <th>trans_day_last_12_month</th>\n",
       "      <th>apply_score</th>\n",
       "      <th>apply_credibility</th>\n",
       "      <th>query_sum_count</th>\n",
       "      <th>loans_overdue_count</th>\n",
       "      <th>latest_six_month_loan</th>\n",
       "      <th>history_suc_fee</th>\n",
       "      <th>history_fail_fee</th>\n",
       "      <th>latest_one_month_suc</th>\n",
       "      <th>latest_one_month_fail</th>\n",
       "      <th>loans_long_time</th>\n",
       "      <th>loans_credit_limit</th>\n",
       "      <th>loans_max_limit</th>\n",
       "      <th>loans_avg_limit</th>\n",
       "      <th>consfin_max_limit</th>\n",
       "      <th>consfin_avg_limit</th>\n",
       "      <th>latest_query_day</th>\n",
       "      <th>loans_latest_day</th>\n",
       "      <th>status</th>\n",
       "    </tr>\n",
       "  </thead>\n",
       "  <tbody>\n",
       "    <tr>\n",
       "      <th>0</th>\n",
       "      <td>0.83</td>\n",
       "      <td>0.136</td>\n",
       "      <td>1.00</td>\n",
       "      <td>1.00</td>\n",
       "      <td>0.45</td>\n",
       "      <td>300</td>\n",
       "      <td>0.99</td>\n",
       "      <td>13.0</td>\n",
       "      <td>127.0</td>\n",
       "      <td>95.0</td>\n",
       "      <td>10480</td>\n",
       "      <td>10.0</td>\n",
       "      <td>33830</td>\n",
       "      <td>41.0</td>\n",
       "      <td>4260</td>\n",
       "      <td>830</td>\n",
       "      <td>1300</td>\n",
       "      <td>0.0</td>\n",
       "      <td>15.0</td>\n",
       "      <td>3.0</td>\n",
       "      <td>4.0</td>\n",
       "      <td>4.0</td>\n",
       "      <td>0.0</td>\n",
       "      <td>0</td>\n",
       "      <td>0</td>\n",
       "      <td>6160</td>\n",
       "      <td>434.0</td>\n",
       "      <td>93.0</td>\n",
       "      <td>530.0</td>\n",
       "      <td>78.0</td>\n",
       "      <td>12.0</td>\n",
       "      <td>2.0</td>\n",
       "      <td>3.0</td>\n",
       "      <td>16.0</td>\n",
       "      <td>10.0</td>\n",
       "      <td>0.0</td>\n",
       "      <td>0.0</td>\n",
       "      <td>302.0</td>\n",
       "      <td>2400.0</td>\n",
       "      <td>2800.0</td>\n",
       "      <td>2400.0</td>\n",
       "      <td>0.0</td>\n",
       "      <td>0.0</td>\n",
       "      <td>12.0</td>\n",
       "      <td>164.0</td>\n",
       "      <td>0</td>\n",
       "    </tr>\n",
       "    <tr>\n",
       "      <th>1</th>\n",
       "      <td>1.00</td>\n",
       "      <td>0.438</td>\n",
       "      <td>0.30</td>\n",
       "      <td>0.10</td>\n",
       "      <td>0.55</td>\n",
       "      <td>1500</td>\n",
       "      <td>0.72</td>\n",
       "      <td>14.0</td>\n",
       "      <td>6.0</td>\n",
       "      <td>6.0</td>\n",
       "      <td>15790</td>\n",
       "      <td>6.0</td>\n",
       "      <td>100060</td>\n",
       "      <td>79.0</td>\n",
       "      <td>28580</td>\n",
       "      <td>10550</td>\n",
       "      <td>1040</td>\n",
       "      <td>9.0</td>\n",
       "      <td>9.0</td>\n",
       "      <td>2.0</td>\n",
       "      <td>3.0</td>\n",
       "      <td>3.0</td>\n",
       "      <td>267070.0</td>\n",
       "      <td>2800</td>\n",
       "      <td>0</td>\n",
       "      <td>4350</td>\n",
       "      <td>238.0</td>\n",
       "      <td>82.0</td>\n",
       "      <td>545.0</td>\n",
       "      <td>79.0</td>\n",
       "      <td>22.0</td>\n",
       "      <td>2.0</td>\n",
       "      <td>27.0</td>\n",
       "      <td>62.0</td>\n",
       "      <td>19.0</td>\n",
       "      <td>4.0</td>\n",
       "      <td>0.0</td>\n",
       "      <td>351.0</td>\n",
       "      <td>2100.0</td>\n",
       "      <td>4000.0</td>\n",
       "      <td>1992.0</td>\n",
       "      <td>18000.0</td>\n",
       "      <td>7600.0</td>\n",
       "      <td>2.0</td>\n",
       "      <td>2.0</td>\n",
       "      <td>0</td>\n",
       "    </tr>\n",
       "    <tr>\n",
       "      <th>2</th>\n",
       "      <td>0.83</td>\n",
       "      <td>0.486</td>\n",
       "      <td>0.25</td>\n",
       "      <td>0.05</td>\n",
       "      <td>0.50</td>\n",
       "      <td>500</td>\n",
       "      <td>0.98</td>\n",
       "      <td>22.0</td>\n",
       "      <td>23.0</td>\n",
       "      <td>15.0</td>\n",
       "      <td>14050</td>\n",
       "      <td>70.0</td>\n",
       "      <td>302720</td>\n",
       "      <td>359.0</td>\n",
       "      <td>63600</td>\n",
       "      <td>650</td>\n",
       "      <td>1140</td>\n",
       "      <td>10.0</td>\n",
       "      <td>15.0</td>\n",
       "      <td>2.0</td>\n",
       "      <td>10.0</td>\n",
       "      <td>10.0</td>\n",
       "      <td>852.0</td>\n",
       "      <td>2390</td>\n",
       "      <td>1160</td>\n",
       "      <td>52310</td>\n",
       "      <td>2631.0</td>\n",
       "      <td>82.0</td>\n",
       "      <td>524.0</td>\n",
       "      <td>80.0</td>\n",
       "      <td>24.0</td>\n",
       "      <td>9.0</td>\n",
       "      <td>14.0</td>\n",
       "      <td>64.0</td>\n",
       "      <td>42.0</td>\n",
       "      <td>1.0</td>\n",
       "      <td>0.0</td>\n",
       "      <td>354.0</td>\n",
       "      <td>2100.0</td>\n",
       "      <td>3700.0</td>\n",
       "      <td>1725.0</td>\n",
       "      <td>12000.0</td>\n",
       "      <td>8614.0</td>\n",
       "      <td>6.0</td>\n",
       "      <td>67.0</td>\n",
       "      <td>0</td>\n",
       "    </tr>\n",
       "    <tr>\n",
       "      <th>3</th>\n",
       "      <td>0.68</td>\n",
       "      <td>0.555</td>\n",
       "      <td>0.20</td>\n",
       "      <td>0.05</td>\n",
       "      <td>0.50</td>\n",
       "      <td>0</td>\n",
       "      <td>0.82</td>\n",
       "      <td>18.0</td>\n",
       "      <td>7.0</td>\n",
       "      <td>7.0</td>\n",
       "      <td>11880</td>\n",
       "      <td>26.0</td>\n",
       "      <td>367680</td>\n",
       "      <td>267.0</td>\n",
       "      <td>64150</td>\n",
       "      <td>6260</td>\n",
       "      <td>1090</td>\n",
       "      <td>7.0</td>\n",
       "      <td>7.0</td>\n",
       "      <td>2.0</td>\n",
       "      <td>2.0</td>\n",
       "      <td>5.0</td>\n",
       "      <td>501194.0</td>\n",
       "      <td>2030</td>\n",
       "      <td>1230</td>\n",
       "      <td>43930</td>\n",
       "      <td>1229.0</td>\n",
       "      <td>82.0</td>\n",
       "      <td>540.0</td>\n",
       "      <td>78.0</td>\n",
       "      <td>7.0</td>\n",
       "      <td>1.0</td>\n",
       "      <td>6.0</td>\n",
       "      <td>47.0</td>\n",
       "      <td>3.0</td>\n",
       "      <td>0.0</td>\n",
       "      <td>0.0</td>\n",
       "      <td>348.0</td>\n",
       "      <td>1600.0</td>\n",
       "      <td>2300.0</td>\n",
       "      <td>1362.0</td>\n",
       "      <td>13200.0</td>\n",
       "      <td>8800.0</td>\n",
       "      <td>25.0</td>\n",
       "      <td>110.0</td>\n",
       "      <td>0</td>\n",
       "    </tr>\n",
       "    <tr>\n",
       "      <th>4</th>\n",
       "      <td>0.88</td>\n",
       "      <td>0.136</td>\n",
       "      <td>1.00</td>\n",
       "      <td>1.00</td>\n",
       "      <td>0.60</td>\n",
       "      <td>500</td>\n",
       "      <td>4.24</td>\n",
       "      <td>15.0</td>\n",
       "      <td>81.0</td>\n",
       "      <td>36.0</td>\n",
       "      <td>11010</td>\n",
       "      <td>21.0</td>\n",
       "      <td>30610</td>\n",
       "      <td>71.0</td>\n",
       "      <td>3000</td>\n",
       "      <td>550</td>\n",
       "      <td>570</td>\n",
       "      <td>0.0</td>\n",
       "      <td>22.0</td>\n",
       "      <td>8.0</td>\n",
       "      <td>8.0</td>\n",
       "      <td>8.0</td>\n",
       "      <td>0.0</td>\n",
       "      <td>0</td>\n",
       "      <td>0</td>\n",
       "      <td>8270</td>\n",
       "      <td>871.0</td>\n",
       "      <td>141.0</td>\n",
       "      <td>533.0</td>\n",
       "      <td>79.0</td>\n",
       "      <td>8.0</td>\n",
       "      <td>5.0</td>\n",
       "      <td>6.0</td>\n",
       "      <td>5.0</td>\n",
       "      <td>130.0</td>\n",
       "      <td>0.0</td>\n",
       "      <td>12.0</td>\n",
       "      <td>318.0</td>\n",
       "      <td>1200.0</td>\n",
       "      <td>1200.0</td>\n",
       "      <td>1200.0</td>\n",
       "      <td>2400.0</td>\n",
       "      <td>1466.0</td>\n",
       "      <td>23.0</td>\n",
       "      <td>91.0</td>\n",
       "      <td>1</td>\n",
       "    </tr>\n",
       "  </tbody>\n",
       "</table>\n",
       "</div>"
      ],
      "text/plain": [
       "   trans_activity_month  trans_activity_day  rank_trad_1_month  \\\n",
       "0                  0.83               0.136               1.00   \n",
       "1                  1.00               0.438               0.30   \n",
       "2                  0.83               0.486               0.25   \n",
       "3                  0.68               0.555               0.20   \n",
       "4                  0.88               0.136               1.00   \n",
       "\n",
       "   top_trans_count_last_1_month  avg_price_top_last_12_valid_month  \\\n",
       "0                          1.00                               0.45   \n",
       "1                          0.10                               0.55   \n",
       "2                          0.05                               0.50   \n",
       "3                          0.05                               0.50   \n",
       "4                          1.00                               0.60   \n",
       "\n",
       "   take_amount_in_later_12_month_highest  trans_amount_increase_rate_lately  \\\n",
       "0                                    300                               0.99   \n",
       "1                                   1500                               0.72   \n",
       "2                                    500                               0.98   \n",
       "3                                      0                               0.82   \n",
       "4                                    500                               4.24   \n",
       "\n",
       "   transd_mcc  trans_days_interval_filter  trans_days_interval  \\\n",
       "0        13.0                       127.0                 95.0   \n",
       "1        14.0                         6.0                  6.0   \n",
       "2        22.0                        23.0                 15.0   \n",
       "3        18.0                         7.0                  7.0   \n",
       "4        15.0                        81.0                 36.0   \n",
       "\n",
       "   repayment_capability  number_of_trans_from_2011  historical_trans_amount  \\\n",
       "0                 10480                       10.0                    33830   \n",
       "1                 15790                        6.0                   100060   \n",
       "2                 14050                       70.0                   302720   \n",
       "3                 11880                       26.0                   367680   \n",
       "4                 11010                       21.0                    30610   \n",
       "\n",
       "   historical_trans_day  trans_amount_3_month    abs  avg_price_last_12_month  \\\n",
       "0                  41.0                  4260    830                     1300   \n",
       "1                  79.0                 28580  10550                     1040   \n",
       "2                 359.0                 63600    650                     1140   \n",
       "3                 267.0                 64150   6260                     1090   \n",
       "4                  71.0                  3000    550                      570   \n",
       "\n",
       "   consume_top_time_last_1_month  consume_top_time_last_6_month  \\\n",
       "0                            0.0                           15.0   \n",
       "1                            9.0                            9.0   \n",
       "2                           10.0                           15.0   \n",
       "3                            7.0                            7.0   \n",
       "4                            0.0                           22.0   \n",
       "\n",
       "   trans_fail_top_count_enum_last_1_month  \\\n",
       "0                                     3.0   \n",
       "1                                     2.0   \n",
       "2                                     2.0   \n",
       "3                                     2.0   \n",
       "4                                     8.0   \n",
       "\n",
       "   trans_fail_top_count_enum_last_6_month  \\\n",
       "0                                     4.0   \n",
       "1                                     3.0   \n",
       "2                                    10.0   \n",
       "3                                     2.0   \n",
       "4                                     8.0   \n",
       "\n",
       "   trans_fail_top_count_enum_last_12_month  consume_mini_time_last_1_month  \\\n",
       "0                                      4.0                             0.0   \n",
       "1                                      3.0                        267070.0   \n",
       "2                                     10.0                           852.0   \n",
       "3                                      5.0                        501194.0   \n",
       "4                                      8.0                             0.0   \n",
       "\n",
       "   max_cumulative_consume_later_1_month  \\\n",
       "0                                     0   \n",
       "1                                  2800   \n",
       "2                                  2390   \n",
       "3                                  2030   \n",
       "4                                     0   \n",
       "\n",
       "   pawns_auctions_trusts_consume_last_1_month  \\\n",
       "0                                           0   \n",
       "1                                           0   \n",
       "2                                        1160   \n",
       "3                                        1230   \n",
       "4                                           0   \n",
       "\n",
       "   pawns_auctions_trusts_consume_last_6_month  first_transaction_day  \\\n",
       "0                                        6160                  434.0   \n",
       "1                                        4350                  238.0   \n",
       "2                                       52310                 2631.0   \n",
       "3                                       43930                 1229.0   \n",
       "4                                        8270                  871.0   \n",
       "\n",
       "   trans_day_last_12_month  apply_score  apply_credibility  query_sum_count  \\\n",
       "0                     93.0        530.0               78.0             12.0   \n",
       "1                     82.0        545.0               79.0             22.0   \n",
       "2                     82.0        524.0               80.0             24.0   \n",
       "3                     82.0        540.0               78.0              7.0   \n",
       "4                    141.0        533.0               79.0              8.0   \n",
       "\n",
       "   loans_overdue_count  latest_six_month_loan  history_suc_fee  \\\n",
       "0                  2.0                    3.0             16.0   \n",
       "1                  2.0                   27.0             62.0   \n",
       "2                  9.0                   14.0             64.0   \n",
       "3                  1.0                    6.0             47.0   \n",
       "4                  5.0                    6.0              5.0   \n",
       "\n",
       "   history_fail_fee  latest_one_month_suc  latest_one_month_fail  \\\n",
       "0              10.0                   0.0                    0.0   \n",
       "1              19.0                   4.0                    0.0   \n",
       "2              42.0                   1.0                    0.0   \n",
       "3               3.0                   0.0                    0.0   \n",
       "4             130.0                   0.0                   12.0   \n",
       "\n",
       "   loans_long_time  loans_credit_limit  loans_max_limit  loans_avg_limit  \\\n",
       "0            302.0              2400.0           2800.0           2400.0   \n",
       "1            351.0              2100.0           4000.0           1992.0   \n",
       "2            354.0              2100.0           3700.0           1725.0   \n",
       "3            348.0              1600.0           2300.0           1362.0   \n",
       "4            318.0              1200.0           1200.0           1200.0   \n",
       "\n",
       "   consfin_max_limit  consfin_avg_limit  latest_query_day  loans_latest_day  \\\n",
       "0                0.0                0.0              12.0             164.0   \n",
       "1            18000.0             7600.0               2.0               2.0   \n",
       "2            12000.0             8614.0               6.0              67.0   \n",
       "3            13200.0             8800.0              25.0             110.0   \n",
       "4             2400.0             1466.0              23.0              91.0   \n",
       "\n",
       "   status  \n",
       "0       0  \n",
       "1       0  \n",
       "2       0  \n",
       "3       0  \n",
       "4       1  "
      ]
     },
     "execution_count": 12,
     "metadata": {},
     "output_type": "execute_result"
    }
   ],
   "source": [
    "train_set.head()"
   ]
  },
  {
   "cell_type": "code",
   "execution_count": 13,
   "metadata": {
    "ExecuteTime": {
     "end_time": "2019-08-19T08:06:11.920177Z",
     "start_time": "2019-08-19T08:06:11.917173Z"
    }
   },
   "outputs": [
    {
     "data": {
      "text/plain": [
       "(3326, 46)"
      ]
     },
     "execution_count": 13,
     "metadata": {},
     "output_type": "execute_result"
    }
   ],
   "source": [
    "train_set.shape"
   ]
  },
  {
   "cell_type": "code",
   "execution_count": 14,
   "metadata": {
    "ExecuteTime": {
     "end_time": "2019-08-19T08:06:12.238857Z",
     "start_time": "2019-08-19T08:06:12.235863Z"
    }
   },
   "outputs": [
    {
     "data": {
      "text/plain": [
       "(1426, 46)"
      ]
     },
     "execution_count": 14,
     "metadata": {},
     "output_type": "execute_result"
    }
   ],
   "source": [
    "test_set.shape"
   ]
  },
  {
   "cell_type": "code",
   "execution_count": 15,
   "metadata": {
    "ExecuteTime": {
     "end_time": "2019-08-19T08:06:12.619584Z",
     "start_time": "2019-08-19T08:06:12.617692Z"
    }
   },
   "outputs": [],
   "source": [
    "# 逻辑回归\n",
    "# svm\n",
    "# 决策树\n",
    "# 随机森林\n",
    "# XGBoost"
   ]
  },
  {
   "cell_type": "code",
   "execution_count": 16,
   "metadata": {
    "ExecuteTime": {
     "end_time": "2019-08-19T08:06:12.982475Z",
     "start_time": "2019-08-19T08:06:12.980290Z"
    }
   },
   "outputs": [],
   "source": [
    "cols_0_to_1 =  ['low_volume_percent',\n",
    " 'middle_volume_percent',\n",
    " 'trans_activity_month',\n",
    " 'trans_activity_day',\n",
    " 'rank_trad_1_month',\n",
    " 'top_trans_count_last_1_month',\n",
    " 'avg_price_top_last_12_valid_month']"
   ]
  },
  {
   "cell_type": "code",
   "execution_count": 17,
   "metadata": {
    "ExecuteTime": {
     "end_time": "2019-08-19T08:06:14.309694Z",
     "start_time": "2019-08-19T08:06:14.307111Z"
    }
   },
   "outputs": [],
   "source": [
    "cols_catg = ['regional_mobility',\n",
    " 'student_feature',\n",
    " 'is_high_user',\n",
    " 'reg_preference_for_trad']"
   ]
  },
  {
   "cell_type": "code",
   "execution_count": 18,
   "metadata": {
    "ExecuteTime": {
     "end_time": "2019-08-19T08:06:14.533563Z",
     "start_time": "2019-08-19T08:06:14.529437Z"
    }
   },
   "outputs": [
    {
     "data": {
      "text/plain": [
       "Index(['trans_activity_month', 'trans_activity_day', 'rank_trad_1_month',\n",
       "       'top_trans_count_last_1_month', 'avg_price_top_last_12_valid_month',\n",
       "       'take_amount_in_later_12_month_highest',\n",
       "       'trans_amount_increase_rate_lately', 'transd_mcc',\n",
       "       'trans_days_interval_filter', 'trans_days_interval',\n",
       "       'repayment_capability', 'number_of_trans_from_2011',\n",
       "       'historical_trans_amount', 'historical_trans_day',\n",
       "       'trans_amount_3_month', 'abs', 'avg_price_last_12_month',\n",
       "       'consume_top_time_last_1_month', 'consume_top_time_last_6_month',\n",
       "       'trans_fail_top_count_enum_last_1_month',\n",
       "       'trans_fail_top_count_enum_last_6_month',\n",
       "       'trans_fail_top_count_enum_last_12_month',\n",
       "       'consume_mini_time_last_1_month',\n",
       "       'max_cumulative_consume_later_1_month',\n",
       "       'pawns_auctions_trusts_consume_last_1_month',\n",
       "       'pawns_auctions_trusts_consume_last_6_month', 'first_transaction_day',\n",
       "       'trans_day_last_12_month', 'apply_score', 'apply_credibility',\n",
       "       'query_sum_count', 'loans_overdue_count', 'latest_six_month_loan',\n",
       "       'history_suc_fee', 'history_fail_fee', 'latest_one_month_suc',\n",
       "       'latest_one_month_fail', 'loans_long_time', 'loans_credit_limit',\n",
       "       'loans_max_limit', 'loans_avg_limit', 'consfin_max_limit',\n",
       "       'consfin_avg_limit', 'latest_query_day', 'loans_latest_day', 'status'],\n",
       "      dtype='object')"
      ]
     },
     "execution_count": 18,
     "metadata": {},
     "output_type": "execute_result"
    }
   ],
   "source": [
    "train_set.columns"
   ]
  },
  {
   "cell_type": "code",
   "execution_count": null,
   "metadata": {},
   "outputs": [],
   "source": []
  },
  {
   "cell_type": "markdown",
   "metadata": {},
   "source": [
    "# 标准化处理"
   ]
  },
  {
   "cell_type": "code",
   "execution_count": 19,
   "metadata": {
    "ExecuteTime": {
     "end_time": "2019-08-19T08:06:16.726880Z",
     "start_time": "2019-08-19T08:06:16.681592Z"
    }
   },
   "outputs": [],
   "source": [
    "from sklearn.preprocessing import StandardScaler"
   ]
  },
  {
   "cell_type": "code",
   "execution_count": 20,
   "metadata": {
    "ExecuteTime": {
     "end_time": "2019-08-19T08:06:16.920632Z",
     "start_time": "2019-08-19T08:06:16.914899Z"
    }
   },
   "outputs": [],
   "source": [
    "x_train, y_train = train_set.iloc[:, :-1], train_set['status']\n",
    "x_test, y_test = test_set.iloc[:, :-1], test_set['status']"
   ]
  },
  {
   "cell_type": "code",
   "execution_count": 21,
   "metadata": {
    "ExecuteTime": {
     "end_time": "2019-08-19T08:06:17.156109Z",
     "start_time": "2019-08-19T08:06:17.153715Z"
    }
   },
   "outputs": [],
   "source": [
    "features = x_train.columns"
   ]
  },
  {
   "cell_type": "code",
   "execution_count": 22,
   "metadata": {
    "ExecuteTime": {
     "end_time": "2019-08-19T08:06:18.355808Z",
     "start_time": "2019-08-19T08:06:18.331467Z"
    }
   },
   "outputs": [],
   "source": [
    "scaler = StandardScaler()\n",
    "x_train_scale = scaler.fit_transform(x_train)"
   ]
  },
  {
   "cell_type": "code",
   "execution_count": 23,
   "metadata": {
    "ExecuteTime": {
     "end_time": "2019-08-19T08:06:19.038915Z",
     "start_time": "2019-08-19T08:06:19.034885Z"
    }
   },
   "outputs": [],
   "source": [
    "x_test_scale = scaler.transform(x_test)"
   ]
  },
  {
   "cell_type": "code",
   "execution_count": 24,
   "metadata": {
    "ExecuteTime": {
     "end_time": "2019-08-19T08:06:20.632246Z",
     "start_time": "2019-08-19T08:06:20.628759Z"
    }
   },
   "outputs": [],
   "source": [
    "x_train = pd.DataFrame(x_train_scale, columns=x_train.columns)\n",
    "x_test = pd.DataFrame(x_test_scale, columns=x_test.columns)"
   ]
  },
  {
   "cell_type": "code",
   "execution_count": 25,
   "metadata": {
    "ExecuteTime": {
     "end_time": "2019-08-19T08:06:21.213381Z",
     "start_time": "2019-08-19T08:06:21.172176Z"
    }
   },
   "outputs": [
    {
     "data": {
      "text/html": [
       "<div>\n",
       "<style scoped>\n",
       "    .dataframe tbody tr th:only-of-type {\n",
       "        vertical-align: middle;\n",
       "    }\n",
       "\n",
       "    .dataframe tbody tr th {\n",
       "        vertical-align: top;\n",
       "    }\n",
       "\n",
       "    .dataframe thead th {\n",
       "        text-align: right;\n",
       "    }\n",
       "</style>\n",
       "<table border=\"1\" class=\"dataframe\">\n",
       "  <thead>\n",
       "    <tr style=\"text-align: right;\">\n",
       "      <th></th>\n",
       "      <th>trans_activity_month</th>\n",
       "      <th>trans_activity_day</th>\n",
       "      <th>rank_trad_1_month</th>\n",
       "      <th>top_trans_count_last_1_month</th>\n",
       "      <th>avg_price_top_last_12_valid_month</th>\n",
       "      <th>take_amount_in_later_12_month_highest</th>\n",
       "      <th>trans_amount_increase_rate_lately</th>\n",
       "      <th>transd_mcc</th>\n",
       "      <th>trans_days_interval_filter</th>\n",
       "      <th>trans_days_interval</th>\n",
       "      <th>repayment_capability</th>\n",
       "      <th>number_of_trans_from_2011</th>\n",
       "      <th>historical_trans_amount</th>\n",
       "      <th>historical_trans_day</th>\n",
       "      <th>trans_amount_3_month</th>\n",
       "      <th>abs</th>\n",
       "      <th>avg_price_last_12_month</th>\n",
       "      <th>consume_top_time_last_1_month</th>\n",
       "      <th>consume_top_time_last_6_month</th>\n",
       "      <th>trans_fail_top_count_enum_last_1_month</th>\n",
       "      <th>trans_fail_top_count_enum_last_6_month</th>\n",
       "      <th>trans_fail_top_count_enum_last_12_month</th>\n",
       "      <th>consume_mini_time_last_1_month</th>\n",
       "      <th>max_cumulative_consume_later_1_month</th>\n",
       "      <th>pawns_auctions_trusts_consume_last_1_month</th>\n",
       "      <th>pawns_auctions_trusts_consume_last_6_month</th>\n",
       "      <th>first_transaction_day</th>\n",
       "      <th>trans_day_last_12_month</th>\n",
       "      <th>apply_score</th>\n",
       "      <th>apply_credibility</th>\n",
       "      <th>query_sum_count</th>\n",
       "      <th>loans_overdue_count</th>\n",
       "      <th>latest_six_month_loan</th>\n",
       "      <th>history_suc_fee</th>\n",
       "      <th>history_fail_fee</th>\n",
       "      <th>latest_one_month_suc</th>\n",
       "      <th>latest_one_month_fail</th>\n",
       "      <th>loans_long_time</th>\n",
       "      <th>loans_credit_limit</th>\n",
       "      <th>loans_max_limit</th>\n",
       "      <th>loans_avg_limit</th>\n",
       "      <th>consfin_max_limit</th>\n",
       "      <th>consfin_avg_limit</th>\n",
       "      <th>latest_query_day</th>\n",
       "      <th>loans_latest_day</th>\n",
       "    </tr>\n",
       "  </thead>\n",
       "  <tbody>\n",
       "    <tr>\n",
       "      <th>0</th>\n",
       "      <td>0.134047</td>\n",
       "      <td>-1.353319</td>\n",
       "      <td>1.992037</td>\n",
       "      <td>1.839581</td>\n",
       "      <td>-0.107077</td>\n",
       "      <td>-0.403875</td>\n",
       "      <td>-0.021182</td>\n",
       "      <td>-1.004892</td>\n",
       "      <td>2.613071</td>\n",
       "      <td>4.484165</td>\n",
       "      <td>-0.145876</td>\n",
       "      <td>-1.290611</td>\n",
       "      <td>-0.586927</td>\n",
       "      <td>-1.358984</td>\n",
       "      <td>-0.311294</td>\n",
       "      <td>-0.297651</td>\n",
       "      <td>0.082433</td>\n",
       "      <td>-1.300570</td>\n",
       "      <td>-0.423735</td>\n",
       "      <td>0.696823</td>\n",
       "      <td>-0.122621</td>\n",
       "      <td>-0.258803</td>\n",
       "      <td>-0.414413</td>\n",
       "      <td>-0.313775</td>\n",
       "      <td>-0.192204</td>\n",
       "      <td>-0.442215</td>\n",
       "      <td>-1.120560</td>\n",
       "      <td>0.234496</td>\n",
       "      <td>-0.894778</td>\n",
       "      <td>0.489077</td>\n",
       "      <td>-0.438137</td>\n",
       "      <td>-0.075726</td>\n",
       "      <td>-1.017990</td>\n",
       "      <td>-0.903410</td>\n",
       "      <td>-0.294631</td>\n",
       "      <td>-0.598487</td>\n",
       "      <td>-0.320305</td>\n",
       "      <td>-1.002166</td>\n",
       "      <td>0.453138</td>\n",
       "      <td>-0.401657</td>\n",
       "      <td>1.055294</td>\n",
       "      <td>-1.112937</td>\n",
       "      <td>-1.409680</td>\n",
       "      <td>0.219396</td>\n",
       "      <td>0.668269</td>\n",
       "    </tr>\n",
       "    <tr>\n",
       "      <th>1</th>\n",
       "      <td>0.990363</td>\n",
       "      <td>0.416102</td>\n",
       "      <td>-0.659154</td>\n",
       "      <td>-0.721391</td>\n",
       "      <td>0.289513</td>\n",
       "      <td>-0.113359</td>\n",
       "      <td>-0.021508</td>\n",
       "      <td>-0.781014</td>\n",
       "      <td>-0.574439</td>\n",
       "      <td>-0.947529</td>\n",
       "      <td>-0.057434</td>\n",
       "      <td>-1.684796</td>\n",
       "      <td>-0.393775</td>\n",
       "      <td>-0.978945</td>\n",
       "      <td>-0.100813</td>\n",
       "      <td>0.032556</td>\n",
       "      <td>-0.276177</td>\n",
       "      <td>0.373749</td>\n",
       "      <td>-0.874773</td>\n",
       "      <td>0.174245</td>\n",
       "      <td>-0.335037</td>\n",
       "      <td>-0.459263</td>\n",
       "      <td>0.310349</td>\n",
       "      <td>-0.010055</td>\n",
       "      <td>-0.192204</td>\n",
       "      <td>-0.504100</td>\n",
       "      <td>-1.482824</td>\n",
       "      <td>-0.382186</td>\n",
       "      <td>-0.595405</td>\n",
       "      <td>0.739142</td>\n",
       "      <td>0.467321</td>\n",
       "      <td>-0.075726</td>\n",
       "      <td>1.235352</td>\n",
       "      <td>0.641945</td>\n",
       "      <td>0.081820</td>\n",
       "      <td>1.489156</td>\n",
       "      <td>-0.320305</td>\n",
       "      <td>0.430439</td>\n",
       "      <td>0.015780</td>\n",
       "      <td>0.438275</td>\n",
       "      <td>0.320450</td>\n",
       "      <td>0.123866</td>\n",
       "      <td>-0.067564</td>\n",
       "      <td>0.180959</td>\n",
       "      <td>0.060388</td>\n",
       "    </tr>\n",
       "    <tr>\n",
       "      <th>2</th>\n",
       "      <td>0.134047</td>\n",
       "      <td>0.697335</td>\n",
       "      <td>-0.848524</td>\n",
       "      <td>-0.863667</td>\n",
       "      <td>0.091218</td>\n",
       "      <td>-0.355456</td>\n",
       "      <td>-0.021194</td>\n",
       "      <td>1.010008</td>\n",
       "      <td>-0.126607</td>\n",
       "      <td>-0.398256</td>\n",
       "      <td>-0.086415</td>\n",
       "      <td>4.622159</td>\n",
       "      <td>0.197260</td>\n",
       "      <td>1.821340</td>\n",
       "      <td>0.202273</td>\n",
       "      <td>-0.303766</td>\n",
       "      <td>-0.138250</td>\n",
       "      <td>0.559784</td>\n",
       "      <td>-0.423735</td>\n",
       "      <td>0.174245</td>\n",
       "      <td>1.151875</td>\n",
       "      <td>0.943961</td>\n",
       "      <td>-0.412100</td>\n",
       "      <td>-0.054528</td>\n",
       "      <td>-0.031308</td>\n",
       "      <td>1.135691</td>\n",
       "      <td>2.940132</td>\n",
       "      <td>-0.382186</td>\n",
       "      <td>-1.014528</td>\n",
       "      <td>0.989206</td>\n",
       "      <td>0.648413</td>\n",
       "      <td>2.196239</td>\n",
       "      <td>0.014792</td>\n",
       "      <td>0.709135</td>\n",
       "      <td>1.043861</td>\n",
       "      <td>-0.076576</td>\n",
       "      <td>-0.320305</td>\n",
       "      <td>0.518150</td>\n",
       "      <td>0.015780</td>\n",
       "      <td>0.228292</td>\n",
       "      <td>-0.160440</td>\n",
       "      <td>-0.288401</td>\n",
       "      <td>0.111503</td>\n",
       "      <td>0.196334</td>\n",
       "      <td>0.304291</td>\n",
       "    </tr>\n",
       "    <tr>\n",
       "      <th>3</th>\n",
       "      <td>-0.621527</td>\n",
       "      <td>1.101607</td>\n",
       "      <td>-1.037895</td>\n",
       "      <td>-0.863667</td>\n",
       "      <td>0.091218</td>\n",
       "      <td>-0.476505</td>\n",
       "      <td>-0.021387</td>\n",
       "      <td>0.114497</td>\n",
       "      <td>-0.548095</td>\n",
       "      <td>-0.886499</td>\n",
       "      <td>-0.122558</td>\n",
       "      <td>0.286128</td>\n",
       "      <td>0.386708</td>\n",
       "      <td>0.901247</td>\n",
       "      <td>0.207033</td>\n",
       "      <td>-0.113183</td>\n",
       "      <td>-0.207214</td>\n",
       "      <td>0.001678</td>\n",
       "      <td>-1.025119</td>\n",
       "      <td>0.174245</td>\n",
       "      <td>-0.547453</td>\n",
       "      <td>-0.058342</td>\n",
       "      <td>0.945703</td>\n",
       "      <td>-0.093578</td>\n",
       "      <td>-0.021598</td>\n",
       "      <td>0.849172</td>\n",
       "      <td>0.348830</td>\n",
       "      <td>-0.382186</td>\n",
       "      <td>-0.695196</td>\n",
       "      <td>0.489077</td>\n",
       "      <td>-0.890866</td>\n",
       "      <td>-0.400292</td>\n",
       "      <td>-0.736322</td>\n",
       "      <td>0.138025</td>\n",
       "      <td>-0.587426</td>\n",
       "      <td>-0.598487</td>\n",
       "      <td>-0.320305</td>\n",
       "      <td>0.342729</td>\n",
       "      <td>-0.713151</td>\n",
       "      <td>-0.751629</td>\n",
       "      <td>-0.814235</td>\n",
       "      <td>-0.205948</td>\n",
       "      <td>0.144349</td>\n",
       "      <td>0.269363</td>\n",
       "      <td>0.465642</td>\n",
       "    </tr>\n",
       "    <tr>\n",
       "      <th>4</th>\n",
       "      <td>0.385904</td>\n",
       "      <td>-1.353319</td>\n",
       "      <td>1.992037</td>\n",
       "      <td>1.839581</td>\n",
       "      <td>0.487808</td>\n",
       "      <td>-0.355456</td>\n",
       "      <td>-0.017263</td>\n",
       "      <td>-0.557137</td>\n",
       "      <td>1.401290</td>\n",
       "      <td>0.883379</td>\n",
       "      <td>-0.137048</td>\n",
       "      <td>-0.206603</td>\n",
       "      <td>-0.596318</td>\n",
       "      <td>-1.058954</td>\n",
       "      <td>-0.322199</td>\n",
       "      <td>-0.307163</td>\n",
       "      <td>-0.924434</td>\n",
       "      <td>-1.300570</td>\n",
       "      <td>0.102476</td>\n",
       "      <td>3.309715</td>\n",
       "      <td>0.727043</td>\n",
       "      <td>0.543040</td>\n",
       "      <td>-0.414413</td>\n",
       "      <td>-0.313775</td>\n",
       "      <td>-0.192204</td>\n",
       "      <td>-0.370072</td>\n",
       "      <td>-0.312857</td>\n",
       "      <td>2.925474</td>\n",
       "      <td>-0.834904</td>\n",
       "      <td>0.739142</td>\n",
       "      <td>-0.800321</td>\n",
       "      <td>0.897974</td>\n",
       "      <td>-0.736322</td>\n",
       "      <td>-1.272952</td>\n",
       "      <td>4.724713</td>\n",
       "      <td>-0.598487</td>\n",
       "      <td>2.832350</td>\n",
       "      <td>-0.534377</td>\n",
       "      <td>-1.296296</td>\n",
       "      <td>-1.521568</td>\n",
       "      <td>-1.106012</td>\n",
       "      <td>-0.948030</td>\n",
       "      <td>-1.150793</td>\n",
       "      <td>0.261676</td>\n",
       "      <td>0.394348</td>\n",
       "    </tr>\n",
       "  </tbody>\n",
       "</table>\n",
       "</div>"
      ],
      "text/plain": [
       "   trans_activity_month  trans_activity_day  rank_trad_1_month  \\\n",
       "0              0.134047           -1.353319           1.992037   \n",
       "1              0.990363            0.416102          -0.659154   \n",
       "2              0.134047            0.697335          -0.848524   \n",
       "3             -0.621527            1.101607          -1.037895   \n",
       "4              0.385904           -1.353319           1.992037   \n",
       "\n",
       "   top_trans_count_last_1_month  avg_price_top_last_12_valid_month  \\\n",
       "0                      1.839581                          -0.107077   \n",
       "1                     -0.721391                           0.289513   \n",
       "2                     -0.863667                           0.091218   \n",
       "3                     -0.863667                           0.091218   \n",
       "4                      1.839581                           0.487808   \n",
       "\n",
       "   take_amount_in_later_12_month_highest  trans_amount_increase_rate_lately  \\\n",
       "0                              -0.403875                          -0.021182   \n",
       "1                              -0.113359                          -0.021508   \n",
       "2                              -0.355456                          -0.021194   \n",
       "3                              -0.476505                          -0.021387   \n",
       "4                              -0.355456                          -0.017263   \n",
       "\n",
       "   transd_mcc  trans_days_interval_filter  trans_days_interval  \\\n",
       "0   -1.004892                    2.613071             4.484165   \n",
       "1   -0.781014                   -0.574439            -0.947529   \n",
       "2    1.010008                   -0.126607            -0.398256   \n",
       "3    0.114497                   -0.548095            -0.886499   \n",
       "4   -0.557137                    1.401290             0.883379   \n",
       "\n",
       "   repayment_capability  number_of_trans_from_2011  historical_trans_amount  \\\n",
       "0             -0.145876                  -1.290611                -0.586927   \n",
       "1             -0.057434                  -1.684796                -0.393775   \n",
       "2             -0.086415                   4.622159                 0.197260   \n",
       "3             -0.122558                   0.286128                 0.386708   \n",
       "4             -0.137048                  -0.206603                -0.596318   \n",
       "\n",
       "   historical_trans_day  trans_amount_3_month       abs  \\\n",
       "0             -1.358984             -0.311294 -0.297651   \n",
       "1             -0.978945             -0.100813  0.032556   \n",
       "2              1.821340              0.202273 -0.303766   \n",
       "3              0.901247              0.207033 -0.113183   \n",
       "4             -1.058954             -0.322199 -0.307163   \n",
       "\n",
       "   avg_price_last_12_month  consume_top_time_last_1_month  \\\n",
       "0                 0.082433                      -1.300570   \n",
       "1                -0.276177                       0.373749   \n",
       "2                -0.138250                       0.559784   \n",
       "3                -0.207214                       0.001678   \n",
       "4                -0.924434                      -1.300570   \n",
       "\n",
       "   consume_top_time_last_6_month  trans_fail_top_count_enum_last_1_month  \\\n",
       "0                      -0.423735                                0.696823   \n",
       "1                      -0.874773                                0.174245   \n",
       "2                      -0.423735                                0.174245   \n",
       "3                      -1.025119                                0.174245   \n",
       "4                       0.102476                                3.309715   \n",
       "\n",
       "   trans_fail_top_count_enum_last_6_month  \\\n",
       "0                               -0.122621   \n",
       "1                               -0.335037   \n",
       "2                                1.151875   \n",
       "3                               -0.547453   \n",
       "4                                0.727043   \n",
       "\n",
       "   trans_fail_top_count_enum_last_12_month  consume_mini_time_last_1_month  \\\n",
       "0                                -0.258803                       -0.414413   \n",
       "1                                -0.459263                        0.310349   \n",
       "2                                 0.943961                       -0.412100   \n",
       "3                                -0.058342                        0.945703   \n",
       "4                                 0.543040                       -0.414413   \n",
       "\n",
       "   max_cumulative_consume_later_1_month  \\\n",
       "0                             -0.313775   \n",
       "1                             -0.010055   \n",
       "2                             -0.054528   \n",
       "3                             -0.093578   \n",
       "4                             -0.313775   \n",
       "\n",
       "   pawns_auctions_trusts_consume_last_1_month  \\\n",
       "0                                   -0.192204   \n",
       "1                                   -0.192204   \n",
       "2                                   -0.031308   \n",
       "3                                   -0.021598   \n",
       "4                                   -0.192204   \n",
       "\n",
       "   pawns_auctions_trusts_consume_last_6_month  first_transaction_day  \\\n",
       "0                                   -0.442215              -1.120560   \n",
       "1                                   -0.504100              -1.482824   \n",
       "2                                    1.135691               2.940132   \n",
       "3                                    0.849172               0.348830   \n",
       "4                                   -0.370072              -0.312857   \n",
       "\n",
       "   trans_day_last_12_month  apply_score  apply_credibility  query_sum_count  \\\n",
       "0                 0.234496    -0.894778           0.489077        -0.438137   \n",
       "1                -0.382186    -0.595405           0.739142         0.467321   \n",
       "2                -0.382186    -1.014528           0.989206         0.648413   \n",
       "3                -0.382186    -0.695196           0.489077        -0.890866   \n",
       "4                 2.925474    -0.834904           0.739142        -0.800321   \n",
       "\n",
       "   loans_overdue_count  latest_six_month_loan  history_suc_fee  \\\n",
       "0            -0.075726              -1.017990        -0.903410   \n",
       "1            -0.075726               1.235352         0.641945   \n",
       "2             2.196239               0.014792         0.709135   \n",
       "3            -0.400292              -0.736322         0.138025   \n",
       "4             0.897974              -0.736322        -1.272952   \n",
       "\n",
       "   history_fail_fee  latest_one_month_suc  latest_one_month_fail  \\\n",
       "0         -0.294631             -0.598487              -0.320305   \n",
       "1          0.081820              1.489156              -0.320305   \n",
       "2          1.043861             -0.076576              -0.320305   \n",
       "3         -0.587426             -0.598487              -0.320305   \n",
       "4          4.724713             -0.598487               2.832350   \n",
       "\n",
       "   loans_long_time  loans_credit_limit  loans_max_limit  loans_avg_limit  \\\n",
       "0        -1.002166            0.453138        -0.401657         1.055294   \n",
       "1         0.430439            0.015780         0.438275         0.320450   \n",
       "2         0.518150            0.015780         0.228292        -0.160440   \n",
       "3         0.342729           -0.713151        -0.751629        -0.814235   \n",
       "4        -0.534377           -1.296296        -1.521568        -1.106012   \n",
       "\n",
       "   consfin_max_limit  consfin_avg_limit  latest_query_day  loans_latest_day  \n",
       "0          -1.112937          -1.409680          0.219396          0.668269  \n",
       "1           0.123866          -0.067564          0.180959          0.060388  \n",
       "2          -0.288401           0.111503          0.196334          0.304291  \n",
       "3          -0.205948           0.144349          0.269363          0.465642  \n",
       "4          -0.948030          -1.150793          0.261676          0.394348  "
      ]
     },
     "execution_count": 25,
     "metadata": {},
     "output_type": "execute_result"
    }
   ],
   "source": [
    "x_train.head()"
   ]
  },
  {
   "cell_type": "code",
   "execution_count": null,
   "metadata": {},
   "outputs": [],
   "source": []
  },
  {
   "cell_type": "code",
   "execution_count": 26,
   "metadata": {
    "ExecuteTime": {
     "end_time": "2019-08-19T08:06:22.731514Z",
     "start_time": "2019-08-19T08:06:22.729038Z"
    }
   },
   "outputs": [],
   "source": [
    "# x_train.profile_report(style={'full_width':True})\n",
    "\n",
    "# Dataset info\n",
    "\n",
    "# Number of variables\t45\n",
    "# Number of observations\t3326\n",
    "# Missing cells\t0 (0.0%)\n",
    "# Duplicate rows\t0 (0.0%)\n",
    "# Total size in memory\t1.1 MiB\n",
    "# Average record size in memory\t360.0 B\n",
    "# Variables types\n",
    "\n",
    "# Numeric\t45\n",
    "# Categorical\t0\n",
    "# Boolean\t0\n",
    "# Date\t0\n",
    "# URL\t0\n",
    "# Text (Unique)\t0\n",
    "# Rejected\t0\n",
    "# Unsupported\t0Warnings\n",
    "# max_cumulative_consume_later_1_month is highly skewed (γ1 = 26.38045116)\tSkewed\n",
    "# repayment_capability is highly skewed (γ1 = 26.90108787)\tSkewed\n",
    "# trans_amount_3_month is highly skewed (γ1 = 42.33606162)\tSkewed\n",
    "# trans_amount_increase_rate_lately is highly skewed (γ1 = 56.87152308)\tSkewed"
   ]
  },
  {
   "cell_type": "code",
   "execution_count": 27,
   "metadata": {
    "ExecuteTime": {
     "end_time": "2019-08-19T08:06:24.172906Z",
     "start_time": "2019-08-19T08:06:24.170687Z"
    }
   },
   "outputs": [],
   "source": [
    "# profile = x_train.profile_report()\n",
    "# rejected_variables = profile.get_rejected_variables(threshold=0.9)"
   ]
  },
  {
   "cell_type": "code",
   "execution_count": 28,
   "metadata": {
    "ExecuteTime": {
     "end_time": "2019-08-19T08:06:24.384502Z",
     "start_time": "2019-08-19T08:06:24.380384Z"
    }
   },
   "outputs": [
    {
     "data": {
      "text/plain": [
       "array([[ 0.13404651, -1.35331866,  1.99203681, ..., -1.40968007,\n",
       "         0.21939562,  0.66826917],\n",
       "       [ 0.99036309,  0.41610248, -0.65915369, ..., -0.06756396,\n",
       "         0.18095929,  0.06038847],\n",
       "       [ 0.13404651,  0.69733498, -0.84852444, ...,  0.11150258,\n",
       "         0.19633382,  0.30429122],\n",
       "       ...,\n",
       "       [ 0.73850528,  0.41610248, -0.84852444, ...,  0.74123759,\n",
       "         0.16558476,  0.26676772],\n",
       "       [ 0.48664746, -0.82014872, -0.28041219, ..., -0.16469079,\n",
       "        -3.66651702, -3.69571392],\n",
       "       [-0.16818287,  1.26565899, -1.60600744, ...,  0.81540716,\n",
       "         0.22708288,  0.16545427]])"
      ]
     },
     "execution_count": 28,
     "metadata": {},
     "output_type": "execute_result"
    }
   ],
   "source": [
    "x_train_scale"
   ]
  },
  {
   "cell_type": "code",
   "execution_count": 29,
   "metadata": {
    "ExecuteTime": {
     "end_time": "2019-08-19T08:06:25.599985Z",
     "start_time": "2019-08-19T08:06:25.595938Z"
    }
   },
   "outputs": [
    {
     "data": {
      "text/plain": [
       "array([[ 0.99036309, -0.07019538, -0.09104144, ..., -0.70595209,\n",
       "         0.18480292,  0.11667372],\n",
       "       [ 0.33553277,  1.34768513, -0.09104144, ..., -0.36777414,\n",
       "         0.38082819,  0.25551067],\n",
       "       [-0.52078381,  1.98045826, -1.03789519, ..., -0.2070734 ,\n",
       "         0.17711566,  0.08290257],\n",
       "       ...,\n",
       "       [-1.47784352, -0.42759502,  0.09832931, ...,  0.25913535,\n",
       "         0.19633382,  0.25926302],\n",
       "       [-0.36966912,  1.1016067 , -0.65915369, ..., -0.27629834,\n",
       "         0.25014468,  0.24425362],\n",
       "       [ 0.99036309,  0.53328269, -0.46978294, ...,  0.24324187,\n",
       "         0.18864656,  0.06038847]])"
      ]
     },
     "execution_count": 29,
     "metadata": {},
     "output_type": "execute_result"
    }
   ],
   "source": [
    "x_test_scale"
   ]
  },
  {
   "cell_type": "code",
   "execution_count": 30,
   "metadata": {
    "ExecuteTime": {
     "end_time": "2019-08-19T08:06:27.092833Z",
     "start_time": "2019-08-19T08:06:27.090605Z"
    }
   },
   "outputs": [],
   "source": [
    "# x_train, x_test = x_train_scale, x_test_scale"
   ]
  },
  {
   "cell_type": "markdown",
   "metadata": {},
   "source": [
    "# 模型"
   ]
  },
  {
   "cell_type": "markdown",
   "metadata": {
    "ExecuteTime": {
     "end_time": "2019-08-11T10:08:56.388146Z",
     "start_time": "2019-08-11T10:08:56.377836Z"
    }
   },
   "source": [
    "    逻辑回归\n",
    "    svm\n",
    "    决策树\n",
    "    随机森林\n",
    "    XGBoost"
   ]
  },
  {
   "cell_type": "code",
   "execution_count": 31,
   "metadata": {
    "ExecuteTime": {
     "end_time": "2019-08-19T08:06:34.099498Z",
     "start_time": "2019-08-19T08:06:34.041963Z"
    }
   },
   "outputs": [],
   "source": [
    "from sklearn.linear_model import LogisticRegression\n",
    "from sklearn.svm import SVC\n",
    "from sklearn.tree import DecisionTreeClassifier\n",
    "from sklearn.ensemble import RandomForestClassifier\n",
    "import xgboost as xgb\n",
    "\n",
    "# Grid search cross validation\n",
    "from sklearn.model_selection import GridSearchCV"
   ]
  },
  {
   "cell_type": "markdown",
   "metadata": {},
   "source": [
    "## 根据task5获取3个最优模型"
   ]
  },
  {
   "cell_type": "markdown",
   "metadata": {},
   "source": [
    "选用 ['XGBoost', '逻辑回归', '随机森林']"
   ]
  },
  {
   "cell_type": "code",
   "execution_count": 32,
   "metadata": {
    "ExecuteTime": {
     "end_time": "2019-08-19T08:07:09.734464Z",
     "start_time": "2019-08-19T08:07:09.731047Z"
    }
   },
   "outputs": [],
   "source": [
    "# {'C': 0.05, 'penalty': 'l1', 'solver': 'liblinear'}\n",
    "clf_lr = LogisticRegression(C=0.05, penalty='l2', solver= 'liblinear', n_jobs=-1)"
   ]
  },
  {
   "cell_type": "code",
   "execution_count": 66,
   "metadata": {
    "ExecuteTime": {
     "end_time": "2019-08-19T08:24:19.647870Z",
     "start_time": "2019-08-19T08:24:19.644793Z"
    }
   },
   "outputs": [],
   "source": [
    "#  for k, v in {'bootstrap': False, \n",
    "#     'max_depth': 90, \n",
    "#     'max_features': 3,\n",
    "#     'min_samples_leaf': 5, \n",
    "#     'min_samples_split': 8, \n",
    "#     'n_estimators': 300}.items():\n",
    "#         print(f'{k} = {v},', end=' ')\n",
    "clf_rf = RandomForestClassifier(bootstrap = False, max_depth = 90, \n",
    "                                max_features = 3, min_samples_leaf = 5, \n",
    "                                min_samples_split = 8, n_estimators = 300, n_jobs=-1)"
   ]
  },
  {
   "cell_type": "code",
   "execution_count": 67,
   "metadata": {
    "ExecuteTime": {
     "end_time": "2019-08-19T08:24:24.681995Z",
     "start_time": "2019-08-19T08:24:24.677844Z"
    }
   },
   "outputs": [],
   "source": [
    "clf_xgb = xgb.XGBClassifier(\n",
    "        max_depth=5,\n",
    "        learning_rate=0.01,\n",
    "        n_estimators=500,              \n",
    "        silent=True,\n",
    "        objective='binary:logistic',\n",
    "        nthread=-1,\n",
    "        gamma=0,\n",
    "        min_child_weight=10,\n",
    "        max_delta_step=0,\n",
    "        subsample=0.85,\n",
    "        colsample_bytree=0.7,\n",
    "        colsample_bylevel=1,\n",
    "        reg_alpha=0,\n",
    "        reg_lambda=1,\n",
    "        scale_pos_weight=1,\n",
    "        seed=1440,\n",
    "        missing=None)"
   ]
  },
  {
   "cell_type": "markdown",
   "metadata": {},
   "source": [
    "## 投票分类器"
   ]
  },
  {
   "cell_type": "code",
   "execution_count": 68,
   "metadata": {
    "ExecuteTime": {
     "end_time": "2019-08-19T08:24:26.720617Z",
     "start_time": "2019-08-19T08:24:26.717929Z"
    }
   },
   "outputs": [],
   "source": [
    "from sklearn.ensemble import VotingClassifier"
   ]
  },
  {
   "cell_type": "markdown",
   "metadata": {},
   "source": [
    "### hard"
   ]
  },
  {
   "cell_type": "code",
   "execution_count": 69,
   "metadata": {
    "ExecuteTime": {
     "end_time": "2019-08-19T08:24:29.278563Z",
     "start_time": "2019-08-19T08:24:29.275644Z"
    }
   },
   "outputs": [],
   "source": [
    "clf_vote = VotingClassifier(\n",
    "    estimators=[('lr', clf_lr), ('rf', clf_rf), ('xgb', clf_xgb)], \n",
    "    voting='hard'\n",
    ")"
   ]
  },
  {
   "cell_type": "code",
   "execution_count": 70,
   "metadata": {
    "ExecuteTime": {
     "end_time": "2019-08-19T08:24:32.306221Z",
     "start_time": "2019-08-19T08:24:29.667183Z"
    }
   },
   "outputs": [
    {
     "name": "stderr",
     "output_type": "stream",
     "text": [
      "/opt/conda/lib/python3.6/site-packages/sklearn/linear_model/logistic.py:432: FutureWarning: Default solver will be changed to 'lbfgs' in 0.22. Specify a solver to silence this warning.\n",
      "  FutureWarning)\n"
     ]
    },
    {
     "data": {
      "text/plain": [
       "VotingClassifier(estimators=[('lr',\n",
       "                              LogisticRegression(C=1.0, class_weight=None,\n",
       "                                                 dual=False, fit_intercept=True,\n",
       "                                                 intercept_scaling=1,\n",
       "                                                 l1_ratio=None, max_iter=100,\n",
       "                                                 multi_class='warn',\n",
       "                                                 n_jobs=None, penalty='l2',\n",
       "                                                 random_state=None,\n",
       "                                                 solver='warn', tol=0.0001,\n",
       "                                                 verbose=0, warm_start=False)),\n",
       "                             ('rf',\n",
       "                              RandomForestClassifier(bootstrap=False,\n",
       "                                                     class_weight=None,\n",
       "                                                     criterion='gini'...\n",
       "                                            colsample_bynode=1,\n",
       "                                            colsample_bytree=0.7, gamma=0,\n",
       "                                            learning_rate=0.01,\n",
       "                                            max_delta_step=0, max_depth=5,\n",
       "                                            min_child_weight=10, missing=None,\n",
       "                                            n_estimators=500, n_jobs=1,\n",
       "                                            nthread=-1,\n",
       "                                            objective='binary:logistic',\n",
       "                                            random_state=0, reg_alpha=0,\n",
       "                                            reg_lambda=1, scale_pos_weight=1,\n",
       "                                            seed=1440, silent=True,\n",
       "                                            subsample=0.85, verbosity=1))],\n",
       "                 flatten_transform=True, n_jobs=None, voting='hard',\n",
       "                 weights=None)"
      ]
     },
     "execution_count": 70,
     "metadata": {},
     "output_type": "execute_result"
    }
   ],
   "source": [
    "clf_vote.fit(x_train, y_train)"
   ]
  },
  {
   "cell_type": "code",
   "execution_count": 71,
   "metadata": {
    "ExecuteTime": {
     "end_time": "2019-08-19T08:24:40.217745Z",
     "start_time": "2019-08-19T08:24:36.730538Z"
    }
   },
   "outputs": [
    {
     "name": "stderr",
     "output_type": "stream",
     "text": [
      "/opt/conda/lib/python3.6/site-packages/sklearn/linear_model/logistic.py:432: FutureWarning: Default solver will be changed to 'lbfgs' in 0.22. Specify a solver to silence this warning.\n",
      "  FutureWarning)\n"
     ]
    },
    {
     "name": "stdout",
     "output_type": "stream",
     "text": [
      "LogisticRegression 0.8022440392706872\n",
      "RandomForestClassifier 0.7973352033660589\n",
      "XGBClassifier 0.8050490883590463\n"
     ]
    },
    {
     "name": "stderr",
     "output_type": "stream",
     "text": [
      "/opt/conda/lib/python3.6/site-packages/sklearn/linear_model/logistic.py:432: FutureWarning: Default solver will be changed to 'lbfgs' in 0.22. Specify a solver to silence this warning.\n",
      "  FutureWarning)\n"
     ]
    },
    {
     "name": "stdout",
     "output_type": "stream",
     "text": [
      "VotingClassifier 0.8050490883590463\n"
     ]
    }
   ],
   "source": [
    "from sklearn.metrics import accuracy_score\n",
    "for clf in (clf_lr, clf_rf, clf_xgb, clf_vote):\n",
    "    clf.fit(x_train, y_train)\n",
    "    y_pred = clf.predict(x_test)\n",
    "    print(clf.__class__.__name__, accuracy_score(y_test, y_pred))"
   ]
  },
  {
   "cell_type": "code",
   "execution_count": 52,
   "metadata": {
    "ExecuteTime": {
     "end_time": "2019-08-19T08:16:54.332577Z",
     "start_time": "2019-08-19T08:16:54.330075Z"
    }
   },
   "outputs": [],
   "source": [
    "# 投票方便的准确率稍微提高一些"
   ]
  },
  {
   "cell_type": "markdown",
   "metadata": {},
   "source": [
    "### soft"
   ]
  },
  {
   "cell_type": "code",
   "execution_count": 79,
   "metadata": {
    "ExecuteTime": {
     "end_time": "2019-08-19T08:26:24.972701Z",
     "start_time": "2019-08-19T08:26:24.969588Z"
    }
   },
   "outputs": [],
   "source": [
    "# 基于概率\n",
    "clf_vote_s = VotingClassifier(\n",
    "    estimators=[('lr', clf_lr), ('rf', clf_rf), ('xgb', clf_xgb)], \n",
    "    voting='soft'\n",
    ")"
   ]
  },
  {
   "cell_type": "code",
   "execution_count": 80,
   "metadata": {
    "ExecuteTime": {
     "end_time": "2019-08-19T08:26:30.168112Z",
     "start_time": "2019-08-19T08:26:28.656192Z"
    }
   },
   "outputs": [
    {
     "name": "stderr",
     "output_type": "stream",
     "text": [
      "/opt/conda/lib/python3.6/site-packages/sklearn/linear_model/logistic.py:432: FutureWarning: Default solver will be changed to 'lbfgs' in 0.22. Specify a solver to silence this warning.\n",
      "  FutureWarning)\n"
     ]
    },
    {
     "data": {
      "text/plain": [
       "VotingClassifier(estimators=[('lr',\n",
       "                              LogisticRegression(C=1.0, class_weight=None,\n",
       "                                                 dual=False, fit_intercept=True,\n",
       "                                                 intercept_scaling=1,\n",
       "                                                 l1_ratio=None, max_iter=100,\n",
       "                                                 multi_class='warn',\n",
       "                                                 n_jobs=None, penalty='l2',\n",
       "                                                 random_state=None,\n",
       "                                                 solver='warn', tol=0.0001,\n",
       "                                                 verbose=0, warm_start=False)),\n",
       "                             ('rf',\n",
       "                              RandomForestClassifier(bootstrap=False,\n",
       "                                                     class_weight=None,\n",
       "                                                     criterion='gini'...\n",
       "                                            colsample_bynode=1,\n",
       "                                            colsample_bytree=0.7, gamma=0,\n",
       "                                            learning_rate=0.01,\n",
       "                                            max_delta_step=0, max_depth=5,\n",
       "                                            min_child_weight=10, missing=None,\n",
       "                                            n_estimators=500, n_jobs=1,\n",
       "                                            nthread=-1,\n",
       "                                            objective='binary:logistic',\n",
       "                                            random_state=0, reg_alpha=0,\n",
       "                                            reg_lambda=1, scale_pos_weight=1,\n",
       "                                            seed=1440, silent=True,\n",
       "                                            subsample=0.85, verbosity=1))],\n",
       "                 flatten_transform=True, n_jobs=None, voting='soft',\n",
       "                 weights=None)"
      ]
     },
     "execution_count": 80,
     "metadata": {},
     "output_type": "execute_result"
    }
   ],
   "source": [
    "clf_vote_s.fit(x_train, y_train)"
   ]
  },
  {
   "cell_type": "code",
   "execution_count": 81,
   "metadata": {
    "ExecuteTime": {
     "end_time": "2019-08-19T08:26:30.407453Z",
     "start_time": "2019-08-19T08:26:30.170612Z"
    }
   },
   "outputs": [
    {
     "data": {
      "text/plain": [
       "0.8656043295249549"
      ]
     },
     "execution_count": 81,
     "metadata": {},
     "output_type": "execute_result"
    }
   ],
   "source": [
    "clf_vote_s.score(x_train, y_train)"
   ]
  },
  {
   "cell_type": "code",
   "execution_count": 82,
   "metadata": {
    "ExecuteTime": {
     "end_time": "2019-08-19T08:26:32.461318Z",
     "start_time": "2019-08-19T08:26:32.336733Z"
    }
   },
   "outputs": [
    {
     "data": {
      "text/plain": [
       "0.8022440392706872"
      ]
     },
     "execution_count": 82,
     "metadata": {},
     "output_type": "execute_result"
    }
   ],
   "source": [
    "clf_vote_s.score(x_test, y_test)"
   ]
  },
  {
   "cell_type": "code",
   "execution_count": 83,
   "metadata": {
    "ExecuteTime": {
     "end_time": "2019-08-19T08:26:44.020222Z",
     "start_time": "2019-08-19T08:26:39.294192Z"
    }
   },
   "outputs": [
    {
     "name": "stderr",
     "output_type": "stream",
     "text": [
      "/opt/conda/lib/python3.6/site-packages/sklearn/linear_model/logistic.py:432: FutureWarning: Default solver will be changed to 'lbfgs' in 0.22. Specify a solver to silence this warning.\n",
      "  FutureWarning)\n"
     ]
    },
    {
     "name": "stdout",
     "output_type": "stream",
     "text": [
      "LogisticRegression 0.8022440392706872\n",
      "RandomForestClassifier 0.800140252454418\n",
      "XGBClassifier 0.8050490883590463\n"
     ]
    },
    {
     "name": "stderr",
     "output_type": "stream",
     "text": [
      "/opt/conda/lib/python3.6/site-packages/sklearn/linear_model/logistic.py:432: FutureWarning: Default solver will be changed to 'lbfgs' in 0.22. Specify a solver to silence this warning.\n",
      "  FutureWarning)\n"
     ]
    },
    {
     "name": "stdout",
     "output_type": "stream",
     "text": [
      "VotingClassifier 0.8057503506311361\n"
     ]
    },
    {
     "name": "stderr",
     "output_type": "stream",
     "text": [
      "/opt/conda/lib/python3.6/site-packages/sklearn/linear_model/logistic.py:432: FutureWarning: Default solver will be changed to 'lbfgs' in 0.22. Specify a solver to silence this warning.\n",
      "  FutureWarning)\n"
     ]
    },
    {
     "name": "stdout",
     "output_type": "stream",
     "text": [
      "VotingClassifier 0.8015427769985974\n"
     ]
    }
   ],
   "source": [
    "from sklearn.metrics import accuracy_score\n",
    "for clf in (clf_lr, clf_rf, clf_xgb, clf_vote, clf_vote_s):\n",
    "    clf.fit(x_train, y_train)\n",
    "    y_pred = clf.predict(x_test)\n",
    "    print(clf.__class__.__name__, accuracy_score(y_test, y_pred))"
   ]
  },
  {
   "cell_type": "code",
   "execution_count": null,
   "metadata": {},
   "outputs": [],
   "source": []
  },
  {
   "cell_type": "markdown",
   "metadata": {},
   "source": [
    "# 堆叠法 stacking\n",
    "\n",
    "例如Stacking融合，用你目前评分最高的模型作为基准模型，和其他模型进行stacking融合，得到最终模型及评分结果。"
   ]
  },
  {
   "cell_type": "code",
   "execution_count": 111,
   "metadata": {
    "ExecuteTime": {
     "end_time": "2019-08-19T08:36:54.096656Z",
     "start_time": "2019-08-19T08:36:54.094048Z"
    }
   },
   "outputs": [],
   "source": [
    "from sklearn.model_selection import StratifiedKFold"
   ]
  },
  {
   "cell_type": "code",
   "execution_count": 113,
   "metadata": {
    "ExecuteTime": {
     "end_time": "2019-08-19T08:40:16.946288Z",
     "start_time": "2019-08-19T08:40:16.943703Z"
    }
   },
   "outputs": [],
   "source": [
    "# https://zhuanlan.zhihu.com/p/61705517"
   ]
  },
  {
   "cell_type": "code",
   "execution_count": 125,
   "metadata": {
    "ExecuteTime": {
     "end_time": "2019-08-19T08:46:52.069292Z",
     "start_time": "2019-08-19T08:46:52.066824Z"
    }
   },
   "outputs": [],
   "source": [
    "# !pip install mlxtend"
   ]
  },
  {
   "cell_type": "code",
   "execution_count": 117,
   "metadata": {
    "ExecuteTime": {
     "end_time": "2019-08-19T08:42:49.357452Z",
     "start_time": "2019-08-19T08:42:49.355013Z"
    }
   },
   "outputs": [],
   "source": [
    "from mlxtend.classifier import StackingClassifier\n",
    "from sklearn import model_selection"
   ]
  },
  {
   "cell_type": "code",
   "execution_count": null,
   "metadata": {},
   "outputs": [],
   "source": [
    "# (clf_lr, clf_rf, clf_xgb, clf_vote, clf_vote_s)"
   ]
  },
  {
   "cell_type": "code",
   "execution_count": 116,
   "metadata": {
    "ExecuteTime": {
     "end_time": "2019-08-19T08:41:50.223544Z",
     "start_time": "2019-08-19T08:41:50.220723Z"
    }
   },
   "outputs": [],
   "source": [
    "clf_stack = StackingClassifier(classifiers=[clf_lr, clf_rf, clf_xgb], \n",
    "                          meta_classifier=clf_lr)"
   ]
  },
  {
   "cell_type": "code",
   "execution_count": 118,
   "metadata": {
    "ExecuteTime": {
     "end_time": "2019-08-19T08:43:46.525493Z",
     "start_time": "2019-08-19T08:43:30.090395Z"
    }
   },
   "outputs": [
    {
     "name": "stderr",
     "output_type": "stream",
     "text": [
      "/opt/conda/lib/python3.6/site-packages/sklearn/linear_model/logistic.py:432: FutureWarning: Default solver will be changed to 'lbfgs' in 0.22. Specify a solver to silence this warning.\n",
      "  FutureWarning)\n",
      "/opt/conda/lib/python3.6/site-packages/sklearn/linear_model/logistic.py:432: FutureWarning: Default solver will be changed to 'lbfgs' in 0.22. Specify a solver to silence this warning.\n",
      "  FutureWarning)\n",
      "/opt/conda/lib/python3.6/site-packages/sklearn/linear_model/logistic.py:432: FutureWarning: Default solver will be changed to 'lbfgs' in 0.22. Specify a solver to silence this warning.\n",
      "  FutureWarning)\n",
      "/opt/conda/lib/python3.6/site-packages/sklearn/linear_model/logistic.py:432: FutureWarning: Default solver will be changed to 'lbfgs' in 0.22. Specify a solver to silence this warning.\n",
      "  FutureWarning)\n",
      "/opt/conda/lib/python3.6/site-packages/sklearn/linear_model/logistic.py:432: FutureWarning: Default solver will be changed to 'lbfgs' in 0.22. Specify a solver to silence this warning.\n",
      "  FutureWarning)\n"
     ]
    },
    {
     "name": "stdout",
     "output_type": "stream",
     "text": [
      "Accuracy: 0.78 (+/- 0.02) [lr]\n",
      "Accuracy: 0.78 (+/- 0.02) [Random Forest]\n",
      "Accuracy: 0.79 (+/- 0.02) [xgb]\n"
     ]
    },
    {
     "name": "stderr",
     "output_type": "stream",
     "text": [
      "/opt/conda/lib/python3.6/site-packages/sklearn/linear_model/logistic.py:432: FutureWarning: Default solver will be changed to 'lbfgs' in 0.22. Specify a solver to silence this warning.\n",
      "  FutureWarning)\n",
      "/opt/conda/lib/python3.6/site-packages/sklearn/linear_model/logistic.py:432: FutureWarning: Default solver will be changed to 'lbfgs' in 0.22. Specify a solver to silence this warning.\n",
      "  FutureWarning)\n",
      "/opt/conda/lib/python3.6/site-packages/sklearn/linear_model/logistic.py:432: FutureWarning: Default solver will be changed to 'lbfgs' in 0.22. Specify a solver to silence this warning.\n",
      "  FutureWarning)\n",
      "/opt/conda/lib/python3.6/site-packages/sklearn/linear_model/logistic.py:432: FutureWarning: Default solver will be changed to 'lbfgs' in 0.22. Specify a solver to silence this warning.\n",
      "  FutureWarning)\n",
      "/opt/conda/lib/python3.6/site-packages/sklearn/linear_model/logistic.py:432: FutureWarning: Default solver will be changed to 'lbfgs' in 0.22. Specify a solver to silence this warning.\n",
      "  FutureWarning)\n",
      "/opt/conda/lib/python3.6/site-packages/sklearn/linear_model/logistic.py:432: FutureWarning: Default solver will be changed to 'lbfgs' in 0.22. Specify a solver to silence this warning.\n",
      "  FutureWarning)\n",
      "/opt/conda/lib/python3.6/site-packages/sklearn/linear_model/logistic.py:432: FutureWarning: Default solver will be changed to 'lbfgs' in 0.22. Specify a solver to silence this warning.\n",
      "  FutureWarning)\n",
      "/opt/conda/lib/python3.6/site-packages/sklearn/linear_model/logistic.py:432: FutureWarning: Default solver will be changed to 'lbfgs' in 0.22. Specify a solver to silence this warning.\n",
      "  FutureWarning)\n",
      "/opt/conda/lib/python3.6/site-packages/sklearn/linear_model/logistic.py:432: FutureWarning: Default solver will be changed to 'lbfgs' in 0.22. Specify a solver to silence this warning.\n",
      "  FutureWarning)\n",
      "/opt/conda/lib/python3.6/site-packages/sklearn/linear_model/logistic.py:432: FutureWarning: Default solver will be changed to 'lbfgs' in 0.22. Specify a solver to silence this warning.\n",
      "  FutureWarning)\n"
     ]
    },
    {
     "name": "stdout",
     "output_type": "stream",
     "text": [
      "Accuracy: 0.65 (+/- 0.02) [StackingClassifier]\n"
     ]
    }
   ],
   "source": [
    "for clf, label in zip([clf_lr, clf_rf, clf_xgb, clf_stack], \n",
    "                      ['lr', \n",
    "                       'Random Forest', \n",
    "                       'xgb',\n",
    "                       'StackingClassifier']):\n",
    "\n",
    "    scores = model_selection.cross_val_score(clf, x_train, y_train, \n",
    "                                              cv=5, scoring='roc_auc')\n",
    "    print(\"Accuracy: %0.2f (+/- %0.2f) [%s]\" \n",
    "          % (scores.mean(), scores.std(), label))"
   ]
  },
  {
   "cell_type": "code",
   "execution_count": 112,
   "metadata": {
    "ExecuteTime": {
     "end_time": "2019-08-19T08:36:54.423135Z",
     "start_time": "2019-08-19T08:36:54.420702Z"
    }
   },
   "outputs": [],
   "source": [
    "# clfs = [clf_lr, clf_rf, clf_xgb, clf_stack]"
   ]
  },
  {
   "cell_type": "code",
   "execution_count": 128,
   "metadata": {
    "ExecuteTime": {
     "end_time": "2019-08-19T08:47:47.382886Z",
     "start_time": "2019-08-19T08:47:47.344772Z"
    }
   },
   "outputs": [],
   "source": [
    "clf_stack.predict??"
   ]
  },
  {
   "cell_type": "code",
   "execution_count": 130,
   "metadata": {
    "ExecuteTime": {
     "end_time": "2019-08-19T08:48:21.577215Z",
     "start_time": "2019-08-19T08:48:19.649571Z"
    }
   },
   "outputs": [
    {
     "name": "stderr",
     "output_type": "stream",
     "text": [
      "/opt/conda/lib/python3.6/site-packages/sklearn/linear_model/logistic.py:432: FutureWarning: Default solver will be changed to 'lbfgs' in 0.22. Specify a solver to silence this warning.\n",
      "  FutureWarning)\n",
      "/opt/conda/lib/python3.6/site-packages/sklearn/linear_model/logistic.py:432: FutureWarning: Default solver will be changed to 'lbfgs' in 0.22. Specify a solver to silence this warning.\n",
      "  FutureWarning)\n"
     ]
    },
    {
     "data": {
      "text/plain": [
       "StackingClassifier(average_probas=False,\n",
       "                   classifiers=[LogisticRegression(C=1.0, class_weight=None,\n",
       "                                                   dual=False,\n",
       "                                                   fit_intercept=True,\n",
       "                                                   intercept_scaling=1,\n",
       "                                                   l1_ratio=None, max_iter=100,\n",
       "                                                   multi_class='warn',\n",
       "                                                   n_jobs=None, penalty='l2',\n",
       "                                                   random_state=None,\n",
       "                                                   solver='warn', tol=0.0001,\n",
       "                                                   verbose=0,\n",
       "                                                   warm_start=False),\n",
       "                                RandomForestClassifier(bootstrap=False,\n",
       "                                                       class_weight=None,\n",
       "                                                       crite...\n",
       "                   meta_classifier=LogisticRegression(C=1.0, class_weight=None,\n",
       "                                                      dual=False,\n",
       "                                                      fit_intercept=True,\n",
       "                                                      intercept_scaling=1,\n",
       "                                                      l1_ratio=None,\n",
       "                                                      max_iter=100,\n",
       "                                                      multi_class='warn',\n",
       "                                                      n_jobs=None, penalty='l2',\n",
       "                                                      random_state=None,\n",
       "                                                      solver='warn', tol=0.0001,\n",
       "                                                      verbose=0,\n",
       "                                                      warm_start=False),\n",
       "                   store_train_meta_features=False, use_clones=True,\n",
       "                   use_features_in_secondary=False, use_probas=False,\n",
       "                   verbose=0)"
      ]
     },
     "execution_count": 130,
     "metadata": {},
     "output_type": "execute_result"
    }
   ],
   "source": [
    "clf_stack.fit(x_train, y_train)"
   ]
  },
  {
   "cell_type": "code",
   "execution_count": 131,
   "metadata": {
    "ExecuteTime": {
     "end_time": "2019-08-19T08:48:24.677248Z",
     "start_time": "2019-08-19T08:48:24.441335Z"
    }
   },
   "outputs": [
    {
     "data": {
      "text/plain": [
       "0.9795550210463019"
      ]
     },
     "execution_count": 131,
     "metadata": {},
     "output_type": "execute_result"
    }
   ],
   "source": [
    "clf_stack.score(x_train, y_train)"
   ]
  },
  {
   "cell_type": "code",
   "execution_count": 132,
   "metadata": {
    "ExecuteTime": {
     "end_time": "2019-08-19T08:48:35.974241Z",
     "start_time": "2019-08-19T08:48:35.851920Z"
    }
   },
   "outputs": [
    {
     "data": {
      "text/plain": [
       "0.7987377279102384"
      ]
     },
     "execution_count": 132,
     "metadata": {},
     "output_type": "execute_result"
    }
   ],
   "source": [
    "clf_stack.score(x_test, y_test)"
   ]
  },
  {
   "cell_type": "markdown",
   "metadata": {},
   "source": [
    "# 评分- 混淆矩阵 & precision_score & recall_score"
   ]
  },
  {
   "cell_type": "code",
   "execution_count": 119,
   "metadata": {
    "ExecuteTime": {
     "end_time": "2019-08-19T08:45:38.649299Z",
     "start_time": "2019-08-19T08:45:38.646187Z"
    }
   },
   "outputs": [],
   "source": [
    "# 混淆矩阵\n",
    "from sklearn.model_selection import cross_val_predict\n",
    "from sklearn.metrics import confusion_matrix, precision_score, recall_score, f1_score"
   ]
  },
  {
   "cell_type": "code",
   "execution_count": 120,
   "metadata": {
    "ExecuteTime": {
     "end_time": "2019-08-19T08:45:38.953906Z",
     "start_time": "2019-08-19T08:45:38.951920Z"
    }
   },
   "outputs": [],
   "source": [
    "# confusion_matrix??\n",
    "#     >>> tn, fp, fn, tp = confusion_matrix([0, 1, 0, 1], [1, 1, 1, 0]).ravel()\n",
    "#     >>> (tn, fp, fn, tp)\n",
    "#     (0, 2, 1, 1)"
   ]
  },
  {
   "cell_type": "code",
   "execution_count": 121,
   "metadata": {
    "ExecuteTime": {
     "end_time": "2019-08-19T08:45:40.164118Z",
     "start_time": "2019-08-19T08:45:40.159995Z"
    }
   },
   "outputs": [],
   "source": [
    "def get_P_R_value(y_test, y_test_pred):\n",
    "    obj = confusion_matrix(y_test, y_test_pred)\n",
    "    print('confusion_matrix\\n', obj)\n",
    "    score = (obj[0,0] + obj[1,1])/obj.sum()\n",
    "    print(f'score, {score:0.4f}')\n",
    "    P = precision_score(y_test, y_test_pred)\n",
    "    R = recall_score(y_test, y_test_pred)\n",
    "    F1 = f1_score(y_test, y_test_pred)\n",
    "    print(f'precision {P:0.4f}, recall {R:0.4f}, f1_score {F1:0.4f}')"
   ]
  },
  {
   "cell_type": "markdown",
   "metadata": {},
   "source": [
    "# 评分表格"
   ]
  },
  {
   "attachments": {
    "image.png": {
     "image/png": "[encoded data removed]"
    }
   },
   "cell_type": "markdown",
   "metadata": {},
   "source": [
    "![image.png](attachment:image.png)"
   ]
  },
  {
   "cell_type": "code",
   "execution_count": 122,
   "metadata": {
    "ExecuteTime": {
     "end_time": "2019-08-19T08:45:42.235927Z",
     "start_time": "2019-08-19T08:45:42.229850Z"
    }
   },
   "outputs": [],
   "source": [
    "from sklearn.model_selection import cross_val_predict\n",
    "from sklearn.metrics import confusion_matrix, precision_score, recall_score, f1_score, roc_auc_score\n",
    "\n",
    "def get_P_R_value(y_true, y_pred):\n",
    "    \"\"\"\n",
    "    :param y_true: \n",
    "    :param y_pred: \n",
    "    :returns: \n",
    "        # ['准确率_score', '精准率_precision', '召回率_recall', 'f1_score'],\n",
    "        # [score, P, R, F1]\n",
    "    :raises keyError: raises an exception\n",
    "    \"\"\"\n",
    "    obj = confusion_matrix(y_true, y_pred)\n",
    "    print('confusion_matrix\\n', obj)\n",
    "    score = (obj[0,0] + obj[1,1])/obj.sum()\n",
    "    print(f'score, {score:0.4f}')\n",
    "    P = precision_score(y_true, y_pred)\n",
    "    R = recall_score(y_true, y_pred)\n",
    "    F1 = f1_score(y_true, y_pred)\n",
    "    auc = roc_auc_score(y_true, y_pred)\n",
    "    print(f'precision {P:0.4f}, recall {R:0.4f}, f1_score {F1:0.4f}, auc {auc:0.4f}')\n",
    "    data = dict(zip(\n",
    "        ['score', 'precision', 'recall', 'f1_score', 'auc'],\n",
    "        [f'{score:0.4f}',f'{P:0.4f}', f'{R:0.4f}', f'{F1:0.4f}', f'{auc:0.4f}']\n",
    "    ))\n",
    "    return data"
   ]
  },
  {
   "cell_type": "code",
   "execution_count": null,
   "metadata": {},
   "outputs": [],
   "source": []
  },
  {
   "cell_type": "markdown",
   "metadata": {},
   "source": [
    "ROC曲线"
   ]
  },
  {
   "cell_type": "code",
   "execution_count": 99,
   "metadata": {
    "ExecuteTime": {
     "end_time": "2019-08-19T08:30:19.336639Z",
     "start_time": "2019-08-19T08:30:19.334048Z"
    }
   },
   "outputs": [],
   "source": [
    "from sklearn.metrics import roc_curve\n",
    "from sklearn.model_selection import cross_val_predict"
   ]
  },
  {
   "cell_type": "code",
   "execution_count": 100,
   "metadata": {
    "ExecuteTime": {
     "end_time": "2019-08-19T08:30:19.607283Z",
     "start_time": "2019-08-19T08:30:19.601465Z"
    }
   },
   "outputs": [],
   "source": [
    "clf_model = 'clf_lr'\n",
    "data_set = 'train'\n",
    "def get_roc_element(clf_model,data_set):\n",
    "\n",
    "    clf = eval(clf_model)\n",
    "    y_true = eval('y_%s' % data_set)\n",
    "    x = eval('x_%s' % data_set)\n",
    "    \n",
    "    if clf_model in ['clf_dt', 'clf_rf']:\n",
    "        y_probas = cross_val_predict(clf, x, y_true, cv=3, method='predict_proba')\n",
    "        y_scores = y_probas[:, 1]\n",
    "    else:\n",
    "        y_scores = cross_val_predict(clf, x, y_true, cv=3, method='decision_function')\n",
    "        \n",
    "    fpr, tpr, thresholds = roc_curve(y_true, y_scores)\n",
    "    roc_data = dict(zip(\n",
    "        ['clf_model', 'data_set', 'fpr', 'tpr', 'thresholds'],\n",
    "        [clf_model, data_set, fpr, tpr, thresholds]\n",
    "    ))\n",
    "    return roc_data"
   ]
  },
  {
   "cell_type": "code",
   "execution_count": 101,
   "metadata": {
    "ExecuteTime": {
     "end_time": "2019-08-19T08:30:20.940999Z",
     "start_time": "2019-08-19T08:30:20.937123Z"
    }
   },
   "outputs": [],
   "source": [
    "def plot_roc_curve(fpr, tpr, label=None):\n",
    "    plt.plot(fpr, tpr, linewidth = 2, label=label)\n",
    "    plt.plot([0,1],[0,1], 'k--')\n",
    "    plt.axis([0,1,0,1])\n",
    "    plt.xlabel('False Postivie Rate')\n",
    "    plt.ylabel('True Positive Rate')"
   ]
  },
  {
   "cell_type": "code",
   "execution_count": null,
   "metadata": {},
   "outputs": [],
   "source": []
  },
  {
   "cell_type": "markdown",
   "metadata": {},
   "source": [
    "# 结果汇总"
   ]
  },
  {
   "cell_type": "markdown",
   "metadata": {},
   "source": [
    "## 计算评分"
   ]
  },
  {
   "cell_type": "code",
   "execution_count": 133,
   "metadata": {
    "ExecuteTime": {
     "end_time": "2019-08-19T08:49:21.893710Z",
     "start_time": "2019-08-19T08:49:19.920144Z"
    }
   },
   "outputs": [
    {
     "name": "stdout",
     "output_type": "stream",
     "text": [
      "clf_lr >>> train\n",
      "confusion_matrix\n",
      " [[2362  117]\n",
      " [ 548  299]]\n",
      "score, 0.8001\n",
      "precision 0.7188, recall 0.3530, f1_score 0.4735, auc 0.6529\n",
      "clf_lr >>> test\n",
      "confusion_matrix\n",
      " [[1021   59]\n",
      " [ 223  123]]\n",
      "score, 0.8022\n",
      "precision 0.6758, recall 0.3555, f1_score 0.4659, auc 0.6504\n",
      "------------------------------\n",
      "clf_rf >>> train\n",
      "confusion_matrix\n",
      " [[2479    0]\n",
      " [  65  782]]\n",
      "score, 0.9805\n",
      "precision 1.0000, recall 0.9233, f1_score 0.9601, auc 0.9616\n",
      "clf_rf >>> test\n",
      "confusion_matrix\n",
      " [[1049   31]\n",
      " [ 254   92]]\n",
      "score, 0.8001\n",
      "precision 0.7480, recall 0.2659, f1_score 0.3923, auc 0.6186\n",
      "------------------------------\n",
      "clf_xgb >>> train\n",
      "confusion_matrix\n",
      " [[2419   60]\n",
      " [ 421  426]]\n",
      "score, 0.8554\n",
      "precision 0.8765, recall 0.5030, f1_score 0.6392, auc 0.7394\n",
      "clf_xgb >>> test\n",
      "confusion_matrix\n",
      " [[1022   58]\n",
      " [ 220  126]]\n",
      "score, 0.8050\n",
      "precision 0.6848, recall 0.3642, f1_score 0.4755, auc 0.6552\n",
      "------------------------------\n",
      "clf_vote >>> train\n",
      "confusion_matrix\n",
      " [[2434   45]\n",
      " [ 410  437]]\n",
      "score, 0.8632\n",
      "precision 0.9066, recall 0.5159, f1_score 0.6576, auc 0.7489\n",
      "clf_vote >>> test\n",
      "confusion_matrix\n",
      " [[1034   46]\n",
      " [ 231  115]]\n",
      "score, 0.8058\n",
      "precision 0.7143, recall 0.3324, f1_score 0.4536, auc 0.6449\n",
      "------------------------------\n",
      "clf_vote_s >>> train\n",
      "confusion_matrix\n",
      " [[2442   37]\n",
      " [ 410  437]]\n",
      "score, 0.8656\n",
      "precision 0.9219, recall 0.5159, f1_score 0.6616, auc 0.7505\n",
      "clf_vote_s >>> test\n",
      "confusion_matrix\n",
      " [[1031   49]\n",
      " [ 234  112]]\n",
      "score, 0.8015\n",
      "precision 0.6957, recall 0.3237, f1_score 0.4418, auc 0.6392\n",
      "------------------------------\n",
      "clf_stack >>> train\n",
      "confusion_matrix\n",
      " [[2479    0]\n",
      " [  68  779]]\n",
      "score, 0.9796\n",
      "precision 1.0000, recall 0.9197, f1_score 0.9582, auc 0.9599\n",
      "clf_stack >>> test\n",
      "confusion_matrix\n",
      " [[1050   30]\n",
      " [ 257   89]]\n",
      "score, 0.7987\n",
      "precision 0.7479, recall 0.2572, f1_score 0.3828, auc 0.6147\n",
      "------------------------------\n"
     ]
    },
    {
     "data": {
      "text/html": [
       "<div>\n",
       "<style scoped>\n",
       "    .dataframe tbody tr th:only-of-type {\n",
       "        vertical-align: middle;\n",
       "    }\n",
       "\n",
       "    .dataframe tbody tr th {\n",
       "        vertical-align: top;\n",
       "    }\n",
       "\n",
       "    .dataframe thead th {\n",
       "        text-align: right;\n",
       "    }\n",
       "</style>\n",
       "<table border=\"1\" class=\"dataframe\">\n",
       "  <thead>\n",
       "    <tr style=\"text-align: right;\">\n",
       "      <th></th>\n",
       "      <th>模型</th>\n",
       "      <th>数据集</th>\n",
       "      <th>准确率</th>\n",
       "      <th>精准率</th>\n",
       "      <th>召回率</th>\n",
       "      <th>F1_score</th>\n",
       "      <th>AUC值</th>\n",
       "    </tr>\n",
       "  </thead>\n",
       "  <tbody>\n",
       "    <tr>\n",
       "      <th>2</th>\n",
       "      <td>clf_rf</td>\n",
       "      <td>train</td>\n",
       "      <td>0.9805</td>\n",
       "      <td>1.0000</td>\n",
       "      <td>0.9233</td>\n",
       "      <td>0.9601</td>\n",
       "      <td>0.9616</td>\n",
       "    </tr>\n",
       "    <tr>\n",
       "      <th>10</th>\n",
       "      <td>clf_stack</td>\n",
       "      <td>train</td>\n",
       "      <td>0.9796</td>\n",
       "      <td>1.0000</td>\n",
       "      <td>0.9197</td>\n",
       "      <td>0.9582</td>\n",
       "      <td>0.9599</td>\n",
       "    </tr>\n",
       "    <tr>\n",
       "      <th>8</th>\n",
       "      <td>clf_vote_s</td>\n",
       "      <td>train</td>\n",
       "      <td>0.8656</td>\n",
       "      <td>0.9219</td>\n",
       "      <td>0.5159</td>\n",
       "      <td>0.6616</td>\n",
       "      <td>0.7505</td>\n",
       "    </tr>\n",
       "    <tr>\n",
       "      <th>6</th>\n",
       "      <td>clf_vote</td>\n",
       "      <td>train</td>\n",
       "      <td>0.8632</td>\n",
       "      <td>0.9066</td>\n",
       "      <td>0.5159</td>\n",
       "      <td>0.6576</td>\n",
       "      <td>0.7489</td>\n",
       "    </tr>\n",
       "    <tr>\n",
       "      <th>4</th>\n",
       "      <td>clf_xgb</td>\n",
       "      <td>train</td>\n",
       "      <td>0.8554</td>\n",
       "      <td>0.8765</td>\n",
       "      <td>0.5030</td>\n",
       "      <td>0.6392</td>\n",
       "      <td>0.7394</td>\n",
       "    </tr>\n",
       "    <tr>\n",
       "      <th>0</th>\n",
       "      <td>clf_lr</td>\n",
       "      <td>train</td>\n",
       "      <td>0.8001</td>\n",
       "      <td>0.7188</td>\n",
       "      <td>0.3530</td>\n",
       "      <td>0.4735</td>\n",
       "      <td>0.6529</td>\n",
       "    </tr>\n",
       "    <tr>\n",
       "      <th>5</th>\n",
       "      <td>clf_xgb</td>\n",
       "      <td>test</td>\n",
       "      <td>0.8050</td>\n",
       "      <td>0.6848</td>\n",
       "      <td>0.3642</td>\n",
       "      <td>0.4755</td>\n",
       "      <td>0.6552</td>\n",
       "    </tr>\n",
       "    <tr>\n",
       "      <th>1</th>\n",
       "      <td>clf_lr</td>\n",
       "      <td>test</td>\n",
       "      <td>0.8022</td>\n",
       "      <td>0.6758</td>\n",
       "      <td>0.3555</td>\n",
       "      <td>0.4659</td>\n",
       "      <td>0.6504</td>\n",
       "    </tr>\n",
       "    <tr>\n",
       "      <th>7</th>\n",
       "      <td>clf_vote</td>\n",
       "      <td>test</td>\n",
       "      <td>0.8058</td>\n",
       "      <td>0.7143</td>\n",
       "      <td>0.3324</td>\n",
       "      <td>0.4536</td>\n",
       "      <td>0.6449</td>\n",
       "    </tr>\n",
       "    <tr>\n",
       "      <th>9</th>\n",
       "      <td>clf_vote_s</td>\n",
       "      <td>test</td>\n",
       "      <td>0.8015</td>\n",
       "      <td>0.6957</td>\n",
       "      <td>0.3237</td>\n",
       "      <td>0.4418</td>\n",
       "      <td>0.6392</td>\n",
       "    </tr>\n",
       "    <tr>\n",
       "      <th>3</th>\n",
       "      <td>clf_rf</td>\n",
       "      <td>test</td>\n",
       "      <td>0.8001</td>\n",
       "      <td>0.7480</td>\n",
       "      <td>0.2659</td>\n",
       "      <td>0.3923</td>\n",
       "      <td>0.6186</td>\n",
       "    </tr>\n",
       "    <tr>\n",
       "      <th>11</th>\n",
       "      <td>clf_stack</td>\n",
       "      <td>test</td>\n",
       "      <td>0.7987</td>\n",
       "      <td>0.7479</td>\n",
       "      <td>0.2572</td>\n",
       "      <td>0.3828</td>\n",
       "      <td>0.6147</td>\n",
       "    </tr>\n",
       "  </tbody>\n",
       "</table>\n",
       "</div>"
      ],
      "text/plain": [
       "            模型    数据集     准确率     精准率     召回率 F1_score    AUC值\n",
       "2       clf_rf  train  0.9805  1.0000  0.9233   0.9601  0.9616\n",
       "10   clf_stack  train  0.9796  1.0000  0.9197   0.9582  0.9599\n",
       "8   clf_vote_s  train  0.8656  0.9219  0.5159   0.6616  0.7505\n",
       "6     clf_vote  train  0.8632  0.9066  0.5159   0.6576  0.7489\n",
       "4      clf_xgb  train  0.8554  0.8765  0.5030   0.6392  0.7394\n",
       "0       clf_lr  train  0.8001  0.7188  0.3530   0.4735  0.6529\n",
       "5      clf_xgb   test  0.8050  0.6848  0.3642   0.4755  0.6552\n",
       "1       clf_lr   test  0.8022  0.6758  0.3555   0.4659  0.6504\n",
       "7     clf_vote   test  0.8058  0.7143  0.3324   0.4536  0.6449\n",
       "9   clf_vote_s   test  0.8015  0.6957  0.3237   0.4418  0.6392\n",
       "3       clf_rf   test  0.8001  0.7480  0.2659   0.3923  0.6186\n",
       "11   clf_stack   test  0.7987  0.7479  0.2572   0.3828  0.6147"
      ]
     },
     "execution_count": 133,
     "metadata": {},
     "output_type": "execute_result"
    }
   ],
   "source": [
    "data_list = []\n",
    "def get_score(clf_model, data_set):\n",
    "    # clf_model\n",
    "    # ['clf_dt', 'clf_lr', 'clf_rf', 'clf_svm']\n",
    "    \n",
    "    # data_set\n",
    "    # train, test\n",
    "    data = {}\n",
    "    data['clf_model'] = clf_model\n",
    "    data['data_set'] = data_set\n",
    "    print(f'{clf_model} >>> {data_set}')\n",
    "    clf = eval(clf_model)\n",
    "    y_true = eval('y_%s' % data_set)\n",
    "    x = eval('x_%s' % data_set)\n",
    "    data.update(get_P_R_value(y_true, clf.predict(x)))\n",
    "    return data\n",
    "\n",
    "for clf_model in [ 'clf_lr', 'clf_rf', 'clf_xgb', 'clf_vote', 'clf_vote_s', 'clf_stack']:\n",
    "    for data_set in ['train', 'test']:\n",
    "        data = get_score(clf_model, data_set)\n",
    "        data_list.append(data)\n",
    "    print('-' * 30)\n",
    "\n",
    "\n",
    "df = pd.DataFrame(data_list, columns=['clf_model', 'data_set', 'score', 'precision', 'recall', 'f1_score', 'auc'])\n",
    "\n",
    "# df.clf_model = df.clf_model.replace(['clf_lr','clf_svm', 'clf_dt',  'clf_rf', 'clf_xgb'],\n",
    "#                     ['逻辑回归', 'SVM', '决策树', '随机森林', 'XGBoost']\n",
    "# )\n",
    "# df.data_set = df.data_set.replace(['train','test', ],\n",
    "#                     ['训练集', '测试集']\n",
    "# )\n",
    "\n",
    "df.columns = ['模型', '数据集', '准确率', '精准率', '召回率', 'F1_score', 'AUC值']\n",
    "\n",
    "df.sort_values(['数据集', 'AUC值'], ascending=False)"
   ]
  },
  {
   "cell_type": "code",
   "execution_count": 106,
   "metadata": {
    "ExecuteTime": {
     "end_time": "2019-08-19T08:32:38.352718Z",
     "start_time": "2019-08-19T08:32:38.349839Z"
    }
   },
   "outputs": [],
   "source": [
    "# plt.figure(figsize=(12, 8))\n",
    "\n",
    "# ### LR\n",
    "# clf_model = 'clf_lr'\n",
    "# # roc_data_train = get_roc_element(clf_model,'train')\n",
    "# roc_data_test = get_roc_element(clf_model,'test')\n",
    "\n",
    "# # plot_roc_curve(roc_data_train['fpr'], roc_data_train['tpr'], label='lr_train')\n",
    "# plot_roc_curve(roc_data_test['fpr'], roc_data_test['tpr'], label='lr_test')\n",
    "\n",
    "\n",
    "# ### RondomForest\n",
    "# clf_model = 'clf_rf'\n",
    "# roc_data_train = get_roc_element(clf_model,'train')\n",
    "# roc_data_test = get_roc_element(clf_model,'test')\n",
    "\n",
    "# # plot_roc_curve(roc_data_train['fpr'], roc_data_train['tpr'], label='rf_train')\n",
    "# plot_roc_curve(roc_data_test['fpr'], roc_data_test['tpr'], label='rf_test')\n",
    "\n",
    "\n",
    "\n",
    "# ### vote\n",
    "# clf_model = 'clf_vote'\n",
    "# roc_data_train = get_roc_element(clf_model,'train')\n",
    "# roc_data_test = get_roc_element(clf_model,'test')\n",
    "\n",
    "# # plot_roc_curve(roc_data_train['fpr'], roc_data_train['tpr'], label='rf_train')\n",
    "# plot_roc_curve(roc_data_test['fpr'], roc_data_test['tpr'], label='rf_test')\n",
    "\n",
    "\n",
    "# plt.legend()\n",
    "# plt.show()"
   ]
  },
  {
   "cell_type": "markdown",
   "metadata": {},
   "source": [
    "## 输出"
   ]
  },
  {
   "cell_type": "code",
   "execution_count": 134,
   "metadata": {
    "ExecuteTime": {
     "end_time": "2019-08-19T08:49:37.487138Z",
     "start_time": "2019-08-19T08:49:37.471175Z"
    }
   },
   "outputs": [
    {
     "data": {
      "text/html": [
       "<div>\n",
       "<style scoped>\n",
       "    .dataframe tbody tr th:only-of-type {\n",
       "        vertical-align: middle;\n",
       "    }\n",
       "\n",
       "    .dataframe tbody tr th {\n",
       "        vertical-align: top;\n",
       "    }\n",
       "\n",
       "    .dataframe thead th {\n",
       "        text-align: right;\n",
       "    }\n",
       "</style>\n",
       "<table border=\"1\" class=\"dataframe\">\n",
       "  <thead>\n",
       "    <tr style=\"text-align: right;\">\n",
       "      <th></th>\n",
       "      <th>模型</th>\n",
       "      <th>数据集</th>\n",
       "      <th>准确率</th>\n",
       "      <th>精准率</th>\n",
       "      <th>召回率</th>\n",
       "      <th>F1_score</th>\n",
       "      <th>AUC值</th>\n",
       "    </tr>\n",
       "  </thead>\n",
       "  <tbody>\n",
       "    <tr>\n",
       "      <th>5</th>\n",
       "      <td>clf_xgb</td>\n",
       "      <td>test</td>\n",
       "      <td>0.8050</td>\n",
       "      <td>0.6848</td>\n",
       "      <td>0.3642</td>\n",
       "      <td>0.4755</td>\n",
       "      <td>0.6552</td>\n",
       "    </tr>\n",
       "    <tr>\n",
       "      <th>1</th>\n",
       "      <td>clf_lr</td>\n",
       "      <td>test</td>\n",
       "      <td>0.8022</td>\n",
       "      <td>0.6758</td>\n",
       "      <td>0.3555</td>\n",
       "      <td>0.4659</td>\n",
       "      <td>0.6504</td>\n",
       "    </tr>\n",
       "    <tr>\n",
       "      <th>7</th>\n",
       "      <td>clf_vote</td>\n",
       "      <td>test</td>\n",
       "      <td>0.8058</td>\n",
       "      <td>0.7143</td>\n",
       "      <td>0.3324</td>\n",
       "      <td>0.4536</td>\n",
       "      <td>0.6449</td>\n",
       "    </tr>\n",
       "    <tr>\n",
       "      <th>9</th>\n",
       "      <td>clf_vote_s</td>\n",
       "      <td>test</td>\n",
       "      <td>0.8015</td>\n",
       "      <td>0.6957</td>\n",
       "      <td>0.3237</td>\n",
       "      <td>0.4418</td>\n",
       "      <td>0.6392</td>\n",
       "    </tr>\n",
       "    <tr>\n",
       "      <th>3</th>\n",
       "      <td>clf_rf</td>\n",
       "      <td>test</td>\n",
       "      <td>0.8001</td>\n",
       "      <td>0.7480</td>\n",
       "      <td>0.2659</td>\n",
       "      <td>0.3923</td>\n",
       "      <td>0.6186</td>\n",
       "    </tr>\n",
       "    <tr>\n",
       "      <th>11</th>\n",
       "      <td>clf_stack</td>\n",
       "      <td>test</td>\n",
       "      <td>0.7987</td>\n",
       "      <td>0.7479</td>\n",
       "      <td>0.2572</td>\n",
       "      <td>0.3828</td>\n",
       "      <td>0.6147</td>\n",
       "    </tr>\n",
       "  </tbody>\n",
       "</table>\n",
       "</div>"
      ],
      "text/plain": [
       "            模型   数据集     准确率     精准率     召回率 F1_score    AUC值\n",
       "5      clf_xgb  test  0.8050  0.6848  0.3642   0.4755  0.6552\n",
       "1       clf_lr  test  0.8022  0.6758  0.3555   0.4659  0.6504\n",
       "7     clf_vote  test  0.8058  0.7143  0.3324   0.4536  0.6449\n",
       "9   clf_vote_s  test  0.8015  0.6957  0.3237   0.4418  0.6392\n",
       "3       clf_rf  test  0.8001  0.7480  0.2659   0.3923  0.6186\n",
       "11   clf_stack  test  0.7987  0.7479  0.2572   0.3828  0.6147"
      ]
     },
     "execution_count": 134,
     "metadata": {},
     "output_type": "execute_result"
    }
   ],
   "source": [
    "cond = df.数据集 == \"test\"\n",
    "df[cond].sort_values(['数据集', 'AUC值'], ascending=False)"
   ]
  },
  {
   "cell_type": "code",
   "execution_count": null,
   "metadata": {},
   "outputs": [],
   "source": []
  },
  {
   "cell_type": "markdown",
   "metadata": {},
   "source": [
    "# 目前最优模型"
   ]
  },
  {
   "cell_type": "markdown",
   "metadata": {},
   "source": [
    "clf_xgb"
   ]
  },
  {
   "cell_type": "code",
   "execution_count": 135,
   "metadata": {
    "ExecuteTime": {
     "end_time": "2019-08-19T08:50:00.369576Z",
     "start_time": "2019-08-19T08:50:00.365205Z"
    }
   },
   "outputs": [
    {
     "data": {
      "text/plain": [
       "XGBClassifier(base_score=0.5, booster='gbtree', colsample_bylevel=1,\n",
       "              colsample_bynode=1, colsample_bytree=0.7, gamma=0,\n",
       "              learning_rate=0.01, max_delta_step=0, max_depth=5,\n",
       "              min_child_weight=10, missing=None, n_estimators=500, n_jobs=1,\n",
       "              nthread=-1, objective='binary:logistic', random_state=0,\n",
       "              reg_alpha=0, reg_lambda=1, scale_pos_weight=1, seed=1440,\n",
       "              silent=True, subsample=0.85, verbosity=1)"
      ]
     },
     "execution_count": 135,
     "metadata": {},
     "output_type": "execute_result"
    }
   ],
   "source": [
    "clf_xgb"
   ]
  },
  {
   "cell_type": "code",
   "execution_count": null,
   "metadata": {},
   "outputs": [],
   "source": []
  }
 ],
 "metadata": {
  "kernelspec": {
   "display_name": "Python 3",
   "language": "python",
   "name": "python3"
  },
  "language_info": {
   "codemirror_mode": {
    "name": "ipython",
    "version": 3
   },
   "file_extension": ".py",
   "mimetype": "text/x-python",
   "name": "python",
   "nbconvert_exporter": "python",
   "pygments_lexer": "ipython3",
   "version": "3.6.8"
  },
  "toc": {
   "base_numbering": 1,
   "nav_menu": {
    "height": "146.989px",
    "width": "197.67px"
   },
   "number_sections": true,
   "sideBar": true,
   "skip_h1_title": false,
   "title_cell": "Table of Contents",
   "title_sidebar": "Contents",
   "toc_cell": true,
   "toc_position": {
    "height": "319.938px",
    "left": "29px",
    "top": "110px",
    "width": "165px"
   },
   "toc_section_display": true,
   "toc_window_display": true
  }
 },
 "nbformat": 4,
 "nbformat_minor": 2
}
